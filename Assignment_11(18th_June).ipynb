{
  "nbformat": 4,
  "nbformat_minor": 0,
  "metadata": {
    "colab": {
      "provenance": [],
      "authorship_tag": "ABX9TyOC1ZZ9Dwpu7mDb2mbmob+4",
      "include_colab_link": true
    },
    "kernelspec": {
      "name": "python3",
      "display_name": "Python 3"
    },
    "language_info": {
      "name": "python"
    }
  },
  "cells": [
    {
      "cell_type": "markdown",
      "metadata": {
        "id": "view-in-github",
        "colab_type": "text"
      },
      "source": [
        "<a href=\"https://colab.research.google.com/github/Shahidshaikh25/Assignments/blob/main/Assignment_11(18th_June).ipynb\" target=\"_parent\"><img src=\"https://colab.research.google.com/assets/colab-badge.svg\" alt=\"Open In Colab\"/></a>"
      ]
    },
    {
      "cell_type": "markdown",
      "source": [
        "**1. What is the role of the 'else' block in a try-except statement? Provide an example scenario where it would be useful.**\n",
        "\n",
        "**Ans 1:**"
      ],
      "metadata": {
        "id": "z8_KvDvumuWp"
      }
    },
    {
      "cell_type": "markdown",
      "source": [
        "In a try-except statement, the 'else' block is an optional part that can be included after the 'try' and 'except' blocks. Its purpose is to specify a block of code that should be executed only if no exceptions are raised within the 'try' block."
      ],
      "metadata": {
        "id": "iQVWoXqbmubx"
      }
    },
    {
      "cell_type": "code",
      "source": [
        "# Example\n",
        "def divide_numbers(a, b):\n",
        "    try:\n",
        "        result = a / b\n",
        "    except ZeroDivisionError:\n",
        "        print(\"Error: Cannot divide by zero!\")\n",
        "    else:\n",
        "        print(f\"The result of the division is: {result}\")\n",
        "\n",
        "\n",
        "divide_numbers(10,0)"
      ],
      "metadata": {
        "colab": {
          "base_uri": "https://localhost:8080/"
        },
        "id": "TbrlGkhdnGXh",
        "outputId": "8618e254-bc33-46e3-9c55-6c0582bb5922"
      },
      "execution_count": null,
      "outputs": [
        {
          "output_type": "stream",
          "name": "stdout",
          "text": [
            "Error: Cannot divide by zero!\n"
          ]
        }
      ]
    },
    {
      "cell_type": "markdown",
      "source": [
        "**2. Can a try-except block be nested inside another try-except block? Explain with an example.**\n",
        "\n",
        "**Ans 2:**"
      ],
      "metadata": {
        "id": "f5z44nbNm_tT"
      }
    },
    {
      "cell_type": "markdown",
      "source": [
        "Yes, a try-except block can be nested inside another try-except block. This concept is known as \"nested exception handling\" or \"exception chaining.\" It allows to handle different levels of exceptions separately and provides more granular control over error handling in complex scenarios."
      ],
      "metadata": {
        "id": "pnG9na6vnFtS"
      }
    },
    {
      "cell_type": "code",
      "source": [
        "# Example\n",
        "def divide_numbers(a, b):\n",
        "    try:\n",
        "        try:\n",
        "            result = a / b\n",
        "        except ZeroDivisionError:\n",
        "            raise ValueError(\"Cannot divide by zero!\")\n",
        "    except ValueError as ve:\n",
        "        print(f\"Error: {ve}\")\n",
        "    else:\n",
        "        print(f\"The result of the division is: {result}\")\n",
        "\n",
        "\n",
        "divide_numbers(10,0)"
      ],
      "metadata": {
        "colab": {
          "base_uri": "https://localhost:8080/"
        },
        "id": "PEvZk98FoF24",
        "outputId": "388cd3f0-6b5b-4bf7-fc8d-948de4017287"
      },
      "execution_count": null,
      "outputs": [
        {
          "output_type": "stream",
          "name": "stdout",
          "text": [
            "Error: Cannot divide by zero!\n"
          ]
        }
      ]
    },
    {
      "cell_type": "markdown",
      "source": [
        "**3. How can you create a custom exception class in Python? Provide an example that demonstrates its usage.**\n",
        "\n",
        "**Ans 3:**"
      ],
      "metadata": {
        "id": "g7ZMOegCmukK"
      }
    },
    {
      "cell_type": "markdown",
      "source": [
        "In Python, We can create custom exception classes by defining a new class that inherits from the built-in Exception class or any of its subclasses. This allows you to create specialized exception types that can be used to handle specific error conditions in your code."
      ],
      "metadata": {
        "id": "fa6oTUJ3oFTJ"
      }
    },
    {
      "cell_type": "code",
      "source": [
        "# Example\n",
        "class bot(Exception):\n",
        "    pass\n",
        "\n",
        "n = 18\n",
        "try:\n",
        "    b = int(input(\"Enter your age: \"))\n",
        "    if b < n:\n",
        "        raise bot\n",
        "    else:\n",
        "        print(\"you can vote\")\n",
        "except bot:\n",
        "    print(\"You are under age\")"
      ],
      "metadata": {
        "colab": {
          "base_uri": "https://localhost:8080/"
        },
        "id": "59YRh7-uo_rU",
        "outputId": "3d90bb09-4ae1-4157-9767-c43aceef75c8"
      },
      "execution_count": null,
      "outputs": [
        {
          "output_type": "stream",
          "name": "stdout",
          "text": [
            "Enter your age: 20\n",
            "you can vote\n"
          ]
        }
      ]
    },
    {
      "cell_type": "markdown",
      "source": [
        "**4. What are some common exceptions that are built-in to Python?**\n",
        "\n",
        "**Ans 4:**"
      ],
      "metadata": {
        "id": "Ss58bdygtPrE"
      }
    },
    {
      "cell_type": "markdown",
      "source": [
        "**Common types of exceptions are:**\n",
        "\n",
        "**ZeroDivisionError:** Raised when the second argument of a division or modulo operation is zero.\n",
        "\n",
        "**TypeError:** Raised when an operation or function is applied to an object of inappropriate type.\n",
        "\n",
        "**ValueError:** Raised when a built-in operation or function receives an argument that has the right type but an inappropriate value.\n",
        "\n",
        "**IndexError:** Raised when a sequence subscript is out of range.\n",
        "\n",
        "**KeyError:** Raised when a dictionary key is not found.\n",
        "\n",
        "**FileNotFoundError:** Raised when a file or directory is requested but doesn’t exist.\n",
        "\n",
        "**IOError:** Raised when an I/O operation (such as a print statement, the built-in open() function or a method of a file object) fails for an I/O-related reason.\n",
        "\n",
        "**ImportError:** Raised when an import statement fails to find the module definition or when a from ... import fails to find a name that is to be imported.\n",
        "\n",
        "**MemoryError:** Raised when an operation runs out of memory.\n",
        "\n",
        "**OverflowError:** Raised when the result of an arithmetic operation is too large to be expressed by the normal number format.\n",
        "\n",
        "**AttributeError:** Raised when an attribute reference or assignment fails.\n",
        "\n",
        "**SyntaxError:** Raised when the parser encounters a syntax error.\n",
        "\n",
        "**IndentationError:** Raised when there is incorrect indentation.\n",
        "\n",
        "**NameError:** Raised when a local or global name is not found."
      ],
      "metadata": {
        "id": "GtN4F-MPtPuk"
      }
    },
    {
      "cell_type": "markdown",
      "source": [
        "**5. What is logging in Python, and why is it important in software development**\n",
        "\n",
        "**Ans 5:**"
      ],
      "metadata": {
        "id": "L5C0L6I2uOMw"
      }
    },
    {
      "cell_type": "markdown",
      "source": [
        "Logging in Python refers to the process of recording and storing messages, events, or information during the execution of a program. It involves creating log records that contain relevant details about the application's behavior, errors, warnings, and other important events. Python provides a built-in module called logging that allows developers to implement logging functionality easily.\n",
        "\n",
        "By using logging, developers can avoid printing messages to the console directly, which could clutter the output. Instead, they can control the level of detail and direct logs to various destinations, such as files or remote servers. This helps in identifying and resolving issues efficiently, ensuring better maintainability and reliability in software development."
      ],
      "metadata": {
        "id": "QaW1ExG2uq-O"
      }
    },
    {
      "cell_type": "markdown",
      "source": [],
      "metadata": {
        "id": "f5K7n78HwbWv"
      }
    },
    {
      "cell_type": "markdown",
      "source": [
        "log levels are used to categorize and prioritize log messages based on their importance or severity. Log levels enable developers to control which messages should be recorded and displayed, allowing them to focus on the most critical information during debugging and monitoring.\n",
        "\n",
        "**DEBUG:** Detailed information, typically of interest only when diagnosing problems.\n",
        "**INFO:** Confirmation that things are working as expected.\n",
        "**WARNING:** An indication that something unexpected happened, or may happen in the future (e.g. ‘disk space low’). The software is still working as expected.\n",
        "**ERROR:** More serious problem that prevented the software from performing a function.\n",
        "**CRITICAL:** A very serious error, indicating that the program itself may be unable to continue running."
      ],
      "metadata": {
        "id": "O7xhvYfewbZ_"
      }
    },
    {
      "cell_type": "code",
      "source": [
        "# DEBUG\n",
        "import logging\n",
        "\n",
        "logging.basicConfig(level=logging.DEBUG)\n",
        "\n",
        "def add(x, y):\n",
        "    logging.debug('Variables are %s and %s', x, y)\n",
        "    return x + y\n",
        "\n",
        "add(1, 2)"
      ],
      "metadata": {
        "id": "NrWLXFsowqUB"
      },
      "execution_count": null,
      "outputs": []
    },
    {
      "cell_type": "code",
      "source": [
        "# INFO\n",
        "import logging\n",
        "\n",
        "logging.basicConfig(level=logging.INFO)\n",
        "\n",
        "def login(user):\n",
        "    logging.info('User %s logged in', user)\n",
        "\n",
        "login('Admin User')"
      ],
      "metadata": {
        "id": "zFtRuXXUxg-2"
      },
      "execution_count": null,
      "outputs": []
    },
    {
      "cell_type": "code",
      "source": [
        "# WARNING\n",
        "import logging\n",
        "\n",
        "logging.basicConfig(level=logging.WARNING)\n",
        "\n",
        "def MyBalance(amount):\n",
        "    if amount < 40000:\n",
        "        logging.warning('Sorry you have Low balance: %s', amount)\n",
        "\n",
        "MyBalance(10000)"
      ],
      "metadata": {
        "id": "Ej7dQoMuxhKf"
      },
      "execution_count": null,
      "outputs": []
    },
    {
      "cell_type": "code",
      "source": [
        "# ERROR\n",
        "\n",
        "import logging\n",
        "\n",
        "logging.basicConfig(level=logging.ERROR)\n",
        "\n",
        "def LetUsDivide(n, d):\n",
        "    try:\n",
        "        result = n / d\n",
        "    except ZeroDivisionError:\n",
        "        logging.error('You are trying to divide by zero, which is not allowed')\n",
        "    else:\n",
        "        return result\n",
        "\n",
        "LetUsDivide(4, 0)"
      ],
      "metadata": {
        "id": "MMz7uzZwxhSl"
      },
      "execution_count": null,
      "outputs": []
    },
    {
      "cell_type": "code",
      "source": [
        "# CRITICAL\n",
        "import logging\n",
        "\n",
        "logging.basicConfig(level=logging.CRITICAL)\n",
        "\n",
        "def LetUsCheckSystem(sys):\n",
        "    if sys != 'OK':\n",
        "        logging.critical('System failure: %s', sys)\n",
        "\n",
        "LetUsCheckSystem('You need to handle the issue now')"
      ],
      "metadata": {
        "id": "Bwu-6R-9yNjV"
      },
      "execution_count": null,
      "outputs": []
    },
    {
      "cell_type": "markdown",
      "source": [
        "**7. What are log formatters in Python logging, and how can you customise the log message format using formatters?**\n",
        "\n",
        "**Ans 7:**"
      ],
      "metadata": {
        "id": "A0K0T_4EScrq"
      }
    },
    {
      "cell_type": "markdown",
      "source": [
        "log formatters are objects responsible for defining the structure and content of log messages before they are output to the log handlers. They allow you to customize the format of log messages by specifying a set of variables, such as timestamp, log level, logger name, and the actual log message itself.\n",
        "\n",
        "To customize the log message format using formatters, you can follow these steps:\n",
        "\n",
        "Create a logging formatter object using the logging.Formatter class.\n",
        "\n",
        "Define the desired log message format using format specifiers and placeholders for the variables you want to include (e.g., %(asctime)s for timestamp, %(levelname)s for log level, %(name)s for logger name).\n",
        "\n",
        "Set the formatter for your desired log handler(s) using the setFormatter() method.\n",
        "\n",
        "Attach the handler(s) to the logger.\n",
        "\n",
        "Log messages will now be formatted according to the specified format."
      ],
      "metadata": {
        "id": "FQbXWoCPTM3T"
      }
    },
    {
      "cell_type": "code",
      "source": [
        "import logging\n",
        "\n",
        "# Creat a logging formatter\n",
        "log_formatter = logging.Formatter('%(asctime)s - %(name)s - %(levelname)s - %(message)s')\n",
        "\n",
        "# Create a logger and set its level\n",
        "logger = logging.getLogger('my_logger')\n",
        "logger.setLevel(logging.DEBUG)\n",
        "\n",
        "# Create a file handler and set the formatter\n",
        "file_handler = logging.FileHandler('my_log_file.log')\n",
        "file_handler.setFormatter(log_formatter)\n",
        "\n",
        "# Attach the handler to the logger\n",
        "logger.addHandler(file_handler)\n",
        "\n",
        "# Log messages will now be formatted as specified in the formatter\n",
        "logger.debug('This is a debug message.')\n",
        "logger.info('This is an info message.')"
      ],
      "metadata": {
        "colab": {
          "base_uri": "https://localhost:8080/"
        },
        "id": "R71y2vzKTM_k",
        "outputId": "fef57975-dc54-48df-a3bf-8e9334e43326"
      },
      "execution_count": 1,
      "outputs": [
        {
          "output_type": "stream",
          "name": "stderr",
          "text": [
            "DEBUG:my_logger:This is a debug message.\n",
            "INFO:my_logger:This is an info message.\n"
          ]
        }
      ]
    },
    {
      "cell_type": "markdown",
      "source": [
        "**8. How can you set up logging to capture log messages from multiple modules or classes in a Python application?**\n",
        "\n",
        "**Ans 8:**"
      ],
      "metadata": {
        "id": "FlXi5kk1UFSU"
      }
    },
    {
      "cell_type": "markdown",
      "source": [
        "To capture log messages from multiple modules or classes in a Python application, we have follow these steps:\n",
        "\n",
        "Import the logging module.\n",
        "\n",
        "Create a logger using logging.getLogger(__name__) in each module or class where you want to log messages. The __name__ attribute ensures that the logger is named after the module or class, enabling better log organization.\n",
        "\n",
        "Set the desired log level for each logger using the setLevel() method.\n",
        "\n",
        "Create log handlers, such as logging.FileHandler or logging.StreamHandler, and attach them to the loggers using the addHandler() method.\n",
        "\n",
        "Log messages in your modules or classes using the loggers' methods like debug(), info(), warning(), error(), or critical()."
      ],
      "metadata": {
        "id": "1YAzcG20UGbI"
      }
    },
    {
      "cell_type": "code",
      "source": [
        "# module 1\n",
        "import logging\n",
        "\n",
        "logger = logging.getLogger(__name__)\n",
        "logger.setLevel(logging.DEBUG)\n",
        "\n",
        "file_handler = logging.FileHandler('module1.log')\n",
        "file_handler.setFormatter(logging.Formatter('%(asctime)s - %(name)s - %(levelname)s - %(message)s'))\n",
        "logger.addHandler(file_handler)\n",
        "\n",
        "logger.debug('This is a debug message from module1.')"
      ],
      "metadata": {
        "colab": {
          "base_uri": "https://localhost:8080/"
        },
        "id": "sPOt7fLkUGN4",
        "outputId": "feb9b7fd-0444-4e15-83b8-3ef7de5823c0"
      },
      "execution_count": 3,
      "outputs": [
        {
          "output_type": "stream",
          "name": "stderr",
          "text": [
            "DEBUG - This is a debug message from module1.\n",
            "DEBUG:__main__:This is a debug message from module1.\n"
          ]
        }
      ]
    },
    {
      "cell_type": "code",
      "source": [
        "# module 2\n",
        "import logging\n",
        "\n",
        "logger = logging.getLogger(__name__)\n",
        "logger.setLevel(logging.INFO)\n",
        "\n",
        "stream_handler = logging.StreamHandler()\n",
        "stream_handler.setFormatter(logging.Formatter('%(levelname)s - %(message)s'))\n",
        "logger.addHandler(stream_handler)\n",
        "\n",
        "logger.info('This is an info message from module2.')\n",
        "\n",
        "\n",
        "# Each logger can have different logging levels and output destinations."
      ],
      "metadata": {
        "colab": {
          "base_uri": "https://localhost:8080/"
        },
        "id": "5eU_iw5hUFda",
        "outputId": "fc2d208d-f9ce-456c-90d8-d78ce7b38437"
      },
      "execution_count": 4,
      "outputs": [
        {
          "output_type": "stream",
          "name": "stderr",
          "text": [
            "INFO - This is an info message from module2.\n",
            "INFO - This is an info message from module2.\n",
            "INFO:__main__:This is an info message from module2.\n"
          ]
        }
      ]
    },
    {
      "cell_type": "markdown",
      "source": [
        "**9. What is the difference between the logging and print statements in Python? When should you use logging over print statements in a real-world application?**\n",
        "\n",
        "**Ans 9:**"
      ],
      "metadata": {
        "id": "2lhVoNYuVbHW"
      }
    },
    {
      "cell_type": "markdown",
      "source": [
        "print statements are primarily used for simple debugging or quick output to the console during development. On the other hand, the logging module is specifically designed for flexible and structured logging, making it more suitable for production-ready applications.\n",
        "\n",
        "print statements are coarser and less structured, while logging allows you to categorize log messages with different severity levels (e.g., debug, info, warning, error, critical).\n",
        "\n",
        "The logging module provides fine-grained control over log outputs, allowing you to specify different log levels, output destinations (e.g., file, console), and log formatting.\n",
        "\n",
        "With logging, you can enable or disable log messages based on their severity levels dynamically. This means you can control the verbosity of log messages without modifying the code.\n",
        "\n",
        "In real-world applications, it is recommended to use logging over print statements because logging provides a standardized way to record valuable information about the application's behavior. This information can be useful for debugging, monitoring, and understanding how the application is performing in production."
      ],
      "metadata": {
        "id": "AqACSU7WVbMn"
      }
    },
    {
      "cell_type": "markdown",
      "source": [
        "**10. Write a Python program that logs a message to a file named \"app.log\" with the following requirements:**\n",
        "\n",
        "● **The log message should be \"Hello, World!\"**\n",
        "\n",
        "● **The log level should be set to \"INFO.\"**\n",
        "\n",
        "● **The log file should append new log entries without overwriting previous ones.**\n",
        "\n",
        "**Ans 10:**"
      ],
      "metadata": {
        "id": "FVEGCt9UWh_B"
      }
    },
    {
      "cell_type": "code",
      "source": [
        "import logging\n",
        "\n",
        "def setup_logging():\n",
        "    # Create a logger instance\n",
        "    logger = logging.getLogger('my_app')\n",
        "    logger.setLevel(logging.INFO)\n",
        "\n",
        "    # Create a file handler with append mode\n",
        "    file_handler = logging.FileHandler('app.log', mode='a')\n",
        "\n",
        "    # Create a log formatter\n",
        "    log_formatter = logging.Formatter('%(asctime)s - %(levelname)s - %(message)s')\n",
        "    file_handler.setFormatter(log_formatter)\n",
        "\n",
        "    # Attach the handler to the logger\n",
        "    logger.addHandler(file_handler)\n",
        "\n",
        "    return logger\n",
        "\n",
        "if __name__ == \"__main__\":\n",
        "    # Set up logging\n",
        "    logger = setup_logging()\n",
        "\n",
        "    # Log the message\n",
        "    logger.info(\"Hello, World!\")\n"
      ],
      "metadata": {
        "colab": {
          "base_uri": "https://localhost:8080/"
        },
        "id": "HTdU7Djahbga",
        "outputId": "789b0ae8-7ff3-4f94-9afc-d45c591af3bd"
      },
      "execution_count": 5,
      "outputs": [
        {
          "output_type": "stream",
          "name": "stderr",
          "text": [
            "INFO:my_app:Hello, World!\n"
          ]
        }
      ]
    },
    {
      "cell_type": "markdown",
      "source": [
        "**11. Create a Python program that logs an error message to the console and a file named \"errors.log\" if an exception occurs during the program's execution. The error message should include the exception type and a timestamp.**\n",
        "\n",
        "**Ans 11:**"
      ],
      "metadata": {
        "id": "zvqtYbikhPMF"
      }
    },
    {
      "cell_type": "code",
      "source": [
        "import logging\n",
        "import traceback\n",
        "import datetime\n",
        "\n",
        "# Set up logging\n",
        "logging.basicConfig(level=logging.ERROR, filename='errors.log', filemode='a', format='%(asctime)s - %(levelname)s - %(message)s')\n",
        "\n",
        "try:\n",
        "    # Your main program logic here\n",
        "    # For demonstration, let's cause an exception\n",
        "    num1 = 10\n",
        "    num2 = 0\n",
        "    result = num1 / num2\n",
        "    print(\"Result:\", result)  # This line will cause a ZeroDivisionError\n",
        "except Exception as e:\n",
        "    # Log the error message with exception type and timestamp\n",
        "    timestamp = datetime.datetime.now().strftime('%Y-%m-%d %H:%M:%S')\n",
        "    logging.error(f\"Exception occurred at {timestamp}: {type(e).__name__}\\n{traceback.format_exc()}\")\n"
      ],
      "metadata": {
        "colab": {
          "base_uri": "https://localhost:8080/"
        },
        "id": "gnQsQpo5i3gK",
        "outputId": "9ed94524-b2f8-4101-c32b-0593408c31d4"
      },
      "execution_count": 8,
      "outputs": [
        {
          "output_type": "stream",
          "name": "stderr",
          "text": [
            "ERROR:root:Exception occurred at 2023-08-06 15:51:32: ZeroDivisionError\n",
            "Traceback (most recent call last):\n",
            "  File \"<ipython-input-8-5af3030409c5>\", line 13, in <cell line: 8>\n",
            "    result = num1 / num2\n",
            "ZeroDivisionError: division by zero\n",
            "\n"
          ]
        }
      ]
    }
  ]
}