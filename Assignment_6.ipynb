{
  "nbformat": 4,
  "nbformat_minor": 0,
  "metadata": {
    "colab": {
      "provenance": [],
      "authorship_tag": "ABX9TyMnZCJcxqzuZr6hIMfVwA0c",
      "include_colab_link": true
    },
    "kernelspec": {
      "name": "python3",
      "display_name": "Python 3"
    },
    "language_info": {
      "name": "python"
    }
  },
  "cells": [
    {
      "cell_type": "markdown",
      "metadata": {
        "id": "view-in-github",
        "colab_type": "text"
      },
      "source": [
        "<a href=\"https://colab.research.google.com/github/Shahidshaikh25/Assignments/blob/main/Assignment_6.ipynb\" target=\"_parent\"><img src=\"https://colab.research.google.com/assets/colab-badge.svg\" alt=\"Open In Colab\"/></a>"
      ]
    },
    {
      "cell_type": "markdown",
      "source": [
        "**Q.1. What are keywords in python? Using the keyword library, print all the python keywords.**\n",
        "\n",
        "**Ans 1:**"
      ],
      "metadata": {
        "id": "e_8xFOZGwfvi"
      }
    },
    {
      "cell_type": "markdown",
      "source": [
        "Keywords in Python are reserved words that cannot be used as ordinary identifiers.\n",
        "They are used to define the syntax and structure of the Python language."
      ],
      "metadata": {
        "id": "draDLf4fwiwr"
      }
    },
    {
      "cell_type": "code",
      "source": [
        "import keyword\n",
        "\n",
        "print(keyword.kwlist)"
      ],
      "metadata": {
        "colab": {
          "base_uri": "https://localhost:8080/"
        },
        "id": "D9o_44IHxOmj",
        "outputId": "6a5115f4-a5b5-431f-b03a-6f55e30faf4d"
      },
      "execution_count": null,
      "outputs": [
        {
          "output_type": "stream",
          "name": "stdout",
          "text": [
            "['False', 'None', 'True', 'and', 'as', 'assert', 'async', 'await', 'break', 'class', 'continue', 'def', 'del', 'elif', 'else', 'except', 'finally', 'for', 'from', 'global', 'if', 'import', 'in', 'is', 'lambda', 'nonlocal', 'not', 'or', 'pass', 'raise', 'return', 'try', 'while', 'with', 'yield']\n"
          ]
        }
      ]
    },
    {
      "cell_type": "markdown",
      "source": [
        "**Q.2. What are the rules to create variables in python?**\n",
        "\n",
        "**Ans 2:**"
      ],
      "metadata": {
        "id": "5kAr2jQsxfuh"
      }
    },
    {
      "cell_type": "markdown",
      "source": [
        "The first character of the variable can be an alphabet or (_) underscore.\n",
        "\n",
        "Special characters (@, #, %, ^, &, *) should not be used in variable name.\n",
        "\n",
        "Variable names are case sensitive. For example - age and AGE are two different variables.\n",
        "\n",
        "Reserve words cannot be declared as variables.\n"
      ],
      "metadata": {
        "id": "YX7Ws9rVx53z"
      }
    },
    {
      "cell_type": "markdown",
      "source": [
        "**Q.3. What are the standards and conventions followed for the nomenclature of variables in\n",
        "python to improve code readability and maintainability?**\n",
        "\n",
        "**Ans 3:**\n"
      ],
      "metadata": {
        "id": "Mp4_un2Ay3cP"
      }
    },
    {
      "cell_type": "markdown",
      "source": [
        "Use grammatically correct variable names, the class name should start with an uppercase and must follow camelCase convention If more than two words are to be used. In the same way, a function name should be joined with an underscore, and it must be lowercase.\n",
        "\n",
        "In method arguments, always use self as the first argument to declare an instance variable. In the same way, use ‘cls’ for the first argument for the class method. If the function name clashes with a reserved argument, use an underscore instead of a wrong spelling.\n",
        "\n",
        "Constants are declared in all capital letters.\n"
      ],
      "metadata": {
        "id": "5zwdHtNA0CZy"
      }
    },
    {
      "cell_type": "markdown",
      "source": [
        "**Q.4. What will happen if a keyword is used as a variable name?**\n",
        "\n",
        "**Ans 4:**"
      ],
      "metadata": {
        "id": "8vFsAIeU0YdM"
      }
    },
    {
      "cell_type": "code",
      "source": [
        "True = 15"
      ],
      "metadata": {
        "colab": {
          "base_uri": "https://localhost:8080/",
          "height": 130
        },
        "id": "dVP9lG5i1HJT",
        "outputId": "8e84e443-61aa-4789-ff57-909a6b1145bf"
      },
      "execution_count": null,
      "outputs": [
        {
          "output_type": "error",
          "ename": "SyntaxError",
          "evalue": "ignored",
          "traceback": [
            "\u001b[0;36m  File \u001b[0;32m\"<ipython-input-10-e480b4bde604>\"\u001b[0;36m, line \u001b[0;32m1\u001b[0m\n\u001b[0;31m    True = 15\u001b[0m\n\u001b[0m    ^\u001b[0m\n\u001b[0;31mSyntaxError\u001b[0m\u001b[0;31m:\u001b[0m cannot assign to True\n"
          ]
        }
      ]
    },
    {
      "cell_type": "markdown",
      "source": [
        "keywords are special words that have a meaning in Python, so we cannot use them as variable names. We will get a 'SyntaxError' if we try to do that"
      ],
      "metadata": {
        "id": "Sw-nrEpt1Pbz"
      }
    },
    {
      "cell_type": "markdown",
      "source": [
        "**Q.5. For what purpose def keyword is used?**\n",
        "\n",
        "**Ans 5:**\n"
      ],
      "metadata": {
        "id": "LmQqT26V1ck1"
      }
    },
    {
      "cell_type": "markdown",
      "source": [
        "The **def** keyword is used to create, or define a function."
      ],
      "metadata": {
        "id": "VA-_ZSYP2Ef_"
      }
    },
    {
      "cell_type": "code",
      "source": [
        "def greeting():\n",
        "    print(\"Hello\")\n",
        "greeting()"
      ],
      "metadata": {
        "colab": {
          "base_uri": "https://localhost:8080/"
        },
        "id": "V1YXLriL1820",
        "outputId": "5ae0cd0e-0552-41fb-cb0e-ca49b1a259ee"
      },
      "execution_count": null,
      "outputs": [
        {
          "output_type": "stream",
          "name": "stdout",
          "text": [
            "Hello\n"
          ]
        }
      ]
    },
    {
      "cell_type": "markdown",
      "source": [
        "**Q.6. What is the operation of this special character ‘\\’?**\n",
        "\n",
        "**Ans 6:**"
      ],
      "metadata": {
        "id": "rWRouUTN6YMd"
      }
    },
    {
      "cell_type": "markdown",
      "source": [
        "Special character '\\' is called as Escape Sequences.\n",
        "\n",
        "escape sequence is a sequence of characters with special meaning when used inside a string or a character.\n",
        "\n",
        "\\'\tPrints a single quote inside a string enclosed with single quotes.\n",
        "\n",
        "\\\"\tPrints a double quote inside a string enclosed with double-quotes.\n",
        "\n",
        "\\n\tPrints the succeeding part of \\n even if in the same line, in a new line"
      ],
      "metadata": {
        "id": "8Mz33HQ-8e1v"
      }
    },
    {
      "cell_type": "markdown",
      "source": [
        "**Q.7. Give an example of the following conditions:**\n",
        "\n",
        "**(i) Homogeneous list**\n",
        "\n",
        "**(ii) Heterogeneous set**\n",
        "\n",
        "**(iii) Homogeneous tuple**\n",
        "\n",
        "**Ans 7:**\n",
        "\n",
        "**Homogeneous:** It only contains a single type of data.\n",
        "**Heterogeneous:** It can be of any type numeric, string, boolean, objects, etc"
      ],
      "metadata": {
        "id": "7STn1bLk9Dzo"
      }
    },
    {
      "cell_type": "code",
      "source": [
        "#Homogeneous list\n",
        "a = [\"apple\", \"guava\", \"grapes\", \"watermelon\"]\n",
        "\n",
        "#Heterogeneous set\n",
        "b = {\"king\", 21, (1, 2, 3), True}\n",
        "\n",
        "#Homogeneous tuple\n",
        "c = (21, 22, 45, 53)"
      ],
      "metadata": {
        "id": "LRb77gLY9c92"
      },
      "execution_count": 3,
      "outputs": []
    },
    {
      "cell_type": "markdown",
      "source": [
        "**Q.8. Explain the mutable and immutable data types with proper explanation & examples.**"
      ],
      "metadata": {
        "id": "RFWdOQz-AaW7"
      }
    },
    {
      "cell_type": "markdown",
      "source": [
        "mutable data types in Python are those whose value can be changed in place after they have been created.\n",
        "\n",
        "Python mutable data types:\n",
        "\n",
        "Lists\n",
        "\n",
        "Dictionaries\n",
        "\n",
        "Sets"
      ],
      "metadata": {
        "id": "JpHBmoxyAjCS"
      }
    },
    {
      "cell_type": "code",
      "source": [
        "#list\n",
        "my_list = [1,2,3,4,5]\n",
        "my_list.append(6)\n",
        "print(my_list)"
      ],
      "metadata": {
        "colab": {
          "base_uri": "https://localhost:8080/"
        },
        "id": "80pTXLZzAryn",
        "outputId": "e9576be5-b785-4f18-cb9a-6a1e9068c8f8"
      },
      "execution_count": 6,
      "outputs": [
        {
          "output_type": "stream",
          "name": "stdout",
          "text": [
            "[1, 2, 3, 4, 5, 6]\n"
          ]
        }
      ]
    },
    {
      "cell_type": "code",
      "source": [
        "#Dictionaries\n",
        "my_dict = {\"name\": \"shahid\", \"age\": 21, \"country\": \"india\"}\n",
        "my_dict[\"state\"] = \"mumbai\"\n",
        "print(my_dict)"
      ],
      "metadata": {
        "colab": {
          "base_uri": "https://localhost:8080/"
        },
        "id": "xVSAm2hZCHLf",
        "outputId": "fc686d06-0c97-4094-cc05-9fa671c6e808"
      },
      "execution_count": 10,
      "outputs": [
        {
          "output_type": "stream",
          "name": "stdout",
          "text": [
            "{'name': 'shahid', 'age': 21, 'country': 'india', 'state': 'mumbai'}\n"
          ]
        }
      ]
    },
    {
      "cell_type": "code",
      "source": [
        "#Set\n",
        "my_set = {1, 2, 3, 4, 5}\n",
        "my_set.add(6)\n",
        "print(my_set)"
      ],
      "metadata": {
        "colab": {
          "base_uri": "https://localhost:8080/"
        },
        "id": "HHdWVKkPDHGH",
        "outputId": "80caf07f-0ed2-4dfd-8e7b-4e90f32f9167"
      },
      "execution_count": 12,
      "outputs": [
        {
          "output_type": "stream",
          "name": "stdout",
          "text": [
            "{1, 2, 3, 4, 5, 6}\n"
          ]
        }
      ]
    },
    {
      "cell_type": "markdown",
      "source": [
        "immutable data type, we cannot change or update it.\n",
        "\n",
        "Python immutable data types: Tuple"
      ],
      "metadata": {
        "id": "9KrXqY_BDBcK"
      }
    },
    {
      "cell_type": "code",
      "source": [
        "#Tuple\n",
        "my_tup = ('hello', 'welcome', 'python')\n",
        "my_tup[2] = 'by'\n",
        "#If we try to change or assign the item it will throw an Error"
      ],
      "metadata": {
        "colab": {
          "base_uri": "https://localhost:8080/",
          "height": 217
        },
        "id": "N0BGTsJ5EhTE",
        "outputId": "426bdaae-8682-4799-9b0c-5c26575ac973"
      },
      "execution_count": 16,
      "outputs": [
        {
          "output_type": "error",
          "ename": "TypeError",
          "evalue": "ignored",
          "traceback": [
            "\u001b[0;31m---------------------------------------------------------------------------\u001b[0m",
            "\u001b[0;31mTypeError\u001b[0m                                 Traceback (most recent call last)",
            "\u001b[0;32m<ipython-input-16-fafb648eb267>\u001b[0m in \u001b[0;36m<cell line: 3>\u001b[0;34m()\u001b[0m\n\u001b[1;32m      1\u001b[0m \u001b[0;31m#Tuple\u001b[0m\u001b[0;34m\u001b[0m\u001b[0;34m\u001b[0m\u001b[0m\n\u001b[1;32m      2\u001b[0m \u001b[0mmy_tup\u001b[0m \u001b[0;34m=\u001b[0m \u001b[0;34m(\u001b[0m\u001b[0;34m'hello'\u001b[0m\u001b[0;34m,\u001b[0m \u001b[0;34m'welcome'\u001b[0m\u001b[0;34m,\u001b[0m \u001b[0;34m'python'\u001b[0m\u001b[0;34m)\u001b[0m\u001b[0;34m\u001b[0m\u001b[0;34m\u001b[0m\u001b[0m\n\u001b[0;32m----> 3\u001b[0;31m \u001b[0mmy_tup\u001b[0m\u001b[0;34m[\u001b[0m\u001b[0;36m2\u001b[0m\u001b[0;34m]\u001b[0m \u001b[0;34m=\u001b[0m \u001b[0;34m'by'\u001b[0m\u001b[0;34m\u001b[0m\u001b[0;34m\u001b[0m\u001b[0m\n\u001b[0m\u001b[1;32m      4\u001b[0m \u001b[0;31m#If we try to change or assign the item it will throw an Error\u001b[0m\u001b[0;34m\u001b[0m\u001b[0;34m\u001b[0m\u001b[0m\n",
            "\u001b[0;31mTypeError\u001b[0m: 'tuple' object does not support item assignment"
          ]
        }
      ]
    },
    {
      "cell_type": "markdown",
      "source": [
        "**Q.9. Write a code to create the given structure using only for loop.**"
      ],
      "metadata": {
        "id": "S1YzehGQFdoS"
      }
    },
    {
      "cell_type": "code",
      "source": [
        "     *\n",
        "    ***\n",
        "   *****\n",
        "  *******\n",
        " *********"
      ],
      "metadata": {
        "id": "pRs7X7WVFxzK"
      },
      "execution_count": 18,
      "outputs": []
    },
    {
      "cell_type": "code",
      "source": [
        "# Ans 9:\n",
        "rows = 5\n",
        "\n",
        "for i in range(rows):\n",
        "    for j in range(rows - i - 1):\n",
        "        print(\" \", end=\"\")\n",
        "\n",
        "    for k in range(2 * i + 1):\n",
        "        print(\"*\", end=\"\")\n",
        "\n",
        "    print()"
      ],
      "metadata": {
        "colab": {
          "base_uri": "https://localhost:8080/"
        },
        "id": "5z_600zNGEiW",
        "outputId": "15224886-07c3-45f3-f42b-06e5b69de8cd"
      },
      "execution_count": 39,
      "outputs": [
        {
          "output_type": "stream",
          "name": "stdout",
          "text": [
            "    *\n",
            "   ***\n",
            "  *****\n",
            " *******\n",
            "*********\n"
          ]
        }
      ]
    },
    {
      "cell_type": "markdown",
      "source": [
        "**Q.10. Write a code to create the given structure using while loop.**"
      ],
      "metadata": {
        "id": "6w_2JMNzLVin"
      }
    },
    {
      "cell_type": "code",
      "source": [
        "|||||||||\n",
        " |||||||\n",
        "  |||||\n",
        "   |||\n",
        "    |"
      ],
      "metadata": {
        "id": "7r9CXOZfPXuu"
      },
      "execution_count": null,
      "outputs": []
    },
    {
      "cell_type": "code",
      "source": [
        "row = 5\n",
        "while row >= 1:\n",
        "\n",
        "    i = 5 - row\n",
        "    while i > 0:\n",
        "        print(\" \", end=\"\")\n",
        "        i -= 1\n",
        "\n",
        "\n",
        "    j = row * 2 - 1\n",
        "    while j > 0:\n",
        "        print(\"|\", end=\"\")\n",
        "        j -= 1\n",
        "\n",
        "    print()\n",
        "\n",
        "    row -= 1"
      ],
      "metadata": {
        "colab": {
          "base_uri": "https://localhost:8080/"
        },
        "id": "HEdybBhjMi7A",
        "outputId": "bea752b0-4cbc-4fdd-b6c3-97d99d750cf7"
      },
      "execution_count": 4,
      "outputs": [
        {
          "output_type": "stream",
          "name": "stdout",
          "text": [
            "|||||||||\n",
            " |||||||\n",
            "  |||||\n",
            "   |||\n",
            "    |\n"
          ]
        }
      ]
    }
  ]
}