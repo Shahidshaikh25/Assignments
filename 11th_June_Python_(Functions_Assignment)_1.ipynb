{
  "nbformat": 4,
  "nbformat_minor": 0,
  "metadata": {
    "colab": {
      "provenance": [],
      "authorship_tag": "ABX9TyPERgp08O2i5veV1MzEyhwP",
      "include_colab_link": true
    },
    "kernelspec": {
      "name": "python3",
      "display_name": "Python 3"
    },
    "language_info": {
      "name": "python"
    }
  },
  "cells": [
    {
      "cell_type": "markdown",
      "metadata": {
        "id": "view-in-github",
        "colab_type": "text"
      },
      "source": [
        "<a href=\"https://colab.research.google.com/github/Shahidshaikh25/Assignments/blob/main/11th_June_Python_(Functions_Assignment)_1.ipynb\" target=\"_parent\"><img src=\"https://colab.research.google.com/assets/colab-badge.svg\" alt=\"Open In Colab\"/></a>"
      ]
    },
    {
      "cell_type": "markdown",
      "source": [
        "**1. What is a lambda function in Python, and how does it differ from a regular function?**\n",
        "\n",
        "**Ans 1:**"
      ],
      "metadata": {
        "id": "WNtmyUKS_0LQ"
      }
    },
    {
      "cell_type": "markdown",
      "source": [
        "**lambda function** is a small anonymous function that can have any number of arguments but can only have one expression. It is also known as a lambda expression.\n",
        "\n"
      ],
      "metadata": {
        "id": "THzvwMH7AzFS"
      }
    },
    {
      "cell_type": "code",
      "source": [
        "add = lambda x, y: x + y\n",
        "result = add(3, 5)\n",
        "print(result)"
      ],
      "metadata": {
        "colab": {
          "base_uri": "https://localhost:8080/"
        },
        "id": "S0f8VMfRA-Wt",
        "outputId": "ea2cc47b-50b3-4f3f-cf2f-0e587e0f2809"
      },
      "execution_count": null,
      "outputs": [
        {
          "output_type": "stream",
          "name": "stdout",
          "text": [
            "8\n"
          ]
        }
      ]
    },
    {
      "cell_type": "markdown",
      "source": [
        "**Lambda functions** are typically used when you need a simple function for a short period, and you don't want to define a full-fledged function using the **def** keyword.\n",
        "\n",
        "For more complex tasks or functions with multiple statements, it's better to use regular functions defined with **def**. This allows for better readability, reusability, and maintainability of the code."
      ],
      "metadata": {
        "id": "rb6ngkw7BPp4"
      }
    },
    {
      "cell_type": "markdown",
      "source": [
        "**2. Can a lambda function in Python have multiple arguments? If yes, how can you define and use them?**\n",
        "\n",
        "**Ans 2:**"
      ],
      "metadata": {
        "id": "f5qMBGKgBpOT"
      }
    },
    {
      "cell_type": "markdown",
      "source": [
        "Yes, a lambda function in Python can have multiple arguments. The syntax for a lambda function with multiple arguments is the same as for a single argument, but you can specify multiple arguments separated by commas."
      ],
      "metadata": {
        "id": "WVImuIMXB_l8"
      }
    },
    {
      "cell_type": "code",
      "source": [
        "mutiplication = lambda x, y, z: x * y * z\n",
        "result = mutiplication(2, 3, 4)\n",
        "print(result)\n",
        "#x, y, and z are the three arguments of the lambda function"
      ],
      "metadata": {
        "colab": {
          "base_uri": "https://localhost:8080/"
        },
        "id": "evId5-vfCDrx",
        "outputId": "15ba128d-b659-4744-9f6d-b728bb5b03f0"
      },
      "execution_count": null,
      "outputs": [
        {
          "output_type": "stream",
          "name": "stdout",
          "text": [
            "24\n"
          ]
        }
      ]
    },
    {
      "cell_type": "markdown",
      "source": [
        "**3. How are lambda functions typically used in Python? Provide an example use case.**\n",
        "\n",
        "**Ans 3:**"
      ],
      "metadata": {
        "id": "TiZgY-DCCaNO"
      }
    },
    {
      "cell_type": "markdown",
      "source": [
        "**Lambda functions** in Python are typically used in scenarios where you need a small, simple function for a short period, and you don't want to define a full-fledged function using the def keyword. They are commonly employed as arguments to higher-order functions such as map(), filter(), sorted(), and reduce(), where a quick and concise function is required."
      ],
      "metadata": {
        "id": "YUB2Fe9bDDOe"
      }
    },
    {
      "cell_type": "code",
      "source": [
        "#Using def\n",
        "list1 = [\"shahid\", \"saurav\", \"sachin\", \"vishal\"]\n",
        "\n",
        "def startswith_v(name):\n",
        "    return name.startswith(\"v\")\n",
        "\n",
        "list2 = filter(startswith_v, list1)\n",
        "print(list(list2))"
      ],
      "metadata": {
        "colab": {
          "base_uri": "https://localhost:8080/"
        },
        "id": "6Yj1P0vVCjKl",
        "outputId": "7156bbf4-b588-4e6e-bce2-cdd71f56f6f8"
      },
      "execution_count": null,
      "outputs": [
        {
          "output_type": "stream",
          "name": "stdout",
          "text": [
            "['vishal']\n"
          ]
        }
      ]
    },
    {
      "cell_type": "code",
      "source": [
        "# Using Lambda function\n",
        "filtered_names_lambda = filter(lambda name: name.startswith('v'), list1)\n",
        "print(list(filtered_names_lambda))"
      ],
      "metadata": {
        "colab": {
          "base_uri": "https://localhost:8080/"
        },
        "id": "pJM4VpC8FW0b",
        "outputId": "5b6fe3d3-4b56-48b8-fd9e-970f68c8d29a"
      },
      "execution_count": null,
      "outputs": [
        {
          "output_type": "stream",
          "name": "stdout",
          "text": [
            "['vishal']\n"
          ]
        }
      ]
    },
    {
      "cell_type": "markdown",
      "source": [
        "**4. What are the advantages and limitations of lambda functions compared to regular functions in Python?**\n",
        "\n",
        "**Ans 4:**"
      ],
      "metadata": {
        "id": "fm9ytF5HF8ro"
      }
    },
    {
      "cell_type": "markdown",
      "source": [
        "**Advantages of Lambda Functions:**\n",
        "\n",
        "Lambda functions are much more concise compared to regular functions defined with the def keyword.\n",
        "\n",
        "Lambda functions are anonymous, meaning they don't have a formal name.\n",
        "\n",
        "For some simple operations, a lambda function can make the code more readable, especially when used with higher-order functions like map(), filter(), and sorted().\n",
        "\n",
        "**Limitations of Lambda Functions:**\n",
        "\n",
        "Lambda functions are limited to a single expression. This means they are not suitable for more complex tasks that require multiple statements or control flow (if-else, loops, etc.).\n",
        "\n",
        "Due to their simplicity, lambda functions lack the versatility of regular functions. They can only perform tasks that can be expressed in a single expression.\n",
        "\n",
        "Lambda functions cannot contain statements like print or assert, and they cannot have docstrings."
      ],
      "metadata": {
        "id": "wUXqwjNGF8yJ"
      }
    },
    {
      "cell_type": "markdown",
      "source": [
        "**5. Are lambda functions in Python able to access variables defined outside of their own scope? Explain with an example.**\n",
        "\n",
        "**Ans 5:**"
      ],
      "metadata": {
        "id": "1hx42mF4Im5a"
      }
    },
    {
      "cell_type": "markdown",
      "source": [
        "**lambda functions** in Python can access variables from the enclosing scope, just like regular functions. This behavior is known as \"lexical scoping\" or \"closure.\" When a lambda function is defined, it retains access to the variables that were in the scope where it was created."
      ],
      "metadata": {
        "id": "jNCiPfrRJU1B"
      }
    },
    {
      "cell_type": "code",
      "source": [
        "def outer_function():\n",
        "    x = 10\n",
        "    my_lambda = lambda y: x + y\n",
        "    return my_lambda\n",
        "\n",
        "lambda_func = outer_function()\n",
        "\n",
        "print(lambda_func(5))"
      ],
      "metadata": {
        "colab": {
          "base_uri": "https://localhost:8080/"
        },
        "id": "wAMn3AGcIulL",
        "outputId": "aaadb11c-70ec-4540-8d4b-4176839c8f3b"
      },
      "execution_count": 28,
      "outputs": [
        {
          "output_type": "stream",
          "name": "stdout",
          "text": [
            "15\n"
          ]
        }
      ]
    },
    {
      "cell_type": "markdown",
      "source": [
        "**6. Write a lambda function to calculate the square of a given number.**\n",
        "\n",
        "**Ans 6:**"
      ],
      "metadata": {
        "id": "nsuW_cLLxbyu"
      }
    },
    {
      "cell_type": "code",
      "source": [
        "square = lambda x: x**2\n",
        "result = square(5)\n",
        "print(result)"
      ],
      "metadata": {
        "colab": {
          "base_uri": "https://localhost:8080/"
        },
        "id": "lgI2PfpAxdBq",
        "outputId": "770e4a67-c081-4b97-9cf2-6faea06b8450"
      },
      "execution_count": 1,
      "outputs": [
        {
          "output_type": "stream",
          "name": "stdout",
          "text": [
            "25\n"
          ]
        }
      ]
    },
    {
      "cell_type": "markdown",
      "source": [
        "**7. Create a lambda function to find the maximum value in a list of integers.**\n",
        "\n",
        "**Ans 7:**"
      ],
      "metadata": {
        "id": "QB4juMd92Kdb"
      }
    },
    {
      "cell_type": "code",
      "source": [
        "find_max = lambda list1: max(list1)\n",
        "\n",
        "list1 = [1, 10, 99, 131, 10]\n",
        "result = find_max(list1)\n",
        "print(result)"
      ],
      "metadata": {
        "colab": {
          "base_uri": "https://localhost:8080/"
        },
        "id": "2Sf5D00l2lZw",
        "outputId": "248e5ce3-3619-4d1d-e230-20ae415cf041"
      },
      "execution_count": 2,
      "outputs": [
        {
          "output_type": "stream",
          "name": "stdout",
          "text": [
            "131\n"
          ]
        }
      ]
    },
    {
      "cell_type": "markdown",
      "source": [
        "**8. Implement a lambda function to filter out all the even numbers from a list of integers.**\n",
        "\n",
        "**Ans 8:**"
      ],
      "metadata": {
        "id": "i9cboVRF3SmU"
      }
    },
    {
      "cell_type": "code",
      "source": [
        "filter_even = lambda list1: list(filter(lambda x: x % 2 == 0, list1))\n",
        "\n",
        "list1 = [1, 10, 99, 131, 10]\n",
        "result = filter_even(list1)\n",
        "print(result)\n"
      ],
      "metadata": {
        "colab": {
          "base_uri": "https://localhost:8080/"
        },
        "id": "L2mOSkv23Y5Y",
        "outputId": "bf3319b3-abdc-42c4-ee94-09f64c981423"
      },
      "execution_count": 5,
      "outputs": [
        {
          "output_type": "stream",
          "name": "stdout",
          "text": [
            "[10, 10]\n"
          ]
        }
      ]
    },
    {
      "cell_type": "markdown",
      "source": [
        "**9. Write a lambda function to sort a list of strings in ascending order based on the length of each string.**\n",
        "\n",
        "**Ans 9:**"
      ],
      "metadata": {
        "id": "6F67KTyq3YVC"
      }
    },
    {
      "cell_type": "code",
      "source": [
        "sort_by_length = lambda list1: sorted(list1, key=lambda x: len(x))\n",
        "\n",
        "list1 = [\"apple\", \"banana\", \"cherry\", \"date\", \"grape\"]\n",
        "result = sort_by_length(list1)\n",
        "print(result)"
      ],
      "metadata": {
        "colab": {
          "base_uri": "https://localhost:8080/"
        },
        "id": "29QDXeEg8O91",
        "outputId": "f9cbb7d8-8bf0-4b67-e46e-0b36ea17d35e"
      },
      "execution_count": 10,
      "outputs": [
        {
          "output_type": "stream",
          "name": "stdout",
          "text": [
            "['date', 'apple', 'grape', 'banana', 'cherry']\n"
          ]
        }
      ]
    },
    {
      "cell_type": "markdown",
      "source": [
        "**10. Create a lambda function that takes two lists as input and returns a new list containing the common elements between the two lists.**\n",
        "\n",
        "**Ans 10:**"
      ],
      "metadata": {
        "id": "5uj-T4bE9Ql-"
      }
    },
    {
      "cell_type": "code",
      "source": [
        "find_common_elements = lambda list1, list2: list(filter(lambda x: x in list2, list1))\n",
        "\n",
        "list1 = [1, 2, 3, 4, 5]\n",
        "list2 = [3, 4, 5, 6, 7]\n",
        "result = find_common_elements(list1, list2)\n",
        "print(result)"
      ],
      "metadata": {
        "colab": {
          "base_uri": "https://localhost:8080/"
        },
        "id": "islHJgas9i_3",
        "outputId": "deb9c7e9-9f90-4252-b05b-dee3b7e3162f"
      },
      "execution_count": 11,
      "outputs": [
        {
          "output_type": "stream",
          "name": "stdout",
          "text": [
            "[3, 4, 5]\n"
          ]
        }
      ]
    },
    {
      "cell_type": "markdown",
      "source": [
        "**11. Write a recursive function to calculate the factorial of a given positive integer.**\n",
        "\n",
        "**Ans 11:**"
      ],
      "metadata": {
        "id": "5kpvE3SF93j6"
      }
    },
    {
      "cell_type": "code",
      "source": [
        "def factorial(n):\n",
        "    if n == 0:\n",
        "        return 1\n",
        "    else:\n",
        "        return n * factorial(n - 1)\n",
        "\n",
        "\n",
        "factorial(5)"
      ],
      "metadata": {
        "colab": {
          "base_uri": "https://localhost:8080/"
        },
        "id": "kh-mCrmk93DE",
        "outputId": "530f30f0-38e7-4efa-af37-34e23af870f7"
      },
      "execution_count": 13,
      "outputs": [
        {
          "output_type": "execute_result",
          "data": {
            "text/plain": [
              "120"
            ]
          },
          "metadata": {},
          "execution_count": 13
        }
      ]
    },
    {
      "cell_type": "markdown",
      "source": [
        "**12. Implement a recursive function to compute the nth Fibonacci number.**\n",
        "\n",
        "**Ans 12:**"
      ],
      "metadata": {
        "id": "_noqTa4P-SZi"
      }
    },
    {
      "cell_type": "code",
      "source": [
        "def fibonacci(n):\n",
        "    if n <= 0:\n",
        "        return None\n",
        "    elif n == 1:\n",
        "        return 0\n",
        "    elif n == 2:\n",
        "        return 1\n",
        "    else:\n",
        "        return fibonacci(n - 1) + fibonacci(n - 2)\n",
        "\n",
        "\n",
        "fibonacci(6)"
      ],
      "metadata": {
        "colab": {
          "base_uri": "https://localhost:8080/"
        },
        "id": "FskTNOci-SsK",
        "outputId": "d82723bd-e913-4667-b234-c569a1872ff7"
      },
      "execution_count": 16,
      "outputs": [
        {
          "output_type": "execute_result",
          "data": {
            "text/plain": [
              "5"
            ]
          },
          "metadata": {},
          "execution_count": 16
        }
      ]
    },
    {
      "cell_type": "markdown",
      "source": [
        "**13. Create a recursive function to find the sum of all the elements in a given list.**\n",
        "\n",
        "**Ans 13:**"
      ],
      "metadata": {
        "id": "cJLhKxjF-7oK"
      }
    },
    {
      "cell_type": "code",
      "source": [
        "def list_sum(list1):\n",
        "    if not list1:\n",
        "        return 0\n",
        "    else:\n",
        "        return list1[0] + list_sum(list1[1:])\n",
        "\n",
        "list1 = [1, 2, 3, 4, 5]\n",
        "result = list_sum(list1)\n",
        "print(result)"
      ],
      "metadata": {
        "colab": {
          "base_uri": "https://localhost:8080/"
        },
        "id": "Q8speZyR-7z7",
        "outputId": "3376eef8-7631-45bf-8a63-b67c35c27c30"
      },
      "execution_count": 20,
      "outputs": [
        {
          "output_type": "stream",
          "name": "stdout",
          "text": [
            "15\n"
          ]
        }
      ]
    },
    {
      "cell_type": "markdown",
      "source": [
        "**14. Write a recursive function to determine whether a given string is a palindrome.**\n",
        "\n",
        "**Ans 14:**"
      ],
      "metadata": {
        "id": "lCDRmXiN_7iN"
      }
    },
    {
      "cell_type": "code",
      "source": [
        "def is_palindrome(s):\n",
        "    if len(s) <= 1:\n",
        "        return True\n",
        "    elif s[0] == s[-1]:\n",
        "        return is_palindrome(s[1:-1])\n",
        "    else:\n",
        "        return False\n",
        "\n",
        "\n",
        "result1 = is_palindrome(\"radar\")\n",
        "print(result1)\n",
        "\n",
        "result2 = is_palindrome(\"hello\")\n",
        "print(result2)"
      ],
      "metadata": {
        "colab": {
          "base_uri": "https://localhost:8080/"
        },
        "id": "Bnkvhoo9_7uc",
        "outputId": "71ae9966-8991-4440-bf28-6a9f86d2b12a"
      },
      "execution_count": 21,
      "outputs": [
        {
          "output_type": "stream",
          "name": "stdout",
          "text": [
            "True\n",
            "False\n"
          ]
        }
      ]
    },
    {
      "cell_type": "markdown",
      "source": [
        "**15. Implement a recursive function to find the greatest common divisor (GCD) of two positive integers.**\n",
        "\n",
        "**Ans 15:**"
      ],
      "metadata": {
        "id": "l69LiUSWJjzs"
      }
    },
    {
      "cell_type": "code",
      "source": [
        "def gcd(a, b):\n",
        "    if b == 0:\n",
        "        return a\n",
        "    else:\n",
        "        return gcd(b, a % b)\n",
        "\n",
        "\n",
        "result = gcd(12, 28)\n",
        "print(result)"
      ],
      "metadata": {
        "colab": {
          "base_uri": "https://localhost:8080/"
        },
        "id": "03bDiFUAJj-r",
        "outputId": "d9bf2679-9db1-4873-c1a5-d0361b2f9e89"
      },
      "execution_count": 24,
      "outputs": [
        {
          "output_type": "stream",
          "name": "stdout",
          "text": [
            "4\n"
          ]
        }
      ]
    }
  ]
}