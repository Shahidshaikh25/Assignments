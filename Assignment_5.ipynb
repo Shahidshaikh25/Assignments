{
  "nbformat": 4,
  "nbformat_minor": 0,
  "metadata": {
    "colab": {
      "provenance": [],
      "authorship_tag": "ABX9TyPbU+fqKTGJA2G1OUFKAcIX",
      "include_colab_link": true
    },
    "kernelspec": {
      "name": "python3",
      "display_name": "Python 3"
    },
    "language_info": {
      "name": "python"
    }
  },
  "cells": [
    {
      "cell_type": "markdown",
      "metadata": {
        "id": "view-in-github",
        "colab_type": "text"
      },
      "source": [
        "<a href=\"https://colab.research.google.com/github/Shahidshaikh25/Assignments/blob/main/Assignment_5.ipynb\" target=\"_parent\"><img src=\"https://colab.research.google.com/assets/colab-badge.svg\" alt=\"Open In Colab\"/></a>"
      ]
    },
    {
      "cell_type": "markdown",
      "source": [
        "**1. What does an empty dictionary's code look like?**\n",
        "\n",
        "**Ans 1:**"
      ],
      "metadata": {
        "id": "NAItWwjPnGe2"
      }
    },
    {
      "cell_type": "code",
      "source": [
        "dict = {}\n",
        "type(dict)"
      ],
      "metadata": {
        "colab": {
          "base_uri": "https://localhost:8080/"
        },
        "id": "K00Ke286ngt4",
        "outputId": "a075fa73-4b8e-49de-c96e-755f7d3974a7"
      },
      "execution_count": 1,
      "outputs": [
        {
          "output_type": "execute_result",
          "data": {
            "text/plain": [
              "dict"
            ]
          },
          "metadata": {},
          "execution_count": 1
        }
      ]
    },
    {
      "cell_type": "markdown",
      "source": [
        "**2. What is the value of a dictionary value with the key 'foo' and the value 42?**\n",
        "\n",
        "**Ans 2:**"
      ],
      "metadata": {
        "id": "P_LBpoFPnNAq"
      }
    },
    {
      "cell_type": "code",
      "source": [
        "{\"foo\":42}"
      ],
      "metadata": {
        "colab": {
          "base_uri": "https://localhost:8080/"
        },
        "id": "kUoVebVpn9CX",
        "outputId": "8fca2de6-699a-434b-99ea-be7809adbeed"
      },
      "execution_count": 2,
      "outputs": [
        {
          "output_type": "execute_result",
          "data": {
            "text/plain": [
              "{'foo': 42}"
            ]
          },
          "metadata": {},
          "execution_count": 2
        }
      ]
    },
    {
      "cell_type": "markdown",
      "source": [
        "**3. What is the most significant distinction between a dictionary and a list?**\n",
        "\n",
        "**Ans 3:**"
      ],
      "metadata": {
        "id": "by0LMp1joWYT"
      }
    },
    {
      "cell_type": "markdown",
      "source": [
        "List: items in list are Ordered\n",
        "\n",
        "Dictionary : iten in dictionary are unordered"
      ],
      "metadata": {
        "id": "tTyK6FmYokJq"
      }
    },
    {
      "cell_type": "markdown",
      "source": [
        "**4. What happens if you try to access spam['foo'] if spam is {'bar': 100}?**\n",
        "\n",
        "**Ans 4:**"
      ],
      "metadata": {
        "id": "56Cer1M4ovO2"
      }
    },
    {
      "cell_type": "code",
      "source": [
        "spam = {\"bar\":100}\n",
        "spam[\"foo\"]\n",
        "#This will give us 'key error'"
      ],
      "metadata": {
        "colab": {
          "base_uri": "https://localhost:8080/",
          "height": 200
        },
        "id": "xjODXprppGOu",
        "outputId": "35943104-2a3e-4b44-fa66-d7fe719f4743"
      },
      "execution_count": 4,
      "outputs": [
        {
          "output_type": "error",
          "ename": "KeyError",
          "evalue": "ignored",
          "traceback": [
            "\u001b[0;31m---------------------------------------------------------------------------\u001b[0m",
            "\u001b[0;31mKeyError\u001b[0m                                  Traceback (most recent call last)",
            "\u001b[0;32m<ipython-input-4-c7ba362280b8>\u001b[0m in \u001b[0;36m<cell line: 2>\u001b[0;34m()\u001b[0m\n\u001b[1;32m      1\u001b[0m \u001b[0mspam\u001b[0m \u001b[0;34m=\u001b[0m \u001b[0;34m{\u001b[0m\u001b[0;34m\"bar\"\u001b[0m\u001b[0;34m:\u001b[0m\u001b[0;36m100\u001b[0m\u001b[0;34m}\u001b[0m\u001b[0;34m\u001b[0m\u001b[0;34m\u001b[0m\u001b[0m\n\u001b[0;32m----> 2\u001b[0;31m \u001b[0mspam\u001b[0m\u001b[0;34m[\u001b[0m\u001b[0;34m\"foo\"\u001b[0m\u001b[0;34m]\u001b[0m\u001b[0;34m\u001b[0m\u001b[0;34m\u001b[0m\u001b[0m\n\u001b[0m\u001b[1;32m      3\u001b[0m \u001b[0;31m#This will give us 'key error'\u001b[0m\u001b[0;34m\u001b[0m\u001b[0;34m\u001b[0m\u001b[0m\n",
            "\u001b[0;31mKeyError\u001b[0m: 'foo'"
          ]
        }
      ]
    },
    {
      "cell_type": "markdown",
      "source": [
        "**5. If a dictionary is stored in spam, what is the difference between the expressions 'cat' in spam and 'cat' in spam.keys()?**\n",
        "\n",
        "**Ans 5:**"
      ],
      "metadata": {
        "id": "MhS3EHelpefT"
      }
    },
    {
      "cell_type": "code",
      "source": [
        "spam ={\"cat\":100}\n",
        "'cat' in spam"
      ],
      "metadata": {
        "colab": {
          "base_uri": "https://localhost:8080/"
        },
        "id": "vgTasPwepvxG",
        "outputId": "6832de19-0e34-4647-d8a1-cfd046607858"
      },
      "execution_count": 5,
      "outputs": [
        {
          "output_type": "execute_result",
          "data": {
            "text/plain": [
              "True"
            ]
          },
          "metadata": {},
          "execution_count": 5
        }
      ]
    },
    {
      "cell_type": "code",
      "source": [
        "'cat' in spam.keys()"
      ],
      "metadata": {
        "id": "A8x7dWQTpymQ"
      },
      "execution_count": null,
      "outputs": []
    },
    {
      "cell_type": "markdown",
      "source": [
        "There is no differnce, both check if 'cat' is key of the dictionary and if its a key, returns True."
      ],
      "metadata": {
        "id": "TcLKj9QDp1k8"
      }
    },
    {
      "cell_type": "markdown",
      "source": [
        "**6. If a dictionary is stored in spam, what is the difference between the expressions 'cat' in spam and 'cat' in spam.values()?**\n",
        "\n",
        "**Ans 6:**"
      ],
      "metadata": {
        "id": "xUaMvPy1qBoP"
      }
    },
    {
      "cell_type": "code",
      "source": [
        "spam ={\"cat\":100}\n",
        "'cat' in spam"
      ],
      "metadata": {
        "colab": {
          "base_uri": "https://localhost:8080/"
        },
        "id": "ioTZXnFcqWlB",
        "outputId": "b76d4d0c-7754-47af-c1ff-aa12cb4dbb13"
      },
      "execution_count": 6,
      "outputs": [
        {
          "output_type": "execute_result",
          "data": {
            "text/plain": [
              "True"
            ]
          },
          "metadata": {},
          "execution_count": 6
        }
      ]
    },
    {
      "cell_type": "code",
      "source": [
        "'cat' in spam.values()"
      ],
      "metadata": {
        "colab": {
          "base_uri": "https://localhost:8080/"
        },
        "id": "OJziQA84qiZk",
        "outputId": "1e46ac0e-f02c-450e-eaf4-0769e9f724ce"
      },
      "execution_count": 7,
      "outputs": [
        {
          "output_type": "execute_result",
          "data": {
            "text/plain": [
              "False"
            ]
          },
          "metadata": {},
          "execution_count": 7
        }
      ]
    },
    {
      "cell_type": "markdown",
      "source": [
        "'cat' in spam checks whether there is a 'cat' key in the dictionary.\n",
        "\n",
        "'cat' in spam.values() checks whether there is a value 'cat' for one of the keys in spam."
      ],
      "metadata": {
        "id": "ZHB8vGpnqdrN"
      }
    },
    {
      "cell_type": "markdown",
      "source": [
        "**7. What is a shortcut for the following code?**\n",
        "\n",
        "**if 'color' not in spam:**\n",
        "\n",
        "**spam['color'] = 'black'**\n",
        "\n",
        "\n",
        "**Ans 7:**"
      ],
      "metadata": {
        "id": "tah8PSp2q6Ss"
      }
    },
    {
      "cell_type": "code",
      "source": [
        "spam ={'cat':100}\n",
        "spam.setdefault('color','black')\n",
        "spam"
      ],
      "metadata": {
        "colab": {
          "base_uri": "https://localhost:8080/"
        },
        "id": "iZhIJPncrEyg",
        "outputId": "831a1cb6-a6e2-4417-a765-6ec50f89fb55"
      },
      "execution_count": 14,
      "outputs": [
        {
          "output_type": "execute_result",
          "data": {
            "text/plain": [
              "{'cat': 100, 'color': 'black'}"
            ]
          },
          "metadata": {},
          "execution_count": 14
        }
      ]
    },
    {
      "cell_type": "markdown",
      "source": [
        "**8. How do you \"pretty print\" dictionary values using which module and function?**\n"
      ],
      "metadata": {
        "id": "CtMYI_UBq6YS"
      }
    },
    {
      "cell_type": "code",
      "source": [
        "import pprint\n",
        "dict = [ {'Name': 'shahid', 'Age': '21', 'Country': 'India'},\n",
        "  {'Name': 'Anna', 'Age': '44', 'Country': 'China'},\n",
        "  {'Name': 'Joe', 'Age': '29', 'Country': 'UK'},\n",
        "]"
      ],
      "metadata": {
        "id": "5qlX1P4gtZX8"
      },
      "execution_count": 24,
      "outputs": []
    },
    {
      "cell_type": "code",
      "source": [
        "# printing with pprint()\n",
        "pprint.pprint(dict)"
      ],
      "metadata": {
        "colab": {
          "base_uri": "https://localhost:8080/"
        },
        "id": "8cMxgTQst6a5",
        "outputId": "29aaf20a-97fb-4c6d-f302-3df0465c6639"
      },
      "execution_count": 26,
      "outputs": [
        {
          "output_type": "stream",
          "name": "stdout",
          "text": [
            "[{'Age': '21', 'Country': 'India', 'Name': 'shahid'},\n",
            " {'Age': '44', 'Country': 'China', 'Name': 'Anna'},\n",
            " {'Age': '29', 'Country': 'UK', 'Name': 'Joe'}]\n"
          ]
        }
      ]
    },
    {
      "cell_type": "code",
      "source": [
        "# printing with print()\n",
        "print(dict)"
      ],
      "metadata": {
        "colab": {
          "base_uri": "https://localhost:8080/"
        },
        "id": "z0csQbmJui0L",
        "outputId": "1ef10126-8ba4-442b-a620-4ff7a9cba59c"
      },
      "execution_count": 28,
      "outputs": [
        {
          "output_type": "stream",
          "name": "stdout",
          "text": [
            "[{'Name': 'shahid', 'Age': '21', 'Country': 'India'}, {'Name': 'Anna', 'Age': '44', 'Country': 'China'}, {'Name': 'Joe', 'Age': '29', 'Country': 'UK'}]\n"
          ]
        }
      ]
    }
  ]
}