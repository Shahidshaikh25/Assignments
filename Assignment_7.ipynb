{
  "nbformat": 4,
  "nbformat_minor": 0,
  "metadata": {
    "colab": {
      "provenance": [],
      "authorship_tag": "ABX9TyNyBa6U1nI2nfdAT2dJuzZ2",
      "include_colab_link": true
    },
    "kernelspec": {
      "name": "python3",
      "display_name": "Python 3"
    },
    "language_info": {
      "name": "python"
    }
  },
  "cells": [
    {
      "cell_type": "markdown",
      "metadata": {
        "id": "view-in-github",
        "colab_type": "text"
      },
      "source": [
        "<a href=\"https://colab.research.google.com/github/Shahidshaikh25/Assignments/blob/main/Assignment_7.ipynb\" target=\"_parent\"><img src=\"https://colab.research.google.com/assets/colab-badge.svg\" alt=\"Open In Colab\"/></a>"
      ]
    },
    {
      "cell_type": "markdown",
      "source": [
        "**Q.1. Create two int type variables, apply addition, subtraction, division and multiplications and store the results in variables. Then print the data in the following format by calling the variables:**\n",
        "\n",
        "**First variable is __ & second variable is __**\n",
        "\n",
        "**Addition: __ + __ = __**\n",
        "\n",
        "**Subtraction: __ - __ = __**\n",
        "\n",
        "**Multiplication: __ * __ = __**\n",
        "\n",
        "**Division: __ / __ = __**\n",
        "\n",
        "**Ans 1:**"
      ],
      "metadata": {
        "id": "tXIK1sgVDISm"
      }
    },
    {
      "cell_type": "code",
      "source": [
        "a = int(input(\"Enter the first no. : \"))\n",
        "b = int(input(\"Enter the Second no. : \"))\n",
        "\n",
        "add_result = a + b\n",
        "sub_result = a - b\n",
        "multi_result = a * b\n",
        "div_result = a / b\n",
        "\n",
        "print(\"Addtion:\", a,  \"+\", b, \"= \",  add_result)\n",
        "print(\"Subtraction:\", a,  \"-\", b, \"= \",  sub_result)\n",
        "print(\"Multiplication:\", a,  \"*\", b, \"= \",  multi_result)\n",
        "print(\"Division:\", a,  \"/\", b, \"= \",  div_result)"
      ],
      "metadata": {
        "colab": {
          "base_uri": "https://localhost:8080/"
        },
        "id": "lvl2DFNtInvH",
        "outputId": "0f7e2855-4d7c-4734-f782-9e5e4d7c00e0"
      },
      "execution_count": 5,
      "outputs": [
        {
          "output_type": "stream",
          "name": "stdout",
          "text": [
            "Enter the first no. : 20\n",
            "Enter the Second no. : 5\n",
            "Addtion: 20 + 5 =  25\n",
            "Subtraction: 20 - 5 =  15\n",
            "Multiplication: 20 * 5 =  100\n",
            "Division: 20 / 5 =  4.0\n"
          ]
        }
      ]
    },
    {
      "cell_type": "markdown",
      "source": [
        "**Q.2. What is the difference between the following operators:**\n",
        "\n",
        "**Ans 2:**"
      ],
      "metadata": {
        "id": "Z93EJJQcDIZQ"
      }
    },
    {
      "cell_type": "markdown",
      "source": [
        "(i) ‘/’ & ‘//’\n"
      ],
      "metadata": {
        "id": "U12rBlfTIneX"
      }
    },
    {
      "cell_type": "markdown",
      "source": [
        " '/' and '//' operators are both used for division, but they behave differently depending on the data types of the operands.\n",
        "\n",
        " '/'- Floating-point division:  '/' operator is used for regular floating-point division. When both operands are of integer type, Python will perform true division and return a floating-point result.\n"
      ],
      "metadata": {
        "id": "zC35J3OUND9l"
      }
    },
    {
      "cell_type": "code",
      "source": [
        "result = 10 / 3\n",
        "print(result)"
      ],
      "metadata": {
        "colab": {
          "base_uri": "https://localhost:8080/"
        },
        "id": "ghCPO7nKNgy_",
        "outputId": "36ee64f2-565a-4071-dd09-19560a990b1a"
      },
      "execution_count": 6,
      "outputs": [
        {
          "output_type": "stream",
          "name": "stdout",
          "text": [
            "3.3333333333333335\n"
          ]
        }
      ]
    },
    {
      "cell_type": "markdown",
      "source": [
        "'//'- Integer division: '//' operator is used for integer division, also known as floor division. It returns the largest integer that is less than or equal to the result of the division."
      ],
      "metadata": {
        "id": "DTr-wh7DNtVt"
      }
    },
    {
      "cell_type": "code",
      "source": [
        "result = 10 // 3\n",
        "print(result)"
      ],
      "metadata": {
        "colab": {
          "base_uri": "https://localhost:8080/"
        },
        "id": "Oa3RReI_Ntg0",
        "outputId": "ddfda357-748f-4157-ca54-9de4daff6be1"
      },
      "execution_count": 7,
      "outputs": [
        {
          "output_type": "stream",
          "name": "stdout",
          "text": [
            "3\n"
          ]
        }
      ]
    },
    {
      "cell_type": "markdown",
      "source": [
        "(ii) ‘**’ & ‘^’"
      ],
      "metadata": {
        "id": "cB9dIv8YObmL"
      }
    },
    {
      "cell_type": "markdown",
      "source": [
        "'**' and '^' operators are both used for exponentiation, but they have different meanings and purposes.\n",
        "\n",
        "'**' - Exponentiation Operator: operator is used for raising a number to a power."
      ],
      "metadata": {
        "id": "F7wwx0JlObpf"
      }
    },
    {
      "cell_type": "code",
      "source": [
        "result = 2 ** 3\n",
        "print(result)"
      ],
      "metadata": {
        "id": "9mezTSelPBEq",
        "colab": {
          "base_uri": "https://localhost:8080/"
        },
        "outputId": "c124cb90-9d6a-4004-d5d9-30d7aca7c3e1"
      },
      "execution_count": 8,
      "outputs": [
        {
          "output_type": "stream",
          "name": "stdout",
          "text": [
            "8\n"
          ]
        }
      ]
    },
    {
      "cell_type": "markdown",
      "source": [
        "'^'- Bitwise XOR Operator: operator is used for bitwise XOR (exclusive OR) operation on integers. It performs bitwise XOR on the binary representation of two integers."
      ],
      "metadata": {
        "id": "GNOV51m0PAOt"
      }
    },
    {
      "cell_type": "code",
      "source": [
        "result = 10 ^ 6\n",
        "print(result)"
      ],
      "metadata": {
        "id": "oAAS1lzyPUqg",
        "outputId": "8d1c0aa7-6e69-4117-a5b6-43be961b1c9c",
        "colab": {
          "base_uri": "https://localhost:8080/"
        }
      },
      "execution_count": 9,
      "outputs": [
        {
          "output_type": "stream",
          "name": "stdout",
          "text": [
            "12\n"
          ]
        }
      ]
    },
    {
      "cell_type": "markdown",
      "source": [
        "**Q.3. List the logical operators.**\n",
        "\n",
        "**Ans 3:**"
      ],
      "metadata": {
        "id": "bESt2hFSO9Gh"
      }
    },
    {
      "cell_type": "markdown",
      "source": [
        "**Logical operators** are used to perform logical operations on boolean values (True or False).\n",
        "\n",
        "There are 3 types of logical operator.\n",
        "\n",
        "**and:** This operator returns True if both operands are True; otherwise, it returns False.\n",
        "\n",
        "True and True   => True \\\n",
        "True and False  => False \\\n",
        "False and True  => False \\\n",
        "False and False => False\n",
        "\n",
        "**or:** This operator returns True if at least one of the operands is True; if both operands are False, it returns False.\n",
        "\n",
        "True or True    => True \\\n",
        "True or False   => True \\\n",
        "False or True   => True \\\n",
        "False or False  => False\n",
        "\n",
        "**not:** This operator is a unary operator that returns the opposite of the operand's value.\n",
        "\n",
        "not True  => False \\\n",
        "not False => True"
      ],
      "metadata": {
        "id": "Vnf9CXXLRa54"
      }
    },
    {
      "cell_type": "markdown",
      "source": [
        "**Q.4. Explain right shift operator and left shift operator with examples.**\n",
        "\n",
        "**Ans 4:**"
      ],
      "metadata": {
        "id": "cyT1iMZCTYzi"
      }
    },
    {
      "cell_type": "markdown",
      "source": [
        "**Right Shift Operator >>:** Shifts the bits of the number to the right by the number of bits specified. Each shift to the right corresponds to dividing the number by 2."
      ],
      "metadata": {
        "id": "pe6oblYtUN4C"
      }
    },
    {
      "cell_type": "code",
      "source": [
        "a = 10        # in binary: 1010\n",
        "result = a >> 2  # result is 2 (in binary: 0010)\n",
        "print(result)"
      ],
      "metadata": {
        "colab": {
          "base_uri": "https://localhost:8080/"
        },
        "id": "VGMgPW_IUUkc",
        "outputId": "2d44ba18-e0d7-4533-8c86-ac2f9c6b6d37"
      },
      "execution_count": 10,
      "outputs": [
        {
          "output_type": "stream",
          "name": "stdout",
          "text": [
            "2\n"
          ]
        }
      ]
    },
    {
      "cell_type": "markdown",
      "source": [
        "**Left Shift Operator <<:** Shifts the bits of the number to the left by the number of bits specified. Each shift to the left corresponds to multiplying the number by 2."
      ],
      "metadata": {
        "id": "n3vJv27zUTY5"
      }
    },
    {
      "cell_type": "code",
      "source": [
        "a = 10        # in binary: 1010\n",
        "result = a << 2  # result is 40 (in binary: 101000)\n",
        "print(result)"
      ],
      "metadata": {
        "colab": {
          "base_uri": "https://localhost:8080/"
        },
        "id": "TtF0eYh6Uhua",
        "outputId": "71ea2d8c-407e-4251-c223-e43a07fed783"
      },
      "execution_count": 11,
      "outputs": [
        {
          "output_type": "stream",
          "name": "stdout",
          "text": [
            "40\n"
          ]
        }
      ]
    },
    {
      "cell_type": "markdown",
      "source": [
        "**Q.5. Create a list containing int type data of length 15. Then write a code to check if 10 is present in the list or not.**\n",
        "\n",
        "**Ans 5:**"
      ],
      "metadata": {
        "id": "n0QRuYo8Vn5D"
      }
    },
    {
      "cell_type": "code",
      "source": [
        "#list\n",
        "my_list = [3, 7, 1, 9, 6, 15, 12, 8, 4, 10, 13, 2, 5, 11, 14]\n",
        "\n",
        "\n",
        "if 10 in my_list:\n",
        "  print(\"10 is present in the list\")\n",
        "else:\n",
        "  print(\"10 is not present in the list\")"
      ],
      "metadata": {
        "colab": {
          "base_uri": "https://localhost:8080/"
        },
        "id": "ekVLSOT-V1Ug",
        "outputId": "676e1be2-0ded-4bae-c795-060eb62c2e7a"
      },
      "execution_count": 12,
      "outputs": [
        {
          "output_type": "stream",
          "name": "stdout",
          "text": [
            "10 is present in the list\n"
          ]
        }
      ]
    }
  ]
}