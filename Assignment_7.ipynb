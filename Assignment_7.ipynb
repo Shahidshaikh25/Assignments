{
  "nbformat": 4,
  "nbformat_minor": 0,
  "metadata": {
    "colab": {
      "provenance": [],
      "authorship_tag": "ABX9TyMrVLJgfZR0npB5PeAtll21",
      "include_colab_link": true
    },
    "kernelspec": {
      "name": "python3",
      "display_name": "Python 3"
    },
    "language_info": {
      "name": "python"
    }
  },
  "cells": [
    {
      "cell_type": "markdown",
      "metadata": {
        "id": "view-in-github",
        "colab_type": "text"
      },
      "source": [
        "<a href=\"https://colab.research.google.com/github/Shahidshaikh25/Assignments/blob/main/Assignment_7.ipynb\" target=\"_parent\"><img src=\"https://colab.research.google.com/assets/colab-badge.svg\" alt=\"Open In Colab\"/></a>"
      ]
    },
    {
      "cell_type": "markdown",
      "source": [
        "**1. In Python, what is the difference between a built-in function and a user-defined function? Provide an example of each.**\n",
        "\n",
        "**Ans 1:**"
      ],
      "metadata": {
        "id": "U8hVft_s_KxG"
      }
    },
    {
      "cell_type": "markdown",
      "source": [
        "**Built-in functions** are already defined in python. Built-in functions are pre-defined, there is no need to define them again. e.g. len(),\n",
        "abs(),\n",
        "max(),\n",
        "min(),\n",
        "sum(),\n",
        "type(),\n",
        "help(), and input() etc.\n",
        " while, **user-defined fuctions** is a block of reusable code that performs a specific task. You define a\n",
        "function using the def keyword, followed by the function name, parentheses (), and a colon :. Inside\n",
        "the parentheses, you can specify any parameters your function will take. The function’s code block\n",
        "is indented under the function definition."
      ],
      "metadata": {
        "id": "JLm31wGE__y3"
      }
    },
    {
      "cell_type": "code",
      "source": [
        "#Example of built-in fuction\n",
        "a = (2, 4, 5, 8)\n",
        "print(len(a))"
      ],
      "metadata": {
        "colab": {
          "base_uri": "https://localhost:8080/"
        },
        "id": "NgcbCtvgC0Ks",
        "outputId": "1f836335-1034-4b6a-f987-9645ed97ffe8"
      },
      "execution_count": 33,
      "outputs": [
        {
          "output_type": "stream",
          "name": "stdout",
          "text": [
            "4\n"
          ]
        }
      ]
    },
    {
      "cell_type": "code",
      "source": [
        "#Example of user-defined fuction\n",
        "def greet():\n",
        "  print(\"Hello, World!\")\n",
        "\n",
        "greet()"
      ],
      "metadata": {
        "colab": {
          "base_uri": "https://localhost:8080/"
        },
        "id": "x_gpBJRtC0ON",
        "outputId": "dad5749c-a3bc-4e3a-d314-75209607bf97"
      },
      "execution_count": 34,
      "outputs": [
        {
          "output_type": "stream",
          "name": "stdout",
          "text": [
            "Hello, World!\n"
          ]
        }
      ]
    },
    {
      "cell_type": "markdown",
      "source": [
        "**2. How can you pass arguments to a function in Python? Explain the difference between positional arguments and keyword arguments.**\n",
        "\n",
        "**Ans 2:**"
      ],
      "metadata": {
        "id": "AanYLh6MEsCk"
      }
    },
    {
      "cell_type": "markdown",
      "source": [
        "**Arguments** are specified after the function name, inside the parentheses. we can add as many arguments as we want, just separate them with a comma.\n",
        "\n",
        "**keyword arguments:** Whenever we pass the arguments or value by their names at the time of calling the function in Python in which if you change the position of arguments then there will be no change in the output.\n",
        "\n",
        "**positional arguments:** Whenever we pass the arguments in the order we have defined function parameters in which if you change the argument position then you may get the unexpected output.\n",
        "\n"
      ],
      "metadata": {
        "id": "oenA9Y0QA0a8"
      }
    },
    {
      "cell_type": "code",
      "source": [
        "#Example of keyword argument\n",
        "def Name_age(name, age):\n",
        "  print(\"I am \",name)\n",
        "  print(\"I am \", age, \"years old.\")\n",
        "\n",
        "Name_age(name = \"shahid\", age = 25)"
      ],
      "metadata": {
        "colab": {
          "base_uri": "https://localhost:8080/"
        },
        "id": "COAJpjPFI3Xq",
        "outputId": "5554b22d-e48e-4ba6-d06d-6446806b63d2"
      },
      "execution_count": 35,
      "outputs": [
        {
          "output_type": "stream",
          "name": "stdout",
          "text": [
            "I am  shahid\n",
            "I am  25 years old.\n"
          ]
        }
      ]
    },
    {
      "cell_type": "code",
      "source": [
        "#Example of positional argument\n",
        "def Name_age(name, age):\n",
        "  print(\"I am \",name)\n",
        "  print(\"I am \", age, \"years old.\")\n",
        "\n",
        "Name_age(\"shahid\", 25)\n",
        "\n",
        "Name_age(25, \"shahid\")\n",
        "# we are getting different outputs from which one will be correct and another one will be incorrect."
      ],
      "metadata": {
        "colab": {
          "base_uri": "https://localhost:8080/"
        },
        "id": "QDep5gwFI3g6",
        "outputId": "edab5446-9438-4155-b2e4-007128d371f5"
      },
      "execution_count": 36,
      "outputs": [
        {
          "output_type": "stream",
          "name": "stdout",
          "text": [
            "I am  shahid\n",
            "I am  25 years old.\n",
            "I am  25\n",
            "I am  shahid years old.\n"
          ]
        }
      ]
    },
    {
      "cell_type": "markdown",
      "source": [
        "**3. What is the purpose of the return statement in a function? Can a function have multiple return statements? Explain with an example.**\n",
        "\n",
        "**Ans 3:**"
      ],
      "metadata": {
        "id": "T85GyznzKxX_"
      }
    },
    {
      "cell_type": "markdown",
      "source": [
        "A **return statement** ends the execution of a function, and returns control to the calling function.\n",
        "\n",
        "**Multiple return statements** may exist in a function, but only the one that fulfils the specified condition first is executed."
      ],
      "metadata": {
        "id": "wDFmxua9MDEQ"
      }
    },
    {
      "cell_type": "code",
      "source": [
        "def Band_rating(color):\n",
        "  color_band = \"red\"\n",
        "  if color == color_band:\n",
        "    return 10.0\n",
        "  else:\n",
        "    return 0.0\n",
        "\n",
        "Band_rating(\"red\")"
      ],
      "metadata": {
        "id": "Auf3_tyhQuli",
        "colab": {
          "base_uri": "https://localhost:8080/"
        },
        "outputId": "f51e919b-f7a7-4eb9-b13f-012de21928cd"
      },
      "execution_count": 37,
      "outputs": [
        {
          "output_type": "execute_result",
          "data": {
            "text/plain": [
              "10.0"
            ]
          },
          "metadata": {},
          "execution_count": 37
        }
      ]
    },
    {
      "cell_type": "markdown",
      "source": [
        "**4. What are lambda functions in Python? How are they different from regular functions? Provide an example where a lambda function can be useful.**\n",
        "\n",
        "**Ans 4:**"
      ],
      "metadata": {
        "id": "vDBi1-9lRKEC"
      }
    },
    {
      "cell_type": "markdown",
      "source": [
        "A lambda function is a small anonymous function.\n",
        "\n",
        "A lambda function can take any number of arguments, but can only have one expression. unlike normal functions, evaluates and returns only one expression.\n"
      ],
      "metadata": {
        "id": "5FqlPJDUROJp"
      }
    },
    {
      "cell_type": "code",
      "source": [
        "#Example of lambda function\n",
        "even_or_odd = lambda x : \"even\" if x % 2 == 0 else \"odd\"\n",
        "print(even_or_odd(13))"
      ],
      "metadata": {
        "colab": {
          "base_uri": "https://localhost:8080/"
        },
        "id": "oa7jOxKLkGwX",
        "outputId": "e85c5906-f15f-44bb-8f52-b26f3f11d51e"
      },
      "execution_count": 38,
      "outputs": [
        {
          "output_type": "stream",
          "name": "stdout",
          "text": [
            "odd\n"
          ]
        }
      ]
    },
    {
      "cell_type": "code",
      "source": [
        "#Example of user defined function\n",
        "\n",
        "def even_or_odd(n):\n",
        "  if n % 2 == 0:\n",
        "    print(\"even\")\n",
        "  else:\n",
        "    print(\"odd\")\n",
        "\n",
        "even_or_odd(12)\n",
        "\n",
        "#User-defined function have more lines than the lambda function, and lambda fuction is much easier to read."
      ],
      "metadata": {
        "colab": {
          "base_uri": "https://localhost:8080/"
        },
        "id": "9fd3czDvkRo3",
        "outputId": "62fdc341-1866-45f2-890c-332b72a395c4"
      },
      "execution_count": 39,
      "outputs": [
        {
          "output_type": "stream",
          "name": "stdout",
          "text": [
            "even\n"
          ]
        }
      ]
    },
    {
      "cell_type": "markdown",
      "source": [
        "**5. How does the concept of \"scope\" apply to functions in Python? Explain the difference between local scope and global scope.**\n",
        "\n",
        "**Ans 5:**"
      ],
      "metadata": {
        "id": "kwY4N1ienemO"
      }
    },
    {
      "cell_type": "markdown",
      "source": [
        "scope is the code block or body of any Python function or lambda expression. scope contains the names that you define inside the function. These names will only be visible from the code of the function.\n",
        "\n",
        "**Local scope** contains the names that you define inside the function is called as local scope."
      ],
      "metadata": {
        "id": "udhtdBX0pwTG"
      }
    },
    {
      "cell_type": "code",
      "source": [
        "#Example of local scope\n",
        "def add_numbers():\n",
        "    sum = 5 + 5\n",
        "# Here \"sum\" is the local scope"
      ],
      "metadata": {
        "id": "HePxv9AIqQso"
      },
      "execution_count": 40,
      "outputs": []
    },
    {
      "cell_type": "markdown",
      "source": [
        "**global scope** a variable declared outside of the function"
      ],
      "metadata": {
        "id": "gmOM8OyUqi5L"
      }
    },
    {
      "cell_type": "code",
      "source": [
        "#Example of global scope\n",
        "message = 'Hii'\n",
        "def greet():\n",
        "    print(message, 'Global')"
      ],
      "metadata": {
        "id": "Ik9hSxcSrSW5"
      },
      "execution_count": 41,
      "outputs": []
    },
    {
      "cell_type": "markdown",
      "source": [
        "**6. How can you use the \"return\" statement in a Python function to return multiple values?**\n",
        "\n",
        "**Ans 6:**"
      ],
      "metadata": {
        "id": "GdjI8l4frR7F"
      }
    },
    {
      "cell_type": "markdown",
      "source": [
        "In Python, We can return multiple values by simply separating them with commas in the return statement."
      ],
      "metadata": {
        "id": "0PpJxKV-SsTQ"
      }
    },
    {
      "cell_type": "code",
      "source": [
        "#for example\n",
        "\n",
        "def data_types():\n",
        "    return 'XYZ', 250, [0, 1, 2]\n",
        "\n",
        "a, b, c = data_types()\n",
        "\n",
        "print(a)\n",
        "print(b)\n",
        "print(c)"
      ],
      "metadata": {
        "colab": {
          "base_uri": "https://localhost:8080/"
        },
        "id": "jFvfgI8scV_h",
        "outputId": "e0350c64-558a-48d6-e6e3-c00f9d73e0ff"
      },
      "execution_count": 42,
      "outputs": [
        {
          "output_type": "stream",
          "name": "stdout",
          "text": [
            "XYZ\n",
            "250\n",
            "[0, 1, 2]\n"
          ]
        }
      ]
    },
    {
      "cell_type": "markdown",
      "source": [
        "**7. What is the difference between the \"pass by value\" and \"pass by reference\" concepts when it comes to function arguments in Python?**\n",
        "\n",
        "**Ans 7:**"
      ],
      "metadata": {
        "id": "VIj3K_yug7ju"
      }
    },
    {
      "cell_type": "markdown",
      "source": [
        " \"**pass by value**\" and \"**pass by reference**\" are two different mechanisms for passing arguments to functions.\n",
        "\n",
        "**Pass by value:** When a variable is passed by value to a function, a copy of the variable's value is created, and any modifications made to the parameter inside the function do not affect the original variable."
      ],
      "metadata": {
        "id": "7J3sM3QYhUv5"
      }
    },
    {
      "cell_type": "code",
      "source": [
        "def increment(num):\n",
        "    num += 1\n",
        "    print(\"Inside the function:\", num)\n",
        "\n",
        "x = 5\n",
        "increment(x)\n",
        "print(\"Outside the function:\", x)"
      ],
      "metadata": {
        "colab": {
          "base_uri": "https://localhost:8080/"
        },
        "id": "oTYqWE2NkryC",
        "outputId": "681defb2-b18c-40d5-9eca-857227770960"
      },
      "execution_count": 43,
      "outputs": [
        {
          "output_type": "stream",
          "name": "stdout",
          "text": [
            "Inside the function: 6\n",
            "Outside the function: 5\n"
          ]
        }
      ]
    },
    {
      "cell_type": "markdown",
      "source": [
        "**Pass by reference:** when an object is passed as an argument to a function, the reference to the object is passed. If the function modifies the object's properties or assigns a new value to the parameter, it will affect the original object outside the function."
      ],
      "metadata": {
        "id": "4E_fRLq3krXU"
      }
    },
    {
      "cell_type": "code",
      "source": [
        "def modify_list(list):\n",
        "    list.append(4)\n",
        "    print(\"Inside the function:\", list)\n",
        "\n",
        "my_list = [1, 2, 3]\n",
        "modify_list(my_list)\n",
        "print(\"Outside the function:\", my_list)\n"
      ],
      "metadata": {
        "colab": {
          "base_uri": "https://localhost:8080/"
        },
        "id": "PKCK1mbWlORl",
        "outputId": "97466e03-5881-437d-ca73-581a8488f333"
      },
      "execution_count": 44,
      "outputs": [
        {
          "output_type": "stream",
          "name": "stdout",
          "text": [
            "Inside the function: [1, 2, 3, 4]\n",
            "Outside the function: [1, 2, 3, 4]\n"
          ]
        }
      ]
    },
    {
      "cell_type": "markdown",
      "source": [
        "**8. Create a function that can intake integer or decimal value and do following operations:**\n",
        "\n",
        "**Ans 8:**"
      ],
      "metadata": {
        "id": "Ardylj6-nlaJ"
      }
    },
    {
      "cell_type": "markdown",
      "source": [
        "**a. Logarithmic function (log x)**"
      ],
      "metadata": {
        "id": "re8La19Rnvr4"
      }
    },
    {
      "cell_type": "code",
      "source": [
        "import math\n",
        "def logarithm():\n",
        "    value = float(input(\"Enter the value: \"))\n",
        "    if value <= 0:\n",
        "      print(\"Error: Invalid input. The argument should be a positive number.\")\n",
        "      return None\n",
        "    else:\n",
        "      result = math.log(value)\n",
        "      return result\n",
        "\n",
        "logarithm()"
      ],
      "metadata": {
        "colab": {
          "base_uri": "https://localhost:8080/"
        },
        "id": "nWSgaf7JpYWa",
        "outputId": "0bb5f177-0735-4991-a38a-a46764bd8a8e"
      },
      "execution_count": 45,
      "outputs": [
        {
          "name": "stdout",
          "output_type": "stream",
          "text": [
            "Enter the value: 5\n"
          ]
        },
        {
          "output_type": "execute_result",
          "data": {
            "text/plain": [
              "1.6094379124341003"
            ]
          },
          "metadata": {},
          "execution_count": 45
        }
      ]
    },
    {
      "cell_type": "markdown",
      "source": [
        "**b. Exponential function (exp(x))**"
      ],
      "metadata": {
        "id": "2K0Ivv-Ywc8u"
      }
    },
    {
      "cell_type": "code",
      "source": [
        "import math\n",
        "\n",
        "def exponential_function():\n",
        "    x = float(input(\"Enter the value: \"))\n",
        "    return math.exp(x)\n",
        "\n",
        "\n",
        "exponential_function()"
      ],
      "metadata": {
        "id": "0aEn-Td-qNVp",
        "colab": {
          "base_uri": "https://localhost:8080/"
        },
        "outputId": "99301157-0e1f-4676-82f2-388dfde940dc"
      },
      "execution_count": 50,
      "outputs": [
        {
          "name": "stdout",
          "output_type": "stream",
          "text": [
            "Enter the value: 5\n"
          ]
        },
        {
          "output_type": "execute_result",
          "data": {
            "text/plain": [
              "148.4131591025766"
            ]
          },
          "metadata": {},
          "execution_count": 50
        }
      ]
    },
    {
      "cell_type": "markdown",
      "source": [
        "**c. Power function with base 2 (2x)**"
      ],
      "metadata": {
        "id": "GnoATQz9yf2H"
      }
    },
    {
      "cell_type": "code",
      "source": [
        "def power_function():\n",
        "      x = float(input(\"Enter the value: \"))\n",
        "      return 2 ** x\n",
        "\n",
        "\n",
        "power_function()"
      ],
      "metadata": {
        "colab": {
          "base_uri": "https://localhost:8080/"
        },
        "id": "ygAh79I-zSIK",
        "outputId": "99140d71-1c2f-4cfc-ae41-bece101d6530"
      },
      "execution_count": 47,
      "outputs": [
        {
          "name": "stdout",
          "output_type": "stream",
          "text": [
            "Enter the value: 5\n"
          ]
        },
        {
          "output_type": "execute_result",
          "data": {
            "text/plain": [
              "32.0"
            ]
          },
          "metadata": {},
          "execution_count": 47
        }
      ]
    },
    {
      "cell_type": "markdown",
      "source": [
        "**d. Square root**"
      ],
      "metadata": {
        "id": "3oXW3C9D0io3"
      }
    },
    {
      "cell_type": "code",
      "source": [
        "import math\n",
        "\n",
        "def square_root():\n",
        "    x = float(input(\"Enter the value: \"))\n",
        "    return math.sqrt(x)\n",
        "\n",
        "\n",
        "square_root()"
      ],
      "metadata": {
        "colab": {
          "base_uri": "https://localhost:8080/"
        },
        "id": "OQ39z1QQ0i0O",
        "outputId": "d1a043d5-cd4f-479c-b46e-4b4041415f73"
      },
      "execution_count": 48,
      "outputs": [
        {
          "name": "stdout",
          "output_type": "stream",
          "text": [
            "Enter the value: 25\n"
          ]
        },
        {
          "output_type": "execute_result",
          "data": {
            "text/plain": [
              "5.0"
            ]
          },
          "metadata": {},
          "execution_count": 48
        }
      ]
    },
    {
      "cell_type": "markdown",
      "source": [
        "**9. Create a function that takes a full name as an argument and returns first name and last name.**\n",
        "\n",
        "**Ans 9:**"
      ],
      "metadata": {
        "id": "GmBn3cz_05Z-"
      }
    },
    {
      "cell_type": "code",
      "source": [
        "def full_name():\n",
        "    full_name = input(\"Enter your full name: \")\n",
        "    names = full_name.split()\n",
        "    first_name = names[0]\n",
        "    last_name = names[-1]\n",
        "    return first_name, last_name\n",
        "\n",
        "\n",
        "full_name()"
      ],
      "metadata": {
        "colab": {
          "base_uri": "https://localhost:8080/"
        },
        "id": "_vzJrLnI3eYf",
        "outputId": "c3a26ff3-4729-4854-f280-e36bfb0a1892"
      },
      "execution_count": 49,
      "outputs": [
        {
          "name": "stdout",
          "output_type": "stream",
          "text": [
            "Enter your full name: shahid mohd rahim shaikh\n"
          ]
        },
        {
          "output_type": "execute_result",
          "data": {
            "text/plain": [
              "('shahid', 'shaikh')"
            ]
          },
          "metadata": {},
          "execution_count": 49
        }
      ]
    }
  ]
}