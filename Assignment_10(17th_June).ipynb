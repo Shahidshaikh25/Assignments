{
  "nbformat": 4,
  "nbformat_minor": 0,
  "metadata": {
    "colab": {
      "provenance": [],
      "authorship_tag": "ABX9TyMANXxQHnNvfuXGfh8rPFdX",
      "include_colab_link": true
    },
    "kernelspec": {
      "name": "python3",
      "display_name": "Python 3"
    },
    "language_info": {
      "name": "python"
    }
  },
  "cells": [
    {
      "cell_type": "markdown",
      "metadata": {
        "id": "view-in-github",
        "colab_type": "text"
      },
      "source": [
        "<a href=\"https://colab.research.google.com/github/Shahidshaikh25/Assignments/blob/main/Assignment_10(17th_June).ipynb\" target=\"_parent\"><img src=\"https://colab.research.google.com/assets/colab-badge.svg\" alt=\"Open In Colab\"/></a>"
      ]
    },
    {
      "cell_type": "markdown",
      "source": [
        "**1. What is the role of try and exception block?**\n",
        "\n",
        "**Ans 1:**"
      ],
      "metadata": {
        "id": "n-tlkee1MRk8"
      }
    },
    {
      "cell_type": "markdown",
      "source": [
        "**try block:** The code within the try block contains the statements that may potentially raise an exception. It allows you to specify the section of code that you want to monitor for exceptions.\n",
        "\n",
        "**except block:** If an exception occurs within the try block, the corresponding except block(s) are executed. The except block allows you to define the actions or code that should be executed when a specific exception is raised. You can have multiple except blocks to handle different types of exceptions.\n",
        "\n",
        "The else block allows you run code without errors.\n",
        "\n",
        "The finally block executes code regardless of the try-and-except blocks.\n",
        "\n",
        "Use the raise keyword to throw (or raise) an exception."
      ],
      "metadata": {
        "id": "pPm6VaQFMqbi"
      }
    },
    {
      "cell_type": "markdown",
      "source": [
        "**2. What is the syntax for a basic try-except block?**\n",
        "\n",
        "**Ans 2:**"
      ],
      "metadata": {
        "id": "epvdn5vmND3U"
      }
    },
    {
      "cell_type": "code",
      "source": [
        "try:\n",
        "  # Code that may raise an exception\n",
        "except ExceptionType:\n",
        "  # Code to handle the exception"
      ],
      "metadata": {
        "id": "pNEjbka1OaNw"
      },
      "execution_count": null,
      "outputs": []
    },
    {
      "cell_type": "code",
      "source": [
        "# Example\n",
        "try:\n",
        "  print(n)\n",
        "except:\n",
        "  print(\"there is no n\")"
      ],
      "metadata": {
        "colab": {
          "base_uri": "https://localhost:8080/"
        },
        "id": "p1Io-jR4NZZu",
        "outputId": "544e1294-1cfc-406d-b64c-053fed6f1929"
      },
      "execution_count": null,
      "outputs": [
        {
          "output_type": "stream",
          "name": "stdout",
          "text": [
            "there is no n\n"
          ]
        }
      ]
    },
    {
      "cell_type": "markdown",
      "source": [
        "**3. What happens if an exception occurs inside a try block and there is no matching except block?**\n",
        "\n",
        "**Ans 3:**"
      ],
      "metadata": {
        "id": "lqZI-4mOOnQf"
      }
    },
    {
      "cell_type": "markdown",
      "source": [
        "If an exception occurs inside a try block, and there is no matching except block to handle that specific type of exception, the program will terminate, and a traceback will be displayed."
      ],
      "metadata": {
        "id": "f6lhSZrsOnWY"
      }
    },
    {
      "cell_type": "code",
      "source": [
        "try:\n",
        "    x = 10 / 0  # This will raise a ZeroDivisionError\n",
        "    print(\"Result:\", x)\n",
        "except ValueError:\n",
        "    print(\"Caught a ValueError.\")\n"
      ],
      "metadata": {
        "colab": {
          "base_uri": "https://localhost:8080/",
          "height": 235
        },
        "id": "w43_AwFUPAwT",
        "outputId": "a88905cc-9c2b-4e3c-94e1-def27d13b33f"
      },
      "execution_count": null,
      "outputs": [
        {
          "output_type": "error",
          "ename": "ZeroDivisionError",
          "evalue": "ignored",
          "traceback": [
            "\u001b[0;31m---------------------------------------------------------------------------\u001b[0m",
            "\u001b[0;31mZeroDivisionError\u001b[0m                         Traceback (most recent call last)",
            "\u001b[0;32m<ipython-input-8-9d8e7fdefb6c>\u001b[0m in \u001b[0;36m<cell line: 1>\u001b[0;34m()\u001b[0m\n\u001b[1;32m      1\u001b[0m \u001b[0;32mtry\u001b[0m\u001b[0;34m:\u001b[0m\u001b[0;34m\u001b[0m\u001b[0;34m\u001b[0m\u001b[0m\n\u001b[0;32m----> 2\u001b[0;31m     \u001b[0mx\u001b[0m \u001b[0;34m=\u001b[0m \u001b[0;36m10\u001b[0m \u001b[0;34m/\u001b[0m \u001b[0;36m0\u001b[0m  \u001b[0;31m# This will raise a ZeroDivisionError\u001b[0m\u001b[0;34m\u001b[0m\u001b[0;34m\u001b[0m\u001b[0m\n\u001b[0m\u001b[1;32m      3\u001b[0m     \u001b[0mprint\u001b[0m\u001b[0;34m(\u001b[0m\u001b[0;34m\"Result:\"\u001b[0m\u001b[0;34m,\u001b[0m \u001b[0mx\u001b[0m\u001b[0;34m)\u001b[0m\u001b[0;34m\u001b[0m\u001b[0;34m\u001b[0m\u001b[0m\n\u001b[1;32m      4\u001b[0m \u001b[0;32mexcept\u001b[0m \u001b[0mValueError\u001b[0m\u001b[0;34m:\u001b[0m\u001b[0;34m\u001b[0m\u001b[0;34m\u001b[0m\u001b[0m\n\u001b[1;32m      5\u001b[0m     \u001b[0mprint\u001b[0m\u001b[0;34m(\u001b[0m\u001b[0;34m\"Caught a ValueError.\"\u001b[0m\u001b[0;34m)\u001b[0m\u001b[0;34m\u001b[0m\u001b[0;34m\u001b[0m\u001b[0m\n",
            "\u001b[0;31mZeroDivisionError\u001b[0m: division by zero"
          ]
        }
      ]
    },
    {
      "cell_type": "markdown",
      "source": [
        "In this example, the try block attempts to perform the division 10 / 0, which raises a ZeroDivisionError since division by zero is not allowed. However, there is no except ZeroDivisionError block specified to handle this type of exception."
      ],
      "metadata": {
        "id": "-U-6XHDEPPV5"
      }
    },
    {
      "cell_type": "markdown",
      "source": [
        "**4. What is the difference between using a bare except block and specifying a specific exception type?**\n",
        "\n",
        "**Ans 4:**"
      ],
      "metadata": {
        "id": "r4J-o8UoPeCA"
      }
    },
    {
      "cell_type": "markdown",
      "source": [
        "Using a bare except block and specifying a specific exception type have significant differences in how they handle exceptions.\n",
        "\n",
        "**Bare Except Block:** When you use a bare except block, it catches and handles any exception that occurs within the try block, regardless of the type of the exception."
      ],
      "metadata": {
        "id": "CQAH2DSxP6Uv"
      }
    },
    {
      "cell_type": "code",
      "source": [
        "try:\n",
        "    x = 10/0\n",
        "except:\n",
        "    print(\"Caught an exception.\")"
      ],
      "metadata": {
        "colab": {
          "base_uri": "https://localhost:8080/"
        },
        "id": "0BVhB5TPQVOI",
        "outputId": "e6a90dbf-396a-4b91-a80c-1978cdb1e883"
      },
      "execution_count": null,
      "outputs": [
        {
          "output_type": "stream",
          "name": "stdout",
          "text": [
            "Caught an exception.\n"
          ]
        }
      ]
    },
    {
      "cell_type": "markdown",
      "source": [
        "**Specifying a Specific Exception Type:** When you specify a specific exception type in the except block, it will only catch and handle exceptions of that specific type. This allows you to provide targeted and appropriate error handling for specific types of exceptions."
      ],
      "metadata": {
        "id": "Sq3XmUU0QUiS"
      }
    },
    {
      "cell_type": "code",
      "source": [
        "try:\n",
        "    x = 10/0\n",
        "except ZeroDivisionError:\n",
        "    print(\"Caught a ZeroDivisionError.\")\n"
      ],
      "metadata": {
        "colab": {
          "base_uri": "https://localhost:8080/"
        },
        "id": "AEHtK0CkQe-3",
        "outputId": "ab82f860-913b-4019-f02e-0dce3e87dbb1"
      },
      "execution_count": null,
      "outputs": [
        {
          "output_type": "stream",
          "name": "stdout",
          "text": [
            "Caught a ZeroDivisionError.\n"
          ]
        }
      ]
    },
    {
      "cell_type": "markdown",
      "source": [
        "**5. Can you have nested try-except blocks in Python? If yes, then give an example.**\n",
        "\n",
        "**Ans 5:**"
      ],
      "metadata": {
        "id": "nokQTSWtQUoz"
      }
    },
    {
      "cell_type": "markdown",
      "source": [
        "Yes, I have nested try-except blocks in Python. Nesting try-except blocks allows you to handle different levels of exception handling and provide more fine-grained error handling for different parts of your code."
      ],
      "metadata": {
        "id": "e_nMU5oHRtLY"
      }
    },
    {
      "cell_type": "code",
      "source": [
        "try:\n",
        "    num1 = int(input(\"Enter the first number: \"))\n",
        "    try:\n",
        "        num2 = int(input(\"Enter the second number: \"))\n",
        "        result = num1 / num2\n",
        "        print(\"Result:\", result)\n",
        "    except ZeroDivisionError:\n",
        "        print(\"Error: Division by zero.\")\n",
        "    except ValueError:\n",
        "        print(\"Invalid input for the second number.\")\n",
        "except ValueError:\n",
        "    print(\"Invalid input for the first number.\")"
      ],
      "metadata": {
        "id": "C_SBDIpaR49P",
        "outputId": "4478fd7f-1f5f-4c72-dba9-1dffcd3cb52a",
        "colab": {
          "base_uri": "https://localhost:8080/"
        }
      },
      "execution_count": null,
      "outputs": [
        {
          "output_type": "stream",
          "name": "stdout",
          "text": [
            "Enter the first number: 10\n",
            "Enter the second number: 20\n",
            "Result: 0.5\n"
          ]
        }
      ]
    },
    {
      "cell_type": "markdown",
      "source": [
        "**7. Write the reason due to which following errors are raised: ** \\\n",
        "a. EOFError \\\n",
        "b. FloatingPointError \\\n",
        "c. IndexError \\\n",
        "d. MemoryError \\\n",
        "e. OverflowError\\\n",
        "f. TabError \\\n",
        "g. ValueError**\n",
        "\n",
        "**Ans 7:**"
      ],
      "metadata": {
        "id": "DL4PpfX3q8iF"
      }
    },
    {
      "cell_type": "markdown",
      "source": [
        "**a. EOFError:** Raised when an input operation (e.g., reading from a file or a stream) reaches the end of the file (EOF) and there is no more data to be read."
      ],
      "metadata": {
        "id": "RNlWmnErq8nS"
      }
    },
    {
      "cell_type": "markdown",
      "source": [
        "**b. FloatingPointError:** Raised when a floating-point operation, such as division by zero or an overflow, results in an undefined or unsupported mathematical operation on floating-point numbers."
      ],
      "metadata": {
        "id": "OzY0rWgJs57g"
      }
    },
    {
      "cell_type": "markdown",
      "source": [
        "**c. IndexError:** Raised when a sequence subscript is out of range."
      ],
      "metadata": {
        "id": "k4aEpB88s6Bw"
      }
    },
    {
      "cell_type": "markdown",
      "source": [
        "**d. MemoryError:** Raised when an operation runs out of memory."
      ],
      "metadata": {
        "id": "jpWAWFBOs6Jg"
      }
    },
    {
      "cell_type": "markdown",
      "source": [
        "**e. OverflowError:** Raised when the result of an arithmetic operation is too large to be expressed by the normal number format."
      ],
      "metadata": {
        "id": "9nU3foPptqbs"
      }
    },
    {
      "cell_type": "markdown",
      "source": [
        "**f. TabError:** Raised when there is an issue with inconsistent use of tabs and spaces for indentation in Python code, such as mixing tabs and spaces."
      ],
      "metadata": {
        "id": "M92V3EjkuEzT"
      }
    },
    {
      "cell_type": "markdown",
      "source": [
        "**g. ValueError:** Raised when a built-in operation or function receives an argument that has the right type but an inappropriate value."
      ],
      "metadata": {
        "id": "C5sWd2QjuOru"
      }
    },
    {
      "cell_type": "markdown",
      "source": [
        "**8. Write code for the following given scenario and add try-exception block to it.**\n",
        "\n",
        "**a. Program to divide two numbers\\\n",
        "b. Program to convert a string to an integer\\\n",
        "c. Program to access an element in a list\\\n",
        "d. Program to handle a specific exception\\\n",
        "e. Program to handle any exception**\n",
        "\n",
        "**Ans 8:**"
      ],
      "metadata": {
        "id": "f45j8FP5ubkW"
      }
    },
    {
      "cell_type": "code",
      "source": [
        "# a. Program to divide two numbers\n",
        "def divide_two_numbers(a, b):\n",
        "    try:\n",
        "        result = a / b\n",
        "        return result\n",
        "    except ZeroDivisionError:\n",
        "        print(\"Error: Cannot divide by zero!\")\n",
        "        return None"
      ],
      "metadata": {
        "colab": {
          "base_uri": "https://localhost:8080/"
        },
        "id": "Jxc0omBPuzJY",
        "outputId": "73f41825-516b-475c-e14b-e2fe8a1a2b98"
      },
      "execution_count": 6,
      "outputs": [
        {
          "output_type": "stream",
          "name": "stdout",
          "text": [
            "Enter the first number: 10\n",
            "Enter the second number: 5\n",
            "Result: 2.0\n"
          ]
        }
      ]
    },
    {
      "cell_type": "code",
      "source": [
        "# b. Program to convert a string to an integer\n",
        "def convert_to_integer(input_string):\n",
        "    try:\n",
        "        integer_value = int(input_string)\n",
        "        return integer_value\n",
        "    except ValueError:\n",
        "        print(\"Error: Invalid input. Please enter a valid integer.\")\n",
        "        return None\n",
        "\n",
        "\n",
        "convert_to_integer(\"Shahid\")"
      ],
      "metadata": {
        "colab": {
          "base_uri": "https://localhost:8080/"
        },
        "id": "-b9KLQcpwGpw",
        "outputId": "916e6e5a-7ab6-49d5-9cc2-bda52d5c9ea8"
      },
      "execution_count": 10,
      "outputs": [
        {
          "output_type": "stream",
          "name": "stdout",
          "text": [
            "Error: Invalid input. Please enter a valid integer.\n"
          ]
        }
      ]
    },
    {
      "cell_type": "code",
      "source": [
        "# c. Program to access an element in a list\n",
        "\n",
        "def access_list_element(input_list, index):\n",
        "    try:\n",
        "        element = input_list[index]\n",
        "        return element\n",
        "    except IndexError:\n",
        "        print(\"Error: Index is out of range. Please enter a valid index.\")\n",
        "        return None\n",
        "\n",
        "list1 = [1, 2, 3, 4]\n",
        "\n",
        "access_list_element(list1, 2)"
      ],
      "metadata": {
        "colab": {
          "base_uri": "https://localhost:8080/"
        },
        "id": "E7q80kBPw0VV",
        "outputId": "64884da6-84d6-4087-e863-632236991ad7"
      },
      "execution_count": 12,
      "outputs": [
        {
          "output_type": "execute_result",
          "data": {
            "text/plain": [
              "3"
            ]
          },
          "metadata": {},
          "execution_count": 12
        }
      ]
    },
    {
      "cell_type": "code",
      "source": [
        "# d. Program to handle a specific exception\n",
        "# program that handles a specific exception, such as a FileNotFoundError, which occurs when a file cannot be found when attempting to open it for reading.\n",
        "# File not found:\n",
        "try:\n",
        "  my_file = \"file_text\"\n",
        "  with open(my_file, \"r\") as file:\n",
        "    contents = file.read()\n",
        "    print(contents)\n",
        "except FileNotFoundError:\n",
        "  print(\"Error: The file was not found.\")"
      ],
      "metadata": {
        "colab": {
          "base_uri": "https://localhost:8080/"
        },
        "id": "j84etiTszCi1",
        "outputId": "a3f5a77c-0e0c-4c32-f37a-7688011fc4f8"
      },
      "execution_count": 17,
      "outputs": [
        {
          "output_type": "stream",
          "name": "stdout",
          "text": [
            "Error: The file was not found.\n"
          ]
        }
      ]
    },
    {
      "cell_type": "code",
      "source": [
        "# e. Program to handle any exception\n",
        "\n",
        "def perform_operation(a, b):\n",
        "    try:\n",
        "        result = a / b\n",
        "        print(\"Result of division:\", result)\n",
        "    except Exception as e:\n",
        "        print(\"An error occurred:\", e)\n",
        "\n",
        "perform_operation(20, 0)\n",
        "perform_operation(20, \"0\")"
      ],
      "metadata": {
        "colab": {
          "base_uri": "https://localhost:8080/"
        },
        "id": "-MHg4-cZ0Lp-",
        "outputId": "bbb694ad-740a-460b-9aaa-6386b3f1836b"
      },
      "execution_count": 25,
      "outputs": [
        {
          "output_type": "stream",
          "name": "stdout",
          "text": [
            "An error occurred: division by zero\n",
            "An error occurred: unsupported operand type(s) for /: 'int' and 'str'\n"
          ]
        }
      ]
    }
  ]
}