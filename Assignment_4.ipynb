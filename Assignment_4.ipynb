{
  "nbformat": 4,
  "nbformat_minor": 0,
  "metadata": {
    "colab": {
      "provenance": [],
      "authorship_tag": "ABX9TyObpWLN0dYdDzEewAD5Q29n",
      "include_colab_link": true
    },
    "kernelspec": {
      "name": "python3",
      "display_name": "Python 3"
    },
    "language_info": {
      "name": "python"
    }
  },
  "cells": [
    {
      "cell_type": "markdown",
      "metadata": {
        "id": "view-in-github",
        "colab_type": "text"
      },
      "source": [
        "<a href=\"https://colab.research.google.com/github/Shahidshaikh25/Assignments/blob/main/Assignment_4.ipynb\" target=\"_parent\"><img src=\"https://colab.research.google.com/assets/colab-badge.svg\" alt=\"Open In Colab\"/></a>"
      ]
    },
    {
      "cell_type": "markdown",
      "source": [
        "**1. What exactly is []?**"
      ],
      "metadata": {
        "id": "l6oG6RM4ci1S"
      }
    },
    {
      "cell_type": "markdown",
      "source": [
        "**Ans 1:** \\\n",
        "The empty list value, which is a list value that contains no items."
      ],
      "metadata": {
        "id": "wnp1D21ackiP"
      }
    },
    {
      "cell_type": "markdown",
      "source": [
        "**2. In a list of values stored in a variable called spam, how would you assign the value 'hello' as the third value? (Assume [2, 4, 6, 8, 10] are in spam.)**\n",
        "\n",
        "**Ans 2:**"
      ],
      "metadata": {
        "id": "KzsgqnOLc01y"
      }
    },
    {
      "cell_type": "code",
      "source": [
        "spam = [2, 4, 6, 8, 10]\n",
        "\n",
        "spam[2] = \"hello\"\n",
        "print(spam)"
      ],
      "metadata": {
        "colab": {
          "base_uri": "https://localhost:8080/"
        },
        "id": "WalKIpEodEev",
        "outputId": "cdacd429-9b1d-44ab-b197-36000fe116ac"
      },
      "execution_count": 55,
      "outputs": [
        {
          "output_type": "stream",
          "name": "stdout",
          "text": [
            "[2, 4, 'hello', 8, 10]\n"
          ]
        }
      ]
    },
    {
      "cell_type": "markdown",
      "source": [
        "**Let's pretend the spam includes the list ['a', 'b', 'c', 'd'] for the next three queries.** \\\n",
        "\n",
        "**3. What is the value of spam[int(int('3' * 2) / 11)]?**\n",
        "\n",
        "**Ans 3:**"
      ],
      "metadata": {
        "id": "63bCy_fxdksW"
      }
    },
    {
      "cell_type": "code",
      "source": [
        "spam = ['a', 'b', 'c', 'd']\n",
        "\n",
        "\n",
        "print(spam[int(int('3' * 2) / 11)])\n"
      ],
      "metadata": {
        "colab": {
          "base_uri": "https://localhost:8080/"
        },
        "id": "_AzUOqsNeR6U",
        "outputId": "d6f39469-4953-461c-da8f-c266c719b888"
      },
      "execution_count": 56,
      "outputs": [
        {
          "output_type": "stream",
          "name": "stdout",
          "text": [
            "d\n"
          ]
        }
      ]
    },
    {
      "cell_type": "markdown",
      "source": [
        "**4. What is the value of spam[-1]?**"
      ],
      "metadata": {
        "id": "v9yUZFw4elPt"
      }
    },
    {
      "cell_type": "markdown",
      "source": [
        "**Ans 4:**\n",
        "\n"
      ],
      "metadata": {
        "id": "gU5uGFJ6eom3"
      }
    },
    {
      "cell_type": "code",
      "source": [
        "print(spam[-1])"
      ],
      "metadata": {
        "colab": {
          "base_uri": "https://localhost:8080/"
        },
        "id": "hFElhCeietOg",
        "outputId": "2f56a722-c2ea-4a60-806a-75d0422438aa"
      },
      "execution_count": 57,
      "outputs": [
        {
          "output_type": "stream",
          "name": "stdout",
          "text": [
            "d\n"
          ]
        }
      ]
    },
    {
      "cell_type": "markdown",
      "source": [
        "**5. What is the value of spam[:2]?**\n",
        "\n",
        "**Ans 5:**\n"
      ],
      "metadata": {
        "id": "v5L9nMqYe2lu"
      }
    },
    {
      "cell_type": "code",
      "source": [
        "print(spam[:2])"
      ],
      "metadata": {
        "colab": {
          "base_uri": "https://localhost:8080/"
        },
        "id": "9rqjmyJEe-KO",
        "outputId": "45c9c58b-3d78-4c58-bb8a-0509652cf82e"
      },
      "execution_count": 58,
      "outputs": [
        {
          "output_type": "stream",
          "name": "stdout",
          "text": [
            "['a', 'b']\n"
          ]
        }
      ]
    },
    {
      "cell_type": "markdown",
      "source": [
        "**Let's pretend bacon has the list [3.14, 'cat,' 11, 'cat,' True] for the next three questions.**\n",
        "\n",
        "**6. What is the value of bacon.index('cat')?**\n",
        "\n",
        "**Ans 6:**"
      ],
      "metadata": {
        "id": "z0p-VOZufLA6"
      }
    },
    {
      "cell_type": "code",
      "source": [
        "bacon = [3.14, 'cat', 11, 'cat', True]\n",
        "\n",
        "print(bacon.index('cat'))"
      ],
      "metadata": {
        "colab": {
          "base_uri": "https://localhost:8080/"
        },
        "id": "o2zyx5gofVr4",
        "outputId": "02cacc41-3c48-4905-ad74-c8dae1318e7b"
      },
      "execution_count": 59,
      "outputs": [
        {
          "output_type": "stream",
          "name": "stdout",
          "text": [
            "1\n"
          ]
        }
      ]
    },
    {
      "cell_type": "markdown",
      "source": [
        "**7. How does bacon.append(99) change the look of the list value in bacon?**\n",
        "\n",
        "**Ans 7:**"
      ],
      "metadata": {
        "id": "yv8XXaqCfvPl"
      }
    },
    {
      "cell_type": "code",
      "source": [
        "bacon.append(99)\n",
        "print(bacon)"
      ],
      "metadata": {
        "colab": {
          "base_uri": "https://localhost:8080/"
        },
        "id": "toNTDxFOgEx6",
        "outputId": "9daa0688-3dae-4134-a299-87fe3dfb5261"
      },
      "execution_count": 60,
      "outputs": [
        {
          "output_type": "stream",
          "name": "stdout",
          "text": [
            "[3.14, 'cat', 11, 'cat', True, 99]\n"
          ]
        }
      ]
    },
    {
      "cell_type": "markdown",
      "source": [
        "**8. How does bacon.remove('cat') change the look of the list in bacon?**\n",
        "\n",
        "**Ans 8:**\n"
      ],
      "metadata": {
        "id": "NfUnyV35gvbK"
      }
    },
    {
      "cell_type": "code",
      "source": [
        "bacon.remove('cat')\n",
        "print(bacon)"
      ],
      "metadata": {
        "colab": {
          "base_uri": "https://localhost:8080/"
        },
        "id": "SXMyEfEXg0n4",
        "outputId": "16877e60-211c-45b0-a368-eb7e9fe38c0a"
      },
      "execution_count": 61,
      "outputs": [
        {
          "output_type": "stream",
          "name": "stdout",
          "text": [
            "[3.14, 11, 'cat', True, 99]\n"
          ]
        }
      ]
    },
    {
      "cell_type": "markdown",
      "source": [
        "**9. What are the list concatenation and list replication operators?**\n",
        "\n",
        "**Ans 9:**"
      ],
      "metadata": {
        "id": "9oGtBBHkg9h7"
      }
    },
    {
      "cell_type": "markdown",
      "source": [
        "The operator for list concatenation is +, while the operator for replication is *."
      ],
      "metadata": {
        "id": "AaxuqW80g_fu"
      }
    },
    {
      "cell_type": "code",
      "source": [
        "letter_list = ['A', 'B', 'C']\n",
        "number_list = [1, 2, 3]\n",
        "\n",
        "print(letter_list + number_list)\n",
        "print(number_list * 4)"
      ],
      "metadata": {
        "colab": {
          "base_uri": "https://localhost:8080/"
        },
        "id": "0zYjZ3YBhiG8",
        "outputId": "236633d4-7064-4cce-ccc3-85eb33ad0fcf"
      },
      "execution_count": 62,
      "outputs": [
        {
          "output_type": "stream",
          "name": "stdout",
          "text": [
            "['A', 'B', 'C', 1, 2, 3]\n",
            "[1, 2, 3, 1, 2, 3, 1, 2, 3, 1, 2, 3]\n"
          ]
        }
      ]
    },
    {
      "cell_type": "markdown",
      "source": [
        "**10. What is difference between the list methods append() and insert()?**\n",
        "\n",
        "**Ans 10:**"
      ],
      "metadata": {
        "id": "Dyc-gMQOhpVe"
      }
    },
    {
      "cell_type": "markdown",
      "source": [
        "**append()** will add values only to the end of a list, **insert()** can add them anywhere in the list."
      ],
      "metadata": {
        "id": "gJggi489hv3T"
      }
    },
    {
      "cell_type": "code",
      "source": [
        "bacon = [3.14, 'cat', 11, 'cat', True]\n",
        "\n",
        "bacon.append(99)\n",
        "print(bacon)"
      ],
      "metadata": {
        "colab": {
          "base_uri": "https://localhost:8080/"
        },
        "id": "GdbJ54SMh9MS",
        "outputId": "4ce2aa79-e028-4094-d93e-461bd1540851"
      },
      "execution_count": 63,
      "outputs": [
        {
          "output_type": "stream",
          "name": "stdout",
          "text": [
            "[3.14, 'cat', 11, 'cat', True, 99]\n"
          ]
        }
      ]
    },
    {
      "cell_type": "code",
      "source": [
        "bacon.insert(1, 66)\n",
        "print(bacon)"
      ],
      "metadata": {
        "colab": {
          "base_uri": "https://localhost:8080/"
        },
        "id": "2Kdn1vkniCcJ",
        "outputId": "289d5843-be97-448a-9381-996bcfefadeb"
      },
      "execution_count": 64,
      "outputs": [
        {
          "output_type": "stream",
          "name": "stdout",
          "text": [
            "[3.14, 66, 'cat', 11, 'cat', True, 99]\n"
          ]
        }
      ]
    },
    {
      "cell_type": "markdown",
      "source": [
        "**11. What are the two methods for removing items from a list?**\n",
        "\n",
        "**Ans 11:**\n"
      ],
      "metadata": {
        "id": "EoFZ3O6wii6q"
      }
    },
    {
      "cell_type": "markdown",
      "source": [
        "The **del** statement and the **remove(**) list method are two ways to remove values from a list."
      ],
      "metadata": {
        "id": "B1z7QbS4it4g"
      }
    },
    {
      "cell_type": "code",
      "source": [
        "#remove()\n",
        "bacon = [3.14, 66, 'cat', 11, 'cat', True, 99]\n",
        "bacon.remove(99)\n",
        "print(bacon)"
      ],
      "metadata": {
        "colab": {
          "base_uri": "https://localhost:8080/"
        },
        "id": "BdjRqbkbi0-y",
        "outputId": "ebd46d33-bb19-4296-c6f1-127d2fd2dadc"
      },
      "execution_count": 65,
      "outputs": [
        {
          "output_type": "stream",
          "name": "stdout",
          "text": [
            "[3.14, 66, 'cat', 11, 'cat', True]\n"
          ]
        }
      ]
    },
    {
      "cell_type": "code",
      "source": [
        "#del\n",
        "bacon = [3.14, 66, 'cat', 11, 'cat', True, 99]\n",
        "del bacon[1]\n",
        "print(bacon)"
      ],
      "metadata": {
        "colab": {
          "base_uri": "https://localhost:8080/"
        },
        "id": "oHkKrQDHjDHw",
        "outputId": "90f69153-e49b-467e-f085-c0d95c4d9420"
      },
      "execution_count": 66,
      "outputs": [
        {
          "output_type": "stream",
          "name": "stdout",
          "text": [
            "[3.14, 'cat', 11, 'cat', True, 99]\n"
          ]
        }
      ]
    },
    {
      "cell_type": "markdown",
      "source": [
        "**12. Describe how list values and string values are identical.**\n",
        "\n",
        "**Ans 12:**"
      ],
      "metadata": {
        "id": "Rbtjion8jp6a"
      }
    },
    {
      "cell_type": "markdown",
      "source": [
        "Both lists and strings can be passed to len(), have indexes and slices, be used in for loops, be concatenated or replicated, and be used with the in and not in operators."
      ],
      "metadata": {
        "id": "TaU3sAtXjweS"
      }
    },
    {
      "cell_type": "markdown",
      "source": [
        "**13. What's the difference between tuples and lists?**\n",
        "\n",
        "**Ans 13:**\n"
      ],
      "metadata": {
        "id": "sxecYVokkRiv"
      }
    },
    {
      "cell_type": "markdown",
      "source": [
        "Lists are mutable; they can have values added, removed, or changed. lists use the square brackets, [ and ].\n",
        "\n",
        "Tuples are immutable; they cannot be changed at all. Also, tuples are written using parentheses, ( and )."
      ],
      "metadata": {
        "id": "ZS6k_YdHkhV6"
      }
    },
    {
      "cell_type": "markdown",
      "source": [
        "**14. How do you type a tuple value that only contains the integer 42?**\n",
        "\n",
        "**Ans 14:**"
      ],
      "metadata": {
        "id": "grfZopQ_orkI"
      }
    },
    {
      "cell_type": "code",
      "source": [
        "a = (42,)\n",
        "print(a)"
      ],
      "metadata": {
        "colab": {
          "base_uri": "https://localhost:8080/"
        },
        "id": "o3aaU-c6pNau",
        "outputId": "dfc3558b-a872-4940-dcb6-97a9b6490c76"
      },
      "execution_count": 67,
      "outputs": [
        {
          "output_type": "stream",
          "name": "stdout",
          "text": [
            "(42,)\n"
          ]
        }
      ]
    },
    {
      "cell_type": "markdown",
      "source": [
        "**15. How do you get a list value's tuple form? How do you get a tuple value's list form?**\n",
        "\n",
        "**Ans 15:**\n"
      ],
      "metadata": {
        "id": "RYKhqXlvpllk"
      }
    },
    {
      "cell_type": "markdown",
      "source": [
        "The **tuple()** and **list()** functions, respectively."
      ],
      "metadata": {
        "id": "F3f6IVs3p45l"
      }
    },
    {
      "cell_type": "code",
      "source": [
        "# tuple to list\n",
        "a = (12, \"king\", 99)\n",
        "print(list(a))"
      ],
      "metadata": {
        "colab": {
          "base_uri": "https://localhost:8080/"
        },
        "id": "8Uc2odUop2mF",
        "outputId": "2e743931-79b3-407c-e4ff-73551482a126"
      },
      "execution_count": 68,
      "outputs": [
        {
          "output_type": "stream",
          "name": "stdout",
          "text": [
            "[12, 'king', 99]\n"
          ]
        }
      ]
    },
    {
      "cell_type": "code",
      "source": [
        "# tuple to list\n",
        "a = [12, \"king\", 99]\n",
        "print(tuple(a))"
      ],
      "metadata": {
        "colab": {
          "base_uri": "https://localhost:8080/"
        },
        "id": "OqRBA24VpxqX",
        "outputId": "eafa1359-03eb-459d-dc33-48162abe3f44"
      },
      "execution_count": 69,
      "outputs": [
        {
          "output_type": "stream",
          "name": "stdout",
          "text": [
            "(12, 'king', 99)\n"
          ]
        }
      ]
    },
    {
      "cell_type": "markdown",
      "source": [
        "**16. Variables that \"contain\" list values are not necessarily lists themselves. Instead, what do they contain?**\n",
        "\n",
        "**Ans 16:**"
      ],
      "metadata": {
        "id": "2SjrE-G0qmrG"
      }
    },
    {
      "cell_type": "markdown",
      "source": [
        "They contain references to list values."
      ],
      "metadata": {
        "id": "IPLjdLK_qvAo"
      }
    },
    {
      "cell_type": "markdown",
      "source": [
        "**17. What is the difference between copy.copy() and copy.deepcopy()?**\n",
        "\n",
        "**Ans 17.**"
      ],
      "metadata": {
        "id": "6uWFiFEUqzMF"
      }
    },
    {
      "cell_type": "markdown",
      "source": [
        "The copy.copy() function will do a shallow copy of a list, while the copy.deepcopy() function will do a deep copy of a list. That is, only copy.deepcopy() will duplicate any lists inside the list."
      ],
      "metadata": {
        "id": "JJFX8xb_q4a0"
      }
    }
  ]
}