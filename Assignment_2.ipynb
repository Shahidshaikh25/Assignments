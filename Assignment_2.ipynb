{
  "nbformat": 4,
  "nbformat_minor": 0,
  "metadata": {
    "colab": {
      "provenance": [],
      "authorship_tag": "ABX9TyMx13bb5FIFcNDZB3+MU7lS",
      "include_colab_link": true
    },
    "kernelspec": {
      "name": "python3",
      "display_name": "Python 3"
    },
    "language_info": {
      "name": "python"
    }
  },
  "cells": [
    {
      "cell_type": "markdown",
      "metadata": {
        "id": "view-in-github",
        "colab_type": "text"
      },
      "source": [
        "<a href=\"https://colab.research.google.com/github/Shahidshaikh25/Assignments/blob/main/Assignment_2.ipynb\" target=\"_parent\"><img src=\"https://colab.research.google.com/assets/colab-badge.svg\" alt=\"Open In Colab\"/></a>"
      ]
    },
    {
      "cell_type": "markdown",
      "source": [
        "**1.What are the two values of the Boolean data type? How do you write them?**"
      ],
      "metadata": {
        "id": "3Dh5onWXjeIo"
      }
    },
    {
      "cell_type": "markdown",
      "source": [
        "**Ans 1:** \\\n",
        "\n",
        "**True** \\\n",
        "**False** \\\n",
        "Initial letter \"T\" and \"F\" in upper case and the rest letter in lower case"
      ],
      "metadata": {
        "id": "pi_OvpHhjinf"
      }
    },
    {
      "cell_type": "markdown",
      "source": [
        "**2. What are the three different types of Boolean operators?**"
      ],
      "metadata": {
        "id": "OGiJZYvDka67"
      }
    },
    {
      "cell_type": "markdown",
      "source": [
        "**Ans 2:** \\\n",
        "**and**, **or** and **not** operators"
      ],
      "metadata": {
        "id": "x7sEbkgwkh72"
      }
    },
    {
      "cell_type": "markdown",
      "source": [
        "**3. Make a list of each Boolean operator's truth tables (i.e. every possible combination of Boolean values for the operator and what it evaluate )**"
      ],
      "metadata": {
        "id": "KvyePMcOnlL_"
      }
    },
    {
      "cell_type": "markdown",
      "source": [
        "**Ans 3:** \\\n",
        "\n",
        "True and True is True.\n",
        "\n",
        "True and False is False.\n",
        "\n",
        "False and True is False.\n",
        "\n",
        "False and False is False.\n",
        "\n",
        "True or True is True.\n",
        "\n",
        "True or False is True.\n",
        "\n",
        "False or True is True.\n",
        "\n",
        "False or False is False.\n",
        "\n",
        "not True is False.\n",
        "\n",
        "not False is True.\n",
        "\n",
        "True is 1 and False is 0 \\\n",
        "Truth Table for AND \\\n",
        "A B output \\\n",
        "0 0 0 \\\n",
        "0 1 0 \\\n",
        "1 0 0 \\\n",
        "1 1 1 \\\n",
        "Truth Table for OR \\\n",
        "A B output \\\n",
        "0 0 0 \\\n",
        "0 1 1 \\\n",
        "1 0 1 \\\n",
        "1 1 1 \\\n",
        "Truth Table for NOT \\\n",
        "A output \\\n",
        "0 1 \\\n",
        "1 0"
      ],
      "metadata": {
        "id": "X75oU4AnmMIA"
      }
    },
    {
      "cell_type": "markdown",
      "source": [
        "**4. What are the values of the following expressions?**"
      ],
      "metadata": {
        "id": "K8Ol5XsWnxpX"
      }
    },
    {
      "cell_type": "markdown",
      "source": [
        "**Ans 4:**"
      ],
      "metadata": {
        "id": "r4S0xHCVn5Bj"
      }
    },
    {
      "cell_type": "code",
      "source": [
        "(5 > 4) and (3 == 5)"
      ],
      "metadata": {
        "colab": {
          "base_uri": "https://localhost:8080/"
        },
        "id": "Z83oRXSAn4o2",
        "outputId": "a118be80-c9d2-4a7a-9d53-7830228054ba"
      },
      "execution_count": 2,
      "outputs": [
        {
          "output_type": "execute_result",
          "data": {
            "text/plain": [
              "False"
            ]
          },
          "metadata": {},
          "execution_count": 2
        }
      ]
    },
    {
      "cell_type": "code",
      "source": [
        "not (5 > 4)"
      ],
      "metadata": {
        "colab": {
          "base_uri": "https://localhost:8080/"
        },
        "id": "RXtOychzoI7m",
        "outputId": "4ca63ec3-0cf9-4c56-d83a-8e4fed010db8"
      },
      "execution_count": 3,
      "outputs": [
        {
          "output_type": "execute_result",
          "data": {
            "text/plain": [
              "False"
            ]
          },
          "metadata": {},
          "execution_count": 3
        }
      ]
    },
    {
      "cell_type": "code",
      "source": [
        "(5 > 4) or (3 == 5)"
      ],
      "metadata": {
        "colab": {
          "base_uri": "https://localhost:8080/"
        },
        "id": "ok2UzllgoM8H",
        "outputId": "cc07cfc2-028e-4cbf-f7f9-0ca122cefef5"
      },
      "execution_count": 4,
      "outputs": [
        {
          "output_type": "execute_result",
          "data": {
            "text/plain": [
              "True"
            ]
          },
          "metadata": {},
          "execution_count": 4
        }
      ]
    },
    {
      "cell_type": "code",
      "source": [
        "not ((5 > 4) or (3 == 5))"
      ],
      "metadata": {
        "colab": {
          "base_uri": "https://localhost:8080/"
        },
        "id": "qgmFqQM3oPPb",
        "outputId": "3da37af7-cfbc-4fe0-e851-c8e1793ff675"
      },
      "execution_count": 5,
      "outputs": [
        {
          "output_type": "execute_result",
          "data": {
            "text/plain": [
              "False"
            ]
          },
          "metadata": {},
          "execution_count": 5
        }
      ]
    },
    {
      "cell_type": "code",
      "source": [
        "(True and True) and (True == False)"
      ],
      "metadata": {
        "colab": {
          "base_uri": "https://localhost:8080/"
        },
        "id": "zbIfIyokoRIx",
        "outputId": "6ac15bcf-73c1-4a3b-8a3e-355177741035"
      },
      "execution_count": 6,
      "outputs": [
        {
          "output_type": "execute_result",
          "data": {
            "text/plain": [
              "False"
            ]
          },
          "metadata": {},
          "execution_count": 6
        }
      ]
    },
    {
      "cell_type": "code",
      "source": [
        "(not False) or (not True)"
      ],
      "metadata": {
        "colab": {
          "base_uri": "https://localhost:8080/"
        },
        "id": "_kzxiv-soTCG",
        "outputId": "62213e4b-0e9e-47d4-ba2a-7cbe6ba316e2"
      },
      "execution_count": 7,
      "outputs": [
        {
          "output_type": "execute_result",
          "data": {
            "text/plain": [
              "True"
            ]
          },
          "metadata": {},
          "execution_count": 7
        }
      ]
    },
    {
      "cell_type": "markdown",
      "source": [
        "**5. What are the six comparison operators?**"
      ],
      "metadata": {
        "id": "yW6mhpxLop_e"
      }
    },
    {
      "cell_type": "markdown",
      "source": [
        "**Ans 5:** \\\n",
        "==, !=, <, >, <=, and >=."
      ],
      "metadata": {
        "id": "HwKZprXnpA73"
      }
    },
    {
      "cell_type": "markdown",
      "source": [
        "**6. How do you tell the difference between the equal to and assignment operators?Describe a condition and when you would use one.**"
      ],
      "metadata": {
        "id": "sxaF9hQhpi8s"
      }
    },
    {
      "cell_type": "markdown",
      "source": [
        "**Ans 6:** \\\n",
        "\"==\" is the equal to operator that compare the two values and evaluates to a Boolean (either True or false), whereas \"=\" is the assignment operator that stores a value in a variable."
      ],
      "metadata": {
        "id": "8enDFws1qNpV"
      }
    },
    {
      "cell_type": "markdown",
      "source": [
        "**7. Identify the three blocks in this code:**\n",
        "spam = 0 \\\n",
        "if spam == 10: \\\n",
        "print('eggs') \\\n",
        "if spam > 5: \\\n",
        "print('bacon') \\\n",
        "else:\n",
        "print('ham') \\\n",
        "print('spam') \\\n",
        "print('spam') \\"
      ],
      "metadata": {
        "id": "uiF25Ai_rCqG"
      }
    },
    {
      "cell_type": "markdown",
      "source": [
        "**Ans 7:**\n"
      ],
      "metadata": {
        "id": "YLlxK78Vrf5S"
      }
    },
    {
      "cell_type": "code",
      "source": [
        "spam = 0\n",
        "if spam == 10:\n",
        "    print('eggs') #Block 1\n",
        "if spam > 5:\n",
        "    print('bacon') #Block 2\n",
        "else:\n",
        "    print('ham') #Block 3\n",
        "    print('spam')\n",
        "    print('spam')"
      ],
      "metadata": {
        "colab": {
          "base_uri": "https://localhost:8080/"
        },
        "id": "ILN5J7Spr4GO",
        "outputId": "b1f24335-4d56-4950-a08d-2c1dc4650d11"
      },
      "execution_count": 8,
      "outputs": [
        {
          "output_type": "stream",
          "name": "stdout",
          "text": [
            "ham\n",
            "spam\n",
            "spam\n"
          ]
        }
      ]
    },
    {
      "cell_type": "markdown",
      "source": [
        "**8. Write code that prints Hello if 1 is stored in spam, prints Howdy if 2 is stored in spam, and prints Greetings! if anything else is stored in spam.**"
      ],
      "metadata": {
        "id": "6FHPJ270r7mE"
      }
    },
    {
      "cell_type": "markdown",
      "source": [
        "**Ans 8:**"
      ],
      "metadata": {
        "id": "NnQ2W5DOsM3u"
      }
    },
    {
      "cell_type": "code",
      "source": [
        "spam = int(input(\"Enter a number: \" ))\n",
        "\n",
        "if spam == 1:\n",
        "  print(\"Hello\")\n",
        "elif spam == 2:\n",
        "  print(\"Howdy\")\n",
        "else:\n",
        "  print(\"Greetings!\")"
      ],
      "metadata": {
        "colab": {
          "base_uri": "https://localhost:8080/"
        },
        "id": "nY-uAp1IsbVN",
        "outputId": "73b24888-8123-4d49-a8c5-4ca34ed6d59e"
      },
      "execution_count": 1,
      "outputs": [
        {
          "output_type": "stream",
          "name": "stdout",
          "text": [
            "Enter a number: 0\n",
            "Greetings!\n"
          ]
        }
      ]
    },
    {
      "cell_type": "markdown",
      "source": [
        "**9.If your programme is stuck in an endless loop, what keys you’ll press?**"
      ],
      "metadata": {
        "id": "O_6XGedgtgG2"
      }
    },
    {
      "cell_type": "markdown",
      "source": [
        "**Ans 9:** \\\n",
        "If program is stuck in endless loop we will press ctrl+c."
      ],
      "metadata": {
        "id": "sOHqxzc_th30"
      }
    },
    {
      "cell_type": "markdown",
      "source": [
        "**10. How can you tell the difference between break and continue?**"
      ],
      "metadata": {
        "id": "NKSpsX6Xt2gA"
      }
    },
    {
      "cell_type": "markdown",
      "source": [
        "**Ans 10:** \\\n",
        "The break statement will move the execution outside and just after a loop. The continue statement will move the execution to the start of the loop."
      ],
      "metadata": {
        "id": "_LCDSE_ot9uE"
      }
    },
    {
      "cell_type": "code",
      "source": [
        "# use of break\n",
        "for i in range(10):\n",
        "    if(i==7):\n",
        "        break\n",
        "    print(i)\n",
        "print(\"breaked\")"
      ],
      "metadata": {
        "colab": {
          "base_uri": "https://localhost:8080/"
        },
        "id": "1tEOwiVzuNct",
        "outputId": "4b8080bd-2229-4a76-bc86-48a2a6d373e5"
      },
      "execution_count": 12,
      "outputs": [
        {
          "output_type": "stream",
          "name": "stdout",
          "text": [
            "0\n",
            "1\n",
            "2\n",
            "3\n",
            "4\n",
            "5\n",
            "6\n",
            "breaked\n"
          ]
        }
      ]
    },
    {
      "cell_type": "code",
      "source": [
        "#use of  continue\n",
        "for i in range(10):\n",
        "    if(i==7):\n",
        "        continue\n",
        "    print(i)"
      ],
      "metadata": {
        "colab": {
          "base_uri": "https://localhost:8080/"
        },
        "id": "nMXzp7UbuSBY",
        "outputId": "67e24cd5-e13f-4307-e446-eae625978a7b"
      },
      "execution_count": 13,
      "outputs": [
        {
          "output_type": "stream",
          "name": "stdout",
          "text": [
            "0\n",
            "1\n",
            "2\n",
            "3\n",
            "4\n",
            "5\n",
            "6\n",
            "8\n",
            "9\n"
          ]
        }
      ]
    },
    {
      "cell_type": "markdown",
      "source": [
        "**11. In a for loop, what is the difference between range(10), range(0, 10), and range(0, 10, 1)?**"
      ],
      "metadata": {
        "id": "A3CUgfOyuqou"
      }
    },
    {
      "cell_type": "markdown",
      "source": [
        "**Ans 11:** \\\n",
        "The Output will be the same. The range(10) call ranges from 0 up to (but not including) 10, range(0, 10) explicitly tells the loop to start at 0, and range(0, 10, 1) tells the loop to increase the variable by 1 on each iteration."
      ],
      "metadata": {
        "id": "-VDFNs0Zu13p"
      }
    },
    {
      "cell_type": "code",
      "source": [
        "for i in range(10):\n",
        "    print(i)\n",
        "print(\"------------------------------\")\n",
        "for i in range(0,10):\n",
        "    print(i)\n",
        "print(\"------------------------------\")\n",
        "for i in range(0,10,1):\n",
        "    print(i)"
      ],
      "metadata": {
        "colab": {
          "base_uri": "https://localhost:8080/"
        },
        "id": "gq6lKd8zvKIM",
        "outputId": "ac1f955e-7e5d-46eb-f11c-3778d22c7516"
      },
      "execution_count": 14,
      "outputs": [
        {
          "output_type": "stream",
          "name": "stdout",
          "text": [
            "0\n",
            "1\n",
            "2\n",
            "3\n",
            "4\n",
            "5\n",
            "6\n",
            "7\n",
            "8\n",
            "9\n",
            "------------------------------\n",
            "0\n",
            "1\n",
            "2\n",
            "3\n",
            "4\n",
            "5\n",
            "6\n",
            "7\n",
            "8\n",
            "9\n",
            "------------------------------\n",
            "0\n",
            "1\n",
            "2\n",
            "3\n",
            "4\n",
            "5\n",
            "6\n",
            "7\n",
            "8\n",
            "9\n"
          ]
        }
      ]
    },
    {
      "cell_type": "markdown",
      "source": [
        "12. Write a short program that prints the numbers 1 to 10 using a for loop. Then write an equivalent program that prints the numbers 1 to 10 using a while loop."
      ],
      "metadata": {
        "id": "fW-gZKGRvx1c"
      }
    },
    {
      "cell_type": "markdown",
      "source": [
        "**Ans 12:**"
      ],
      "metadata": {
        "id": "9Zl_lm_6v_Ot"
      }
    },
    {
      "cell_type": "code",
      "source": [
        "for i in range(1,11):\n",
        "  print(i)"
      ],
      "metadata": {
        "colab": {
          "base_uri": "https://localhost:8080/"
        },
        "id": "-fvGoujfv-qh",
        "outputId": "d4dc76b4-55eb-4bbb-c69b-2ca1e21002d3"
      },
      "execution_count": 17,
      "outputs": [
        {
          "output_type": "stream",
          "name": "stdout",
          "text": [
            "1\n",
            "2\n",
            "3\n",
            "4\n",
            "5\n",
            "6\n",
            "7\n",
            "8\n",
            "9\n",
            "10\n"
          ]
        }
      ]
    },
    {
      "cell_type": "code",
      "source": [
        "a = 1\n",
        "while a <= 10:\n",
        "  print(a)\n",
        "  a += 1"
      ],
      "metadata": {
        "colab": {
          "base_uri": "https://localhost:8080/"
        },
        "id": "uoW7b-eZwYrL",
        "outputId": "9f18da98-60d1-4375-bac5-3b2bced691bb"
      },
      "execution_count": 27,
      "outputs": [
        {
          "output_type": "stream",
          "name": "stdout",
          "text": [
            "1\n",
            "2\n",
            "3\n",
            "4\n",
            "5\n",
            "6\n",
            "7\n",
            "8\n",
            "9\n",
            "10\n"
          ]
        }
      ]
    },
    {
      "cell_type": "markdown",
      "source": [
        "**13. If you had a function named bacon() inside a module named spam, how would you call it after importing spam?**"
      ],
      "metadata": {
        "id": "NXndwzSLxOcx"
      }
    },
    {
      "cell_type": "markdown",
      "source": [
        "**Ans 13:** \\\n",
        "This function can be called with spam.bacon()."
      ],
      "metadata": {
        "id": "ZNSPediZxXuT"
      }
    }
  ]
}