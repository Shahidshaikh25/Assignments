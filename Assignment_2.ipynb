{
  "nbformat": 4,
  "nbformat_minor": 0,
  "metadata": {
    "colab": {
      "provenance": [],
      "authorship_tag": "ABX9TyOrGOmAG70oODxCHP2WIhGs",
      "include_colab_link": true
    },
    "kernelspec": {
      "name": "python3",
      "display_name": "Python 3"
    },
    "language_info": {
      "name": "python"
    }
  },
  "cells": [
    {
      "cell_type": "markdown",
      "metadata": {
        "id": "view-in-github",
        "colab_type": "text"
      },
      "source": [
        "<a href=\"https://colab.research.google.com/github/Shahidshaikh25/Assignments/blob/main/Assignment_2.ipynb\" target=\"_parent\"><img src=\"https://colab.research.google.com/assets/colab-badge.svg\" alt=\"Open In Colab\"/></a>"
      ]
    },
    {
      "cell_type": "markdown",
      "source": [
        "**1.What are the two values of the Boolean data type? How do you write them?**"
      ],
      "metadata": {
        "id": "3Dh5onWXjeIo"
      }
    },
    {
      "cell_type": "markdown",
      "source": [
        "**Ans 1:**\n",
        "\n",
        "**True** \\\n",
        "**False** \\\n",
        "Initial letter \"T\" and \"F\" in upper case and the rest letter in lower case"
      ],
      "metadata": {
        "id": "pi_OvpHhjinf"
      }
    },
    {
      "cell_type": "markdown",
      "source": [
        "**2. What are the three different types of Boolean operators?**"
      ],
      "metadata": {
        "id": "OGiJZYvDka67"
      }
    },
    {
      "cell_type": "markdown",
      "source": [
        "**Ans 2:** \\\n",
        "**and**, **or** and **not** operators"
      ],
      "metadata": {
        "id": "x7sEbkgwkh72"
      }
    },
    {
      "cell_type": "markdown",
      "source": [
        "**3. Make a list of each Boolean operator's truth tables (i.e. every possible combination of Boolean values for the operator and what it evaluate )**"
      ],
      "metadata": {
        "id": "KvyePMcOnlL_"
      }
    },
    {
      "cell_type": "markdown",
      "source": [
        "**Ans 3:**\n",
        "\n",
        "True and True is True.\n",
        "\n",
        "True and False is False.\n",
        "\n",
        "False and True is False.\n",
        "\n",
        "False and False is False.\n",
        "\n",
        "True or True is True.\n",
        "\n",
        "True or False is True.\n",
        "\n",
        "False or True is True.\n",
        "\n",
        "False or False is False.\n",
        "\n",
        "not True is False.\n",
        "\n",
        "not False is True.\n",
        "\n",
        "True is 1 and False is 0 \\\n",
        "Truth Table for AND \\\n",
        "A B output \\\n",
        "0 0 0 \\\n",
        "0 1 0 \\\n",
        "1 0 0 \\\n",
        "1 1 1 \\\n",
        "Truth Table for OR \\\n",
        "A B output \\\n",
        "0 0 0 \\\n",
        "0 1 1 \\\n",
        "1 0 1 \\\n",
        "1 1 1 \\\n",
        "Truth Table for NOT \\\n",
        "A output \\\n",
        "0 1 \\\n",
        "1 0"
      ],
      "metadata": {
        "id": "X75oU4AnmMIA"
      }
    },
    {
      "cell_type": "markdown",
      "source": [
        "**4. What are the values of the following expressions?**"
      ],
      "metadata": {
        "id": "K8Ol5XsWnxpX"
      }
    },
    {
      "cell_type": "markdown",
      "source": [
        "**Ans 4:**"
      ],
      "metadata": {
        "id": "r4S0xHCVn5Bj"
      }
    },
    {
      "cell_type": "code",
      "source": [
        "(5 > 4) and (3 == 5)"
      ],
      "metadata": {
        "id": "Z83oRXSAn4o2",
        "colab": {
          "base_uri": "https://localhost:8080/"
        },
        "outputId": "c00e4052-610a-465b-9c68-4565438088a3"
      },
      "execution_count": 41,
      "outputs": [
        {
          "output_type": "execute_result",
          "data": {
            "text/plain": [
              "False"
            ]
          },
          "metadata": {},
          "execution_count": 41
        }
      ]
    },
    {
      "cell_type": "code",
      "source": [
        "not (5 > 4)"
      ],
      "metadata": {
        "id": "RXtOychzoI7m",
        "colab": {
          "base_uri": "https://localhost:8080/"
        },
        "outputId": "f4f06ead-34c5-494b-e539-5e1d6aaba51c"
      },
      "execution_count": 42,
      "outputs": [
        {
          "output_type": "execute_result",
          "data": {
            "text/plain": [
              "False"
            ]
          },
          "metadata": {},
          "execution_count": 42
        }
      ]
    },
    {
      "cell_type": "code",
      "source": [
        "(5 > 4) or (3 == 5)"
      ],
      "metadata": {
        "id": "ok2UzllgoM8H",
        "colab": {
          "base_uri": "https://localhost:8080/"
        },
        "outputId": "1b596620-1041-4365-a1c2-6b6b0e461fb1"
      },
      "execution_count": 43,
      "outputs": [
        {
          "output_type": "execute_result",
          "data": {
            "text/plain": [
              "True"
            ]
          },
          "metadata": {},
          "execution_count": 43
        }
      ]
    },
    {
      "cell_type": "code",
      "source": [
        "not ((5 > 4) or (3 == 5))"
      ],
      "metadata": {
        "id": "qgmFqQM3oPPb",
        "colab": {
          "base_uri": "https://localhost:8080/"
        },
        "outputId": "105624b9-eb9d-48ee-8205-14d925273d02"
      },
      "execution_count": 44,
      "outputs": [
        {
          "output_type": "execute_result",
          "data": {
            "text/plain": [
              "False"
            ]
          },
          "metadata": {},
          "execution_count": 44
        }
      ]
    },
    {
      "cell_type": "code",
      "source": [
        "(True and True) and (True == False)"
      ],
      "metadata": {
        "id": "zbIfIyokoRIx",
        "colab": {
          "base_uri": "https://localhost:8080/"
        },
        "outputId": "daf5a26c-de2f-4367-93ef-5d9589647a7a"
      },
      "execution_count": 45,
      "outputs": [
        {
          "output_type": "execute_result",
          "data": {
            "text/plain": [
              "False"
            ]
          },
          "metadata": {},
          "execution_count": 45
        }
      ]
    },
    {
      "cell_type": "code",
      "source": [
        "(not False) or (not True)"
      ],
      "metadata": {
        "id": "_kzxiv-soTCG",
        "colab": {
          "base_uri": "https://localhost:8080/"
        },
        "outputId": "33aa700b-86d4-40b0-aa65-422329b81c67"
      },
      "execution_count": 46,
      "outputs": [
        {
          "output_type": "execute_result",
          "data": {
            "text/plain": [
              "True"
            ]
          },
          "metadata": {},
          "execution_count": 46
        }
      ]
    },
    {
      "cell_type": "markdown",
      "source": [
        "**5. What are the six comparison operators?**"
      ],
      "metadata": {
        "id": "yW6mhpxLop_e"
      }
    },
    {
      "cell_type": "markdown",
      "source": [
        "**Ans 5:** \\\n",
        "==, !=, <, >, <=, and >=."
      ],
      "metadata": {
        "id": "HwKZprXnpA73"
      }
    },
    {
      "cell_type": "markdown",
      "source": [
        "**6. How do you tell the difference between the equal to and assignment operators?Describe a condition and when you would use one.**"
      ],
      "metadata": {
        "id": "sxaF9hQhpi8s"
      }
    },
    {
      "cell_type": "markdown",
      "source": [
        "**Ans 6:** \\\n",
        "\"==\" is the equal to operator that compare the two values and evaluates to a Boolean (either True or false), whereas \"=\" is the assignment operator that stores a value in a variable."
      ],
      "metadata": {
        "id": "8enDFws1qNpV"
      }
    },
    {
      "cell_type": "markdown",
      "source": [
        "**7. Identify the three blocks in this code:**\n",
        "spam = 0 \\\n",
        "if spam == 10: \\\n",
        "print('eggs') \\\n",
        "if spam > 5: \\\n",
        "print('bacon') \\\n",
        "else:\n",
        "print('ham') \\\n",
        "print('spam') \\\n",
        "print('spam')"
      ],
      "metadata": {
        "id": "uiF25Ai_rCqG"
      }
    },
    {
      "cell_type": "markdown",
      "source": [
        "**Ans 7:**\n"
      ],
      "metadata": {
        "id": "YLlxK78Vrf5S"
      }
    },
    {
      "cell_type": "code",
      "source": [
        "spam = 0\n",
        "if spam == 10:\n",
        "    print('eggs') #Block 1\n",
        "if spam > 5:\n",
        "    print('bacon') #Block 2\n",
        "else:\n",
        "    print('ham') #Block 3\n",
        "    print('spam')\n",
        "    print('spam')"
      ],
      "metadata": {
        "id": "ILN5J7Spr4GO",
        "colab": {
          "base_uri": "https://localhost:8080/"
        },
        "outputId": "df140d69-2e47-4298-b9e1-dd55087f8a75"
      },
      "execution_count": 47,
      "outputs": [
        {
          "output_type": "stream",
          "name": "stdout",
          "text": [
            "ham\n",
            "spam\n",
            "spam\n"
          ]
        }
      ]
    },
    {
      "cell_type": "markdown",
      "source": [
        "**8. Write code that prints Hello if 1 is stored in spam, prints Howdy if 2 is stored in spam, and prints Greetings! if anything else is stored in spam.**"
      ],
      "metadata": {
        "id": "6FHPJ270r7mE"
      }
    },
    {
      "cell_type": "markdown",
      "source": [
        "**Ans 8:**"
      ],
      "metadata": {
        "id": "NnQ2W5DOsM3u"
      }
    },
    {
      "cell_type": "code",
      "source": [
        "spam = int(input(\"Enter a number: \" ))\n",
        "\n",
        "if spam == 1:\n",
        "  print(\"Hello\")\n",
        "elif spam == 2:\n",
        "  print(\"Howdy\")\n",
        "else:\n",
        "  print(\"Greetings!\")"
      ],
      "metadata": {
        "id": "nY-uAp1IsbVN",
        "colab": {
          "base_uri": "https://localhost:8080/"
        },
        "outputId": "26059996-dd32-4412-9580-9511164f11b8"
      },
      "execution_count": 50,
      "outputs": [
        {
          "output_type": "stream",
          "name": "stdout",
          "text": [
            "Enter a number: 1\n",
            "Hello\n"
          ]
        }
      ]
    },
    {
      "cell_type": "markdown",
      "source": [
        "**9.If your programme is stuck in an endless loop, what keys you’ll press?**"
      ],
      "metadata": {
        "id": "O_6XGedgtgG2"
      }
    },
    {
      "cell_type": "markdown",
      "source": [
        "**Ans 9:** \\\n",
        "If program is stuck in endless loop we will press ctrl+c."
      ],
      "metadata": {
        "id": "sOHqxzc_th30"
      }
    },
    {
      "cell_type": "markdown",
      "source": [
        "**10. How can you tell the difference between break and continue?**"
      ],
      "metadata": {
        "id": "NKSpsX6Xt2gA"
      }
    },
    {
      "cell_type": "markdown",
      "source": [
        "**Ans 10:** \\\n",
        "The break statement will move the execution outside and just after a loop. The continue statement will move the execution to the start of the loop."
      ],
      "metadata": {
        "id": "_LCDSE_ot9uE"
      }
    },
    {
      "cell_type": "code",
      "source": [
        "# use of break\n",
        "for i in range(10):\n",
        "    if(i==7):\n",
        "        break\n",
        "    print(i)\n",
        "print(\"breaked\")"
      ],
      "metadata": {
        "id": "1tEOwiVzuNct",
        "colab": {
          "base_uri": "https://localhost:8080/"
        },
        "outputId": "75abe467-af31-4927-9b63-332f04349f2e"
      },
      "execution_count": 36,
      "outputs": [
        {
          "output_type": "stream",
          "name": "stdout",
          "text": [
            "0\n",
            "1\n",
            "2\n",
            "3\n",
            "4\n",
            "5\n",
            "6\n",
            "breaked\n"
          ]
        }
      ]
    },
    {
      "cell_type": "code",
      "source": [
        "#use of  continue\n",
        "for i in range(10):\n",
        "    if(i==7):\n",
        "        continue\n",
        "    print(i)"
      ],
      "metadata": {
        "id": "nMXzp7UbuSBY",
        "colab": {
          "base_uri": "https://localhost:8080/"
        },
        "outputId": "cc53ed06-ad9a-4c63-fee7-01e4358c6d62"
      },
      "execution_count": 37,
      "outputs": [
        {
          "output_type": "stream",
          "name": "stdout",
          "text": [
            "0\n",
            "1\n",
            "2\n",
            "3\n",
            "4\n",
            "5\n",
            "6\n",
            "8\n",
            "9\n"
          ]
        }
      ]
    },
    {
      "cell_type": "markdown",
      "source": [
        "**11. In a for loop, what is the difference between range(10), range(0, 10), and range(0, 10, 1)?**"
      ],
      "metadata": {
        "id": "A3CUgfOyuqou"
      }
    },
    {
      "cell_type": "markdown",
      "source": [
        "**Ans 11:** \\\n",
        "The Output will be the same. The range(10) call ranges from 0 up to (but not including) 10, range(0, 10) explicitly tells the loop to start at 0, and range(0, 10, 1) tells the loop to increase the variable by 1 on each iteration."
      ],
      "metadata": {
        "id": "-VDFNs0Zu13p"
      }
    },
    {
      "cell_type": "code",
      "source": [
        "for i in range(10):\n",
        "    print(i)\n",
        "print(\"------------------------------\")\n",
        "for i in range(0,10):\n",
        "    print(i)\n",
        "print(\"------------------------------\")\n",
        "for i in range(0,10,1):\n",
        "    print(i)"
      ],
      "metadata": {
        "id": "gq6lKd8zvKIM",
        "colab": {
          "base_uri": "https://localhost:8080/"
        },
        "outputId": "fc21ca68-f00c-4abb-ed81-1b262d4c730f"
      },
      "execution_count": 38,
      "outputs": [
        {
          "output_type": "stream",
          "name": "stdout",
          "text": [
            "0\n",
            "1\n",
            "2\n",
            "3\n",
            "4\n",
            "5\n",
            "6\n",
            "7\n",
            "8\n",
            "9\n",
            "------------------------------\n",
            "0\n",
            "1\n",
            "2\n",
            "3\n",
            "4\n",
            "5\n",
            "6\n",
            "7\n",
            "8\n",
            "9\n",
            "------------------------------\n",
            "0\n",
            "1\n",
            "2\n",
            "3\n",
            "4\n",
            "5\n",
            "6\n",
            "7\n",
            "8\n",
            "9\n"
          ]
        }
      ]
    },
    {
      "cell_type": "markdown",
      "source": [
        "**12. Write a short program that prints the numbers 1 to 10 using a for loop. Then write an equivalent program that prints the numbers 1 to 10 using a while loop.**"
      ],
      "metadata": {
        "id": "fW-gZKGRvx1c"
      }
    },
    {
      "cell_type": "markdown",
      "source": [
        "**Ans 12:**"
      ],
      "metadata": {
        "id": "9Zl_lm_6v_Ot"
      }
    },
    {
      "cell_type": "code",
      "source": [
        "for i in range(1,11):\n",
        "  print(i)"
      ],
      "metadata": {
        "id": "-fvGoujfv-qh",
        "colab": {
          "base_uri": "https://localhost:8080/"
        },
        "outputId": "c9b284fe-b89b-4ac3-e131-dd7b2f2dff2b"
      },
      "execution_count": 40,
      "outputs": [
        {
          "output_type": "stream",
          "name": "stdout",
          "text": [
            "1\n",
            "2\n",
            "3\n",
            "4\n",
            "5\n",
            "6\n",
            "7\n",
            "8\n",
            "9\n",
            "10\n"
          ]
        }
      ]
    },
    {
      "cell_type": "code",
      "source": [
        "a = 1\n",
        "while a <= 10:\n",
        "  print(a)\n",
        "  a += 1"
      ],
      "metadata": {
        "id": "uoW7b-eZwYrL",
        "colab": {
          "base_uri": "https://localhost:8080/"
        },
        "outputId": "b8b91d34-9066-436c-97c2-066c3424ecae"
      },
      "execution_count": 39,
      "outputs": [
        {
          "output_type": "stream",
          "name": "stdout",
          "text": [
            "1\n",
            "2\n",
            "3\n",
            "4\n",
            "5\n",
            "6\n",
            "7\n",
            "8\n",
            "9\n",
            "10\n"
          ]
        }
      ]
    },
    {
      "cell_type": "markdown",
      "source": [
        "**13. If you had a function named bacon() inside a module named spam, how would you call it after importing spam?**"
      ],
      "metadata": {
        "id": "NXndwzSLxOcx"
      }
    },
    {
      "cell_type": "markdown",
      "source": [
        "**Ans 13:**\n",
        "\n",
        "This function can be called as \"spam.bacon()\"."
      ],
      "metadata": {
        "id": "ZNSPediZxXuT"
      }
    }
  ]
}