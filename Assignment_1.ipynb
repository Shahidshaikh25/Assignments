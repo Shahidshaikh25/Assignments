{
  "nbformat": 4,
  "nbformat_minor": 0,
  "metadata": {
    "colab": {
      "provenance": [],
      "authorship_tag": "ABX9TyMy8SxB23tW+F6/mxRoqz7a",
      "include_colab_link": true
    },
    "kernelspec": {
      "name": "python3",
      "display_name": "Python 3"
    },
    "language_info": {
      "name": "python"
    }
  },
  "cells": [
    {
      "cell_type": "markdown",
      "metadata": {
        "id": "view-in-github",
        "colab_type": "text"
      },
      "source": [
        "<a href=\"https://colab.research.google.com/github/Shahidshaikh25/Assignments/blob/main/Assignment_1.ipynb\" target=\"_parent\"><img src=\"https://colab.research.google.com/assets/colab-badge.svg\" alt=\"Open In Colab\"/></a>"
      ]
    },
    {
      "cell_type": "markdown",
      "source": [
        "**1. In the below elements which of them are values or an expression? eg:- values can be integer or string and expressions will be mathematical operators.**"
      ],
      "metadata": {
        "id": "C24MrBCX3hHr"
      }
    },
    {
      "cell_type": "markdown",
      "source": [
        "**Ans 1:**\n"
      ],
      "metadata": {
        "id": "1ZfdTDpa5jwZ"
      }
    },
    {
      "cell_type": "markdown",
      "source": [
        "**Values:** 'hello',-87.8, 6\n"
      ],
      "metadata": {
        "id": "z1vy9Phc9eaY"
      }
    },
    {
      "cell_type": "markdown",
      "source": [
        "**Expressions:** *, -, /, +"
      ],
      "metadata": {
        "id": "4Mt_-2v29hE9"
      }
    },
    {
      "cell_type": "markdown",
      "source": [
        "\n",
        "**2. What is the difference between string and variable?**"
      ],
      "metadata": {
        "id": "ePYqiwgS6Q6i"
      }
    },
    {
      "cell_type": "markdown",
      "source": [
        "**Ans 2:**"
      ],
      "metadata": {
        "id": "teUWLTFD6mOg"
      }
    },
    {
      "cell_type": "markdown",
      "source": [
        "**String** is data type.\n"
      ],
      "metadata": {
        "id": "CsBfwKiw9r6_"
      }
    },
    {
      "cell_type": "markdown",
      "source": [
        "**Variables** are symbols to define or a data."
      ],
      "metadata": {
        "id": "iysVy6rl9u08"
      }
    },
    {
      "cell_type": "markdown",
      "source": [
        "**3. Describe three different data types.**"
      ],
      "metadata": {
        "id": "CC0NqIbs6smT"
      }
    },
    {
      "cell_type": "markdown",
      "source": [
        "**Ans 3:**\n"
      ],
      "metadata": {
        "id": "npA-Iv8H72Fs"
      }
    },
    {
      "cell_type": "markdown",
      "source": [
        "**Strings:** Strings in Python are sequences of character data. They are created by enclosing characters in quotes."
      ],
      "metadata": {
        "id": "NduKKauo94EU"
      }
    },
    {
      "cell_type": "code",
      "source": [
        "# Example\n",
        "a = \"My name is shahid\"\n",
        "print(a)"
      ],
      "metadata": {
        "colab": {
          "base_uri": "https://localhost:8080/"
        },
        "id": "YDrti0_G8eLe",
        "outputId": "6c2c1a6a-cf1e-4bac-9792-636b11fb739c"
      },
      "execution_count": null,
      "outputs": [
        {
          "output_type": "stream",
          "name": "stdout",
          "text": [
            "My name is shahid\n"
          ]
        }
      ]
    },
    {
      "cell_type": "markdown",
      "source": [
        "**Integer:** Integers are whole numbers, without a fractional component. They can be positive or negative."
      ],
      "metadata": {
        "id": "e2VdS2RP81sW"
      }
    },
    {
      "cell_type": "code",
      "source": [
        "# Example\n",
        "a = 254\n",
        "b = -350"
      ],
      "metadata": {
        "id": "FXnsdoJD9DRl"
      },
      "execution_count": null,
      "outputs": []
    },
    {
      "cell_type": "markdown",
      "source": [
        "**Tuples:** Tuple is an ordered collection of items. it is immutable. A tuple is created by placing elements inside parentheses () and separated by commas. it is also heterogeneous. tuple can contain diffrent data types like integers, list, float, string and dictionaries."
      ],
      "metadata": {
        "id": "5-rvr7z--KMb"
      }
    },
    {
      "cell_type": "code",
      "source": [
        "# Example\n",
        "a = (1, 2, 3.2, \"hello\")\n",
        "print(a)"
      ],
      "metadata": {
        "colab": {
          "base_uri": "https://localhost:8080/"
        },
        "id": "bhESQv2f_ZYf",
        "outputId": "2db4afe8-55fa-459a-f361-077fae96b8d7"
      },
      "execution_count": null,
      "outputs": [
        {
          "output_type": "stream",
          "name": "stdout",
          "text": [
            "(1, 2, 3.2, 'hello')\n"
          ]
        }
      ]
    },
    {
      "cell_type": "markdown",
      "source": [
        "**4. What is an expression made up of? What do all expressions do?**"
      ],
      "metadata": {
        "id": "ieKA8wUzAqF4"
      }
    },
    {
      "cell_type": "markdown",
      "source": [
        "**Ans 4:**"
      ],
      "metadata": {
        "id": "DqawTu1gCQhG"
      }
    },
    {
      "cell_type": "markdown",
      "source": [
        " Expression is a combination of values, variables, operators, and calls to functions."
      ],
      "metadata": {
        "id": "_wefH040Auwm"
      }
    },
    {
      "cell_type": "markdown",
      "source": [
        "Expressions produces some other values."
      ],
      "metadata": {
        "id": "EZS4XJuCCYVP"
      }
    },
    {
      "cell_type": "code",
      "source": [
        "# Example\n",
        "exp = 4 + 4\n",
        "print(exp)"
      ],
      "metadata": {
        "colab": {
          "base_uri": "https://localhost:8080/"
        },
        "id": "989ZL6BJD_0G",
        "outputId": "502bb1f1-6a58-4474-935c-dfd4562b8764"
      },
      "execution_count": null,
      "outputs": [
        {
          "output_type": "stream",
          "name": "stdout",
          "text": [
            "8\n"
          ]
        }
      ]
    },
    {
      "cell_type": "markdown",
      "source": [
        "**5. This assignment statements, like spam = 10. What is the difference between an expression and a statement?**"
      ],
      "metadata": {
        "id": "DvvX9whn4fmP"
      }
    },
    {
      "cell_type": "markdown",
      "source": [
        "**Ans 5:**"
      ],
      "metadata": {
        "id": "DlUxG4V44i0g"
      }
    },
    {
      "cell_type": "markdown",
      "source": [
        "Expressions produce a value.\n",
        "Statements don't produce a value.\n"
      ],
      "metadata": {
        "id": "wp3_YtGN4ma4"
      }
    },
    {
      "cell_type": "markdown",
      "source": [
        "**6. After running the following code, what does the variable bacon contain?**\\\n",
        "bacon = 22 \\\n",
        "bacon + 1"
      ],
      "metadata": {
        "id": "vwBk7JGu7E0n"
      }
    },
    {
      "cell_type": "markdown",
      "source": [
        "**Ans 6:**"
      ],
      "metadata": {
        "id": "E1n7quji7RZA"
      }
    },
    {
      "cell_type": "markdown",
      "source": [
        "The output will be 22 + 1 = 23"
      ],
      "metadata": {
        "id": "RJsS5Okr8LG8"
      }
    },
    {
      "cell_type": "code",
      "source": [
        "bacon = 22\n",
        "bacon + 1"
      ],
      "metadata": {
        "colab": {
          "base_uri": "https://localhost:8080/"
        },
        "id": "Ri0t3Ae27Odt",
        "outputId": "2b2456a3-e2a0-4acc-89c2-eae1d6bbc6b1"
      },
      "execution_count": null,
      "outputs": [
        {
          "output_type": "execute_result",
          "data": {
            "text/plain": [
              "23"
            ]
          },
          "metadata": {},
          "execution_count": 2
        }
      ]
    },
    {
      "cell_type": "markdown",
      "source": [
        "**7. What should the values of the following two terms be?**\\\n",
        "'spam' + 'spamspam'\\\n",
        "'spam' * 3"
      ],
      "metadata": {
        "id": "JiOnEkdG8p_2"
      }
    },
    {
      "cell_type": "markdown",
      "source": [
        "**Ans 7:**"
      ],
      "metadata": {
        "id": "IU9Z4iVI82Oc"
      }
    },
    {
      "cell_type": "code",
      "source": [
        "'spam' + 'spamspam'"
      ],
      "metadata": {
        "colab": {
          "base_uri": "https://localhost:8080/",
          "height": 36
        },
        "id": "MBwSeLs39K58",
        "outputId": "4386386b-a010-447f-b06e-fdc61d756606"
      },
      "execution_count": null,
      "outputs": [
        {
          "output_type": "execute_result",
          "data": {
            "text/plain": [
              "'spamspamspam'"
            ],
            "application/vnd.google.colaboratory.intrinsic+json": {
              "type": "string"
            }
          },
          "metadata": {},
          "execution_count": 4
        }
      ]
    },
    {
      "cell_type": "code",
      "source": [
        "'spam'*3"
      ],
      "metadata": {
        "colab": {
          "base_uri": "https://localhost:8080/",
          "height": 36
        },
        "id": "o1uZv70p9UOs",
        "outputId": "5f5f1577-5ce5-4226-f4f2-a26efbf3a3f9"
      },
      "execution_count": null,
      "outputs": [
        {
          "output_type": "execute_result",
          "data": {
            "text/plain": [
              "'spamspamspam'"
            ],
            "application/vnd.google.colaboratory.intrinsic+json": {
              "type": "string"
            }
          },
          "metadata": {},
          "execution_count": 5
        }
      ]
    },
    {
      "cell_type": "markdown",
      "source": [
        "Output of both the expressions is same.  'spamspamspam'"
      ],
      "metadata": {
        "id": "aD7PlKZ19ZvK"
      }
    },
    {
      "cell_type": "markdown",
      "source": [
        "**8. Why is eggs a valid variable name while 100 is invalid?**"
      ],
      "metadata": {
        "id": "stImhnls-AQg"
      }
    },
    {
      "cell_type": "markdown",
      "source": [
        "**Ans 8:** \\\n",
        "Variable names can't begin with a number(digit). \\\n",
        "Variables must start with a letter or the underscore character, but not with a number(digit)."
      ],
      "metadata": {
        "id": "0xGS0snw-MYC"
      }
    },
    {
      "cell_type": "code",
      "source": [
        "# Example\n",
        "#100 = 25\n",
        "#print(100)"
      ],
      "metadata": {
        "id": "Xf14sH_x-UEu"
      },
      "execution_count": null,
      "outputs": []
    },
    {
      "cell_type": "markdown",
      "source": [
        "**9. What three functions can be used to get the integer, floating-point number, or string version of a value?**"
      ],
      "metadata": {
        "id": "yzUY2guN_7lq"
      }
    },
    {
      "cell_type": "markdown",
      "source": [
        "**Ans 9:**"
      ],
      "metadata": {
        "id": "Yn9Z3HIeAFCt"
      }
    },
    {
      "cell_type": "markdown",
      "source": [
        "integer = int() \\\n",
        "floating-point number = float() \\\n",
        "string = str()"
      ],
      "metadata": {
        "id": "4pocQwtPAFRN"
      }
    },
    {
      "cell_type": "markdown",
      "source": [
        "**10. Why does this expression cause an error? How can you fix it?** \\\n",
        "'I have eaten ' + 99 + ' burritos.'"
      ],
      "metadata": {
        "id": "r9P5TWgMBI6K"
      }
    },
    {
      "cell_type": "markdown",
      "source": [
        "**Ans 10:**"
      ],
      "metadata": {
        "id": "PFwrPWx7Bn0F"
      }
    },
    {
      "cell_type": "markdown",
      "source": [
        "The Expression cause an error because 99 is an integer. \\\n",
        "The correct way to do is using 99 as a string by using str() function"
      ],
      "metadata": {
        "id": "TgtjBYWxBrh3"
      }
    },
    {
      "cell_type": "code",
      "source": [
        "'I have eaten ' + str(99) + ' burritos.'"
      ],
      "metadata": {
        "colab": {
          "base_uri": "https://localhost:8080/",
          "height": 36
        },
        "id": "h9BI0SFgBuLq",
        "outputId": "4fd62fca-bba4-4c32-a28c-6ccd78b3e15c"
      },
      "execution_count": null,
      "outputs": [
        {
          "output_type": "execute_result",
          "data": {
            "text/plain": [
              "'I have eaten 99 burritos.'"
            ],
            "application/vnd.google.colaboratory.intrinsic+json": {
              "type": "string"
            }
          },
          "metadata": {},
          "execution_count": 9
        }
      ]
    }
  ]
}