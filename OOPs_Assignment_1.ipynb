{
  "nbformat": 4,
  "nbformat_minor": 0,
  "metadata": {
    "colab": {
      "provenance": [],
      "authorship_tag": "ABX9TyPZ9e/sM/wLvnO2P7G3W3jV",
      "include_colab_link": true
    },
    "kernelspec": {
      "name": "python3",
      "display_name": "Python 3"
    },
    "language_info": {
      "name": "python"
    }
  },
  "cells": [
    {
      "cell_type": "markdown",
      "metadata": {
        "id": "view-in-github",
        "colab_type": "text"
      },
      "source": [
        "<a href=\"https://colab.research.google.com/github/Shahidshaikh25/Assignments/blob/main/OOPs_Assignment_1.ipynb\" target=\"_parent\"><img src=\"https://colab.research.google.com/assets/colab-badge.svg\" alt=\"Open In Colab\"/></a>"
      ]
    },
    {
      "cell_type": "markdown",
      "source": [
        "**1. What is the primary goal of Object-Oriented Programming (OOP)?**\n",
        "\n",
        "**Ans 1:**"
      ],
      "metadata": {
        "id": "ORNJcQkPF120"
      }
    },
    {
      "cell_type": "markdown",
      "source": [
        "The primary goal of Object-Oriented Programming (OOP) is to facilitate the design, organization, and maintenance of complex software systems by modeling real-world entities and their interactions using objects and classes. OOP promotes the concept of encapsulation, where data and the methods that operate on that data are encapsulated within a single unit, the object. This enhances code reusability, modularity, and separation of concerns. Inheritance allows for the creation of hierarchies of related classes, enabling the reuse and extension of code. Polymorphism allows objects of different classes to be treated as instances of a common superclass, fostering flexibility and extensibility in software design. Overall, OOP aims to improve software development efficiency, code organization, and the ability to manage complex systems."
      ],
      "metadata": {
        "id": "uuevqIQCHVHj"
      }
    },
    {
      "cell_type": "markdown",
      "source": [
        "**2. What is an object in Python?**\n",
        "\n",
        "**Ans 2:**"
      ],
      "metadata": {
        "id": "7HZS6lZfHWSR"
      }
    },
    {
      "cell_type": "markdown",
      "source": [
        "In Python, an object is a self-contained unit that bundles together data (attributes) and the methods (functions) that operate on that data. It is an instance of a class."
      ],
      "metadata": {
        "id": "E9L1iLclHWVh"
      }
    },
    {
      "cell_type": "code",
      "source": [
        "# Example\n",
        "\n",
        "class Person:\n",
        "    def __init__(self, name, age):\n",
        "        self.name = name\n",
        "        self.age = age\n",
        "\n",
        "person1 = Person(\"Shahid\", 20) # Here, Person1 is an object"
      ],
      "metadata": {
        "id": "Sh4SUNYZH__e"
      },
      "execution_count": 18,
      "outputs": []
    },
    {
      "cell_type": "markdown",
      "source": [
        "**3. What is a class in Python?**\n",
        "\n",
        "**Ans 3:**"
      ],
      "metadata": {
        "id": "pRnn3lK1ItYc"
      }
    },
    {
      "cell_type": "markdown",
      "source": [
        "In Python, a class is a blueprint for creating objects. It defines the structure and behavior that objects of that class will have. A class encapsulates data (attributes) and functions (methods) that operate on that data."
      ],
      "metadata": {
        "id": "ZIQxOttRI50t"
      }
    },
    {
      "cell_type": "markdown",
      "source": [
        "**4. What are attributes and methods in a class?**\n",
        "\n",
        "**Ans 4:**"
      ],
      "metadata": {
        "id": "ThXJpjKIJBDQ"
      }
    },
    {
      "cell_type": "markdown",
      "source": [
        "Attributes are variables that hold data within a class. They represent the characteristics or properties of an object."
      ],
      "metadata": {
        "id": "QoZGzmNdJQu9"
      }
    },
    {
      "cell_type": "code",
      "source": [
        "class Person:\n",
        "    def __init__(self, name, age):\n",
        "        self.name = name # 'name' is an attribute\n",
        "        self.age = age # 'age' is an attribute\n",
        "\n",
        "person1 = Person(\"Shahid\", 20)"
      ],
      "metadata": {
        "id": "t2d9WoTXJVLh"
      },
      "execution_count": 19,
      "outputs": []
    },
    {
      "cell_type": "markdown",
      "source": [
        "**5. What is the difference between class variables and instance variables in Python?**\n",
        "\n",
        "**Ans 5:**"
      ],
      "metadata": {
        "id": "YVZbLnctJi3k"
      }
    },
    {
      "cell_type": "markdown",
      "source": [
        "Both class variables and instance variables are used to store data within a class, but they have different scopes and purposes.\n",
        "\n",
        "**Class Variables:**\n",
        "\n",
        "Class variables are defined at the class level and are shared by all instances of that class.\n",
        "\n",
        "They are typically used to store data that is common to all instances of the class.\n",
        "\n",
        "Class variables are accessed using the class name itself, both inside the class and outside it.\n",
        "\n",
        "Changes to a class variable will affect all instances of the class.\n",
        "They are defined outside of any methods within the class.\n"
      ],
      "metadata": {
        "id": "5fUxaSOtJi8Q"
      }
    },
    {
      "cell_type": "code",
      "source": [
        "class Circle:\n",
        "    pi = 3.14159  # 'pi' is a class variable\n",
        "\n",
        "    def __init__(self, radius):\n",
        "        self.radius = radius  # 'radius' is an instance variable\n",
        "\n",
        "circle1 = Circle(5)\n",
        "circle2 = Circle(10)\n",
        "\n",
        "print(circle1.pi)\n",
        "print(circle2.pi)"
      ],
      "metadata": {
        "colab": {
          "base_uri": "https://localhost:8080/"
        },
        "id": "YYBvm4MgJ-Ku",
        "outputId": "39dc9b55-03a4-41d6-dff2-8238dd8970f8"
      },
      "execution_count": 20,
      "outputs": [
        {
          "output_type": "stream",
          "name": "stdout",
          "text": [
            "3.14159\n",
            "3.14159\n"
          ]
        }
      ]
    },
    {
      "cell_type": "markdown",
      "source": [
        "**Instance Variables:**\n",
        "\n",
        "Instance variables are specific to each instance (object) of the class.\n",
        "\n",
        "They are defined within the methods of the class, usually within the constructor (__init__ method).\n",
        "\n",
        "Instance variables hold data that varies from one instance to another.\n",
        "\n",
        "They are accessed using the self keyword within instance methods.\n",
        "\n",
        "Changes to an instance variable affect only that specific instance."
      ],
      "metadata": {
        "id": "gEWenMl2J-V-"
      }
    },
    {
      "cell_type": "code",
      "source": [
        "class Person:\n",
        "    def __init__(self, name, age):\n",
        "        self.name = name # 'name' is an instance variable\n",
        "        self.age = age # 'age' is an instance variable\n",
        "\n",
        "person1 = Person(\"Shahid\", 20)"
      ],
      "metadata": {
        "id": "AGr-23xWJ-uF"
      },
      "execution_count": 21,
      "outputs": []
    },
    {
      "cell_type": "markdown",
      "source": [
        "**6. What is the purpose of the self parameter in Python class methods?**\n",
        "\n",
        "Ans 6:"
      ],
      "metadata": {
        "id": "DjLII9RmOxL3"
      }
    },
    {
      "cell_type": "markdown",
      "source": [
        "The self parameter in Python class methods refers to the instance of the class itself. It allows methods to access and manipulate the instance's attributes and other methods. By using self, methods can differentiate between attributes of different instances and maintain proper encapsulation. It serves as a reference to the instance context, enabling the instance to interact with its own data and behavior, ensuring accurate and organized object-oriented programming."
      ],
      "metadata": {
        "id": "KMjA3eWMO3PA"
      }
    },
    {
      "cell_type": "markdown",
      "source": [
        "**7. For a library management system, you have to design the \"Book\" class with OOP principles in mind. The “Book” class will have following attributes:**\n",
        "\n",
        "**a. title: Represents the title of the book.**\n",
        "\n",
        "**b. author: Represents the author(s) of the book.**\n",
        "\n",
        "**c. isbn: Represents the ISBN (International Standard Book Number) of the book.**\n",
        "\n",
        "**d. publication_year: Represents the year of publication of the book.**\n",
        "\n",
        "**e. available_copies: Represents the number of copies available for checkout.**\n",
        "\n",
        "**The class will also include the following methods:**\n",
        "\n",
        "**a. check_out(self): Decrements the available copies by one if there are copies available for checkout.**\n",
        "\n",
        "**b. return_book(self): Increments the available copies by one when a book is returned.**\n",
        "\n",
        "**c. display_book_info(self): Displays the information about the book, including its attributes and the number of available copies.**\n",
        "\n",
        "**Ans 7:**"
      ],
      "metadata": {
        "id": "85LOcmdDPGfi"
      }
    },
    {
      "cell_type": "code",
      "source": [
        "class Book:\n",
        "    def __init__(self, title, author, isbn, publication_year, available_copies):\n",
        "        self.title = title\n",
        "        self.author = author\n",
        "        self.isbn = isbn\n",
        "        self.publication_year = publication_year\n",
        "        self.available_copies = available_copies\n",
        "\n",
        "    def check_out(self):\n",
        "        if self.available_copies > 0:\n",
        "            self.available_copies -= 1\n",
        "            print(f\"Book '{self.title}' checked out successfully.\")\n",
        "        else:\n",
        "            print(f\"Sorry, no copies of '{self.title}' are available for checkout.\")\n",
        "\n",
        "    def return_book(self):\n",
        "        self.available_copies += 1\n",
        "        print(f\"Book '{self.title}' returned successfully.\")\n",
        "\n",
        "    def display_book_info(self):\n",
        "        print(\"Book Information:\")\n",
        "        print(f\"Title: {self.title}\")\n",
        "        print(f\"Author(s): {self.author}\")\n",
        "        print(f\"ISBN: {self.isbn}\")\n",
        "        print(f\"Publication Year: {self.publication_year}\")\n",
        "        print(f\"Available Copies: {self.available_copies}\")\n",
        "\n",
        "book1 = Book(\"The Great Gatsby\", \"F. Scott Fitzgerald\", \"978-3-16-148410-0\", 1925, 3)\n",
        "\n",
        "book1.check_out()\n",
        "print(\"-------------------------------------------\")\n",
        "book1.return_book()\n",
        "print(\"-------------------------------------------\")\n",
        "book1.display_book_info()\n"
      ],
      "metadata": {
        "id": "fGxhdd4tOxW_",
        "colab": {
          "base_uri": "https://localhost:8080/"
        },
        "outputId": "2785e435-bcc3-4cf4-b75f-4935fb3a1741"
      },
      "execution_count": 22,
      "outputs": [
        {
          "output_type": "stream",
          "name": "stdout",
          "text": [
            "Book 'The Great Gatsby' checked out successfully.\n",
            "-------------------------------------------\n",
            "Book 'The Great Gatsby' returned successfully.\n",
            "-------------------------------------------\n",
            "Book Information:\n",
            "Title: The Great Gatsby\n",
            "Author(s): F. Scott Fitzgerald\n",
            "ISBN: 978-3-16-148410-0\n",
            "Publication Year: 1925\n",
            "Available Copies: 3\n"
          ]
        }
      ]
    },
    {
      "cell_type": "markdown",
      "source": [
        "**8. For a ticket booking system, you have to design the \"Ticket\" class with OOP principles in mind. The “Ticket” class should have the following attributes:**\n",
        "\n",
        "**a. ticket_id: Represents the unique identifier for the ticket.**\n",
        "\n",
        "**b. event_name: Represents the name of the event.**\n",
        "\n",
        "**c. event_date: Represents the date of the event.**\n",
        "\n",
        "**d. venue: Represents the venue of the event.**\n",
        "\n",
        "**e. seat_number: Represents the seat number associated with the ticket.**\n",
        "\n",
        "**f. price: Represents the price of the ticket.**\n",
        "\n",
        "**g. is_reserved: Represents the reservation status of the ticket.**\n",
        "\n",
        "**The class also includes the following methods:**\n",
        "\n",
        "**a. reserve_ticket(self): Marks the ticket as reserved if it is not already reserved.**\n",
        "\n",
        "**b. cancel_reservation(self): Cancels the reservation of the ticket if it is already reserved.**\n",
        "\n",
        "**c. display_ticket_info(self): Displays the information about the ticket, including its attributes and reservation status.**\n",
        "\n",
        "**Ans 8:**"
      ],
      "metadata": {
        "id": "G8Q-CR34-mrq"
      }
    },
    {
      "cell_type": "code",
      "source": [
        "class Ticket:\n",
        "    def __init__(self, ticket_id, event_name, event_date, venue, seat_number, price, is_reserved=False):\n",
        "        self.ticket_id = ticket_id\n",
        "        self.event_name = event_name\n",
        "        self.event_date = event_date\n",
        "        self.venue = venue\n",
        "        self.seat_number = seat_number\n",
        "        self.price = price\n",
        "        self.is_reserved = is_reserved\n",
        "\n",
        "    def reserve_ticket(self):\n",
        "        if not self.is_reserved:\n",
        "            self.is_reserved = True\n",
        "            print(f\"Ticket {self.ticket_id} reserved successfully.\")\n",
        "        else:\n",
        "            print(f\"Ticket {self.ticket_id} is already reserved.\")\n",
        "\n",
        "    def cancel_reservation(self):\n",
        "        if self.is_reserved:\n",
        "            self.is_reserved = False\n",
        "            print(f\"Reservation for Ticket {self.ticket_id} canceled successfully.\")\n",
        "        else:\n",
        "            print(f\"Ticket {self.ticket_id} is not reserved.\")\n",
        "\n",
        "    def display_ticket_info(self):\n",
        "        print(\"Ticket Information:\")\n",
        "        print(f\"Ticket ID: {self.ticket_id}\")\n",
        "        print(f\"Event Name: {self.event_name}\")\n",
        "        print(f\"Event Date: {self.event_date}\")\n",
        "        print(f\"Venue: {self.venue}\")\n",
        "        print(f\"Seat Number: {self.seat_number}\")\n",
        "        print(f\"Price: ${self.price:.2f}\")\n",
        "        print(f\"Reservation Status: {'Reserved' if self.is_reserved else 'Not Reserved'}\")\n",
        "\n",
        "ticket1 = Ticket(\"T12345\", \"Concert\", \"2023-08-25\", \"Music Hall\", \"A1\", 50.00)\n",
        "\n",
        "ticket1.reserve_ticket()\n",
        "ticket1.cancel_reservation()\n",
        "ticket1.display_ticket_info()"
      ],
      "metadata": {
        "colab": {
          "base_uri": "https://localhost:8080/"
        },
        "id": "FFsIIo22-nJG",
        "outputId": "3fe3cb3e-a091-4123-9807-36017c88f7a7"
      },
      "execution_count": 23,
      "outputs": [
        {
          "output_type": "stream",
          "name": "stdout",
          "text": [
            "Ticket T12345 reserved successfully.\n",
            "Reservation for Ticket T12345 canceled successfully.\n",
            "Ticket Information:\n",
            "Ticket ID: T12345\n",
            "Event Name: Concert\n",
            "Event Date: 2023-08-25\n",
            "Venue: Music Hall\n",
            "Seat Number: A1\n",
            "Price: $50.00\n",
            "Reservation Status: Not Reserved\n"
          ]
        }
      ]
    },
    {
      "cell_type": "markdown",
      "source": [
        "**9. You are creating a shopping cart for an e-commerce website. Using OOP to model the \"ShoppingCart\" functionality the class should contain following attributes and methods:**\n",
        "\n",
        "**a. items: Represents the list of items in the shopping cart.**\n",
        "\n",
        "**The class also includes the following methods:**\n",
        "\n",
        "**a. add_item(self, item): Adds an item to the shopping cart by appending it to the list of items.**\n",
        "\n",
        "**b. remove_item(self, item): Removes an item from the shopping cart if it exists in the list.**\n",
        "\n",
        "**c. view_cart(self): Displays the items currently present in the shopping cart.**\n",
        "\n",
        "**d. clear_cart(self): Clears all items from the shopping cart by reassigning an empty list to the items attribute.**\n",
        "\n",
        "**Ans 9:**"
      ],
      "metadata": {
        "id": "C0uMExuF_P2_"
      }
    },
    {
      "cell_type": "code",
      "source": [
        "class ShoppingCart:\n",
        "    def __init__(self):\n",
        "        self.items = []\n",
        "\n",
        "    def add_item(self, item):\n",
        "        self.items.append(item)\n",
        "        print(f\"Item '{item}' added to the shopping cart.\")\n",
        "\n",
        "    def remove_item(self, item):\n",
        "        if item in self.items:\n",
        "            self.items.remove(item)\n",
        "            print(f\"Item '{item}' removed from the shopping cart.\")\n",
        "        else:\n",
        "            print(f\"Item '{item}' is not in the shopping cart.\")\n",
        "\n",
        "    def view_cart(self):\n",
        "        if self.items:\n",
        "            print(\"Items in the shopping cart:\")\n",
        "            for item in self.items:\n",
        "                print(f\"- {item}\")\n",
        "        else:\n",
        "            print(\"The shopping cart is empty.\")\n",
        "\n",
        "    def clear_cart(self):\n",
        "        self.items = []\n",
        "        print(\"Shopping cart cleared.\")\n",
        "\n",
        "cart = ShoppingCart()\n",
        "\n",
        "cart.add_item(\"Shirt\")\n",
        "cart.add_item(\"Shoes\")\n",
        "cart.view_cart()\n",
        "cart.remove_item(\"Shirt\")\n",
        "cart.clear_cart()\n",
        "cart.view_cart()\n"
      ],
      "metadata": {
        "colab": {
          "base_uri": "https://localhost:8080/"
        },
        "id": "UeGwOwog_Q5N",
        "outputId": "35043637-2a4c-4847-a0e4-4b18a16845dd"
      },
      "execution_count": 24,
      "outputs": [
        {
          "output_type": "stream",
          "name": "stdout",
          "text": [
            "Item 'Shirt' added to the shopping cart.\n",
            "Item 'Shoes' added to the shopping cart.\n",
            "Items in the shopping cart:\n",
            "- Shirt\n",
            "- Shoes\n",
            "Item 'Shirt' removed from the shopping cart.\n",
            "Shopping cart cleared.\n",
            "The shopping cart is empty.\n"
          ]
        }
      ]
    },
    {
      "cell_type": "markdown",
      "source": [
        "**10. Imagine a school management system. You have to design the \"Student\" class using OOP concepts.The “Student” class has the following attributes:**\n",
        "\n",
        "**a. name: Represents the name of the student.**\n",
        "\n",
        "**b. age: Represents the age of the student.**\n",
        "\n",
        "**c. grade: Represents the grade or class of the student.**\n",
        "\n",
        "**d. student_id: Represents the unique identifier for the student.**\n",
        "\n",
        "**e. attendance: Represents the attendance record of the student.**\n",
        "\n",
        "**The class should also include the following methods:**\n",
        "\n",
        "**a. update_attendance(self, date, status): Updates the attendance record of the student for a given date with the provided status (e.g., present or absent).**\n",
        "\n",
        "**b. get_attendance(self): Returns the attendance record of the student.**\n",
        "\n",
        "**c. get_average_attendance(self): Calculates and returns the average attendance percentage of the student based on their attendance record.**\n",
        "\n",
        "**Ans 10:**"
      ],
      "metadata": {
        "id": "F-WS0x1eAHef"
      }
    },
    {
      "cell_type": "code",
      "source": [
        "class Student:\n",
        "    def __init__(self, name, age, grade, student_id):\n",
        "        self.name = name\n",
        "        self.age = age\n",
        "        self.grade = grade\n",
        "        self.student_id = student_id\n",
        "        self.attendance = {}  # Using a dictionary to store attendance records (date: status)\n",
        "\n",
        "    def update_attendance(self, date, status):\n",
        "        self.attendance[date] = status\n",
        "        print(f\"Attendance for {date} updated: {status}\")\n",
        "\n",
        "    def get_attendance(self):\n",
        "        return self.attendance\n",
        "\n",
        "    def get_average_attendance(self):\n",
        "        total_days = len(self.attendance)\n",
        "        if total_days == 0:\n",
        "            return 0.0  # Avoid division by zero\n",
        "        present_days = sum(1 for status in self.attendance.values() if status == 'present')\n",
        "        attendance_percentage = (present_days / total_days) * 100\n",
        "        return attendance_percentage\n",
        "\n",
        "\n",
        "student1 = Student(\"shahid\", 15, 10, \"S12345\")\n",
        "\n",
        "student1.update_attendance(\"2023-08-01\", \"present\")\n",
        "student1.update_attendance(\"2023-08-02\", \"absent\")\n",
        "student1.update_attendance(\"2023-08-03\", \"present\")\n",
        "\n",
        "print(student1.get_attendance())\n",
        "print(f\"Average Attendance: {student1.get_average_attendance():.2f}%\")\n"
      ],
      "metadata": {
        "colab": {
          "base_uri": "https://localhost:8080/"
        },
        "id": "AesWHm0EAHsd",
        "outputId": "5fc7b0f6-f311-4e47-e26f-17ccee626afc"
      },
      "execution_count": 25,
      "outputs": [
        {
          "output_type": "stream",
          "name": "stdout",
          "text": [
            "Attendance for 2023-08-01 updated: present\n",
            "Attendance for 2023-08-02 updated: absent\n",
            "Attendance for 2023-08-03 updated: present\n",
            "{'2023-08-01': 'present', '2023-08-02': 'absent', '2023-08-03': 'present'}\n",
            "Average Attendance: 66.67%\n"
          ]
        }
      ]
    }
  ]
}