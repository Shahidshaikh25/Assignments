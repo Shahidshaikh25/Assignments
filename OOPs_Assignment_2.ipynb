{
  "nbformat": 4,
  "nbformat_minor": 0,
  "metadata": {
    "colab": {
      "provenance": [],
      "authorship_tag": "ABX9TyOaEO7fL+wlR7GjY6gON590",
      "include_colab_link": true
    },
    "kernelspec": {
      "name": "python3",
      "display_name": "Python 3"
    },
    "language_info": {
      "name": "python"
    }
  },
  "cells": [
    {
      "cell_type": "markdown",
      "metadata": {
        "id": "view-in-github",
        "colab_type": "text"
      },
      "source": [
        "<a href=\"https://colab.research.google.com/github/Shahidshaikh25/Assignments/blob/main/OOPs_Assignment_2.ipynb\" target=\"_parent\"><img src=\"https://colab.research.google.com/assets/colab-badge.svg\" alt=\"Open In Colab\"/></a>"
      ]
    },
    {
      "cell_type": "markdown",
      "source": [
        "**1. Explain what inheritance is in object-oriented programming and why it is used.**\n",
        "\n",
        "**Ans 1:**"
      ],
      "metadata": {
        "id": "XJJ-fNPlDCmr"
      }
    },
    {
      "cell_type": "markdown",
      "source": [
        "\n",
        "In object-oriented programming, inheritance is a fundamental concept that allows one class (called the subclass or derived class) to inherit properties and behaviors (i.e., fields and methods) from another class (called the superclass or base class). This enables the subclass to reuse and extend the functionality of the superclass, promoting code reusability and modularity. Inheritance is used to establish an \"is-a\" relationship between classes, where the subclass is a specialized version of the superclass. This simplifies code maintenance, reduces redundancy, and facilitates the creation of hierarchies of related classes, promoting efficient and organized software development."
      ],
      "metadata": {
        "id": "gB4GoG3JDGsa"
      }
    },
    {
      "cell_type": "markdown",
      "source": [
        "**2. Discuss the concept of single inheritance and multiple inheritance, highlighting their differences and advantages.**\n",
        "\n",
        "**Ans 2:**"
      ],
      "metadata": {
        "id": "LBZZ1nP6E6Va"
      }
    },
    {
      "cell_type": "markdown",
      "source": [
        "**Single Inheritance:**\n",
        "\n",
        "Single inheritance is a programming paradigm where a class can inherit from only one superclass. It ensures a clear and simple class hierarchy, reducing potential conflicts and ambiguities in the code. This approach enforces a linear and straightforward structure but may limit code reuse in complex scenarios.\n",
        "\n",
        "**Multiple Inheritance:**\n",
        "\n",
        "Multiple inheritance allows a class to inherit from more than one superclass. This can lead to greater code reuse by combining features from multiple sources. However, it can also introduce ambiguity and the \"diamond problem\" (a conflict that arises when two superclasses of a class have a common superclass). Careful design and language mechanisms (like method resolution order) are needed to manage potential complications.\n",
        "\n",
        "**Advantages:**\n",
        "\n",
        "Single Inheritance:\n",
        "\n",
        "Simplicity and clarity in class hierarchy.\n",
        "Reduced potential for conflicts and ambiguities.\n",
        "\n",
        "Multiple Inheritance:\n",
        "\n",
        "Enhanced code reuse through combining features from multiple sources.\n",
        "Flexible and powerful when used appropriately.\n",
        "Both approaches have their merits and trade-offs, and the choice depends on the specific needs of the software design."
      ],
      "metadata": {
        "id": "C6EE-V3NE6Yy"
      }
    },
    {
      "cell_type": "markdown",
      "source": [
        "**3. Explain the terms \"base class\" and \"derived class\" in the context of inheritance.**\n",
        "\n",
        "**Ans 3:**"
      ],
      "metadata": {
        "id": "yIsA_EadFZxT"
      }
    },
    {
      "cell_type": "markdown",
      "source": [
        "**Base Class:**\n",
        "\n",
        "A base class, also known as a superclass or parent class, is a class that serves as a template or blueprint from which other classes can inherit properties and behaviors. It encapsulates common attributes and methods that are shared by its derived classes. The base class defines the fundamental structure and functionality that will be inherited by its subclasses.\n",
        "\n",
        "**Derived Class:**\n",
        "\n",
        "A derived class, also known as a subclass or child class, is a class that inherits attributes and methods from a base class. It extends the functionality of the base class by adding new attributes or methods or by modifying the inherited ones. A derived class can also introduce its own unique attributes and methods. It establishes an \"is-a\" relationship with the base class, indicating that it is a specialized version of the base class.\n",
        "\n",
        "In summary, the base class provides a foundation of shared attributes and behaviors, while the derived class builds upon this foundation by inheriting and possibly extending or customizing those attributes and behaviors."
      ],
      "metadata": {
        "id": "26JyqRMAFZ0b"
      }
    },
    {
      "cell_type": "markdown",
      "source": [
        "**4. What is the significance of the \"protected\" access modifier in inheritance? How does it differ from \"private\" and \"public\" modifiers?**\n",
        "\n",
        "**Ans 4:**"
      ],
      "metadata": {
        "id": "SXv3nSBoF_04"
      }
    },
    {
      "cell_type": "markdown",
      "source": [
        "The \"protected\" access modifier plays a significant role in inheritance within object-oriented programming by controlling the visibility of members (fields and methods) within a class hierarchy. It falls between the \"private\" and \"public\" access modifiers in terms of visibility and usage.\n",
        "\n",
        "**\"private\" access modifier:**\n",
        "\n",
        "Members declared as \"private\" are only accessible within the same class. They are not inherited by subclasses. This provides strong encapsulation and prevents external access or modification.\n",
        "\n",
        "**\"protected\" access modifier:**\n",
        "\n",
        "Members declared as \"protected\" are accessible within the same class, its subclasses, and classes within the same package or namespace. This allows subclasses to directly access and potentially override these members while still maintaining a level of encapsulation and control.\n",
        "\n",
        "**\"public\" access modifier:**\n",
        "\n",
        "Members declared as \"public\" are accessible from any class, including subclasses and external classes. They have the least restrictive visibility and can be freely accessed and modified.\n",
        "\n",
        "In summary, the \"protected\" access modifier is particularly useful in inheritance scenarios as it allows subclasses to inherit and build upon the behavior of a base class while maintaining a controlled level of access. It enables a balance between encapsulation and extensibility in the context of class hierarchies."
      ],
      "metadata": {
        "id": "SwbNU1OCGBRB"
      }
    },
    {
      "cell_type": "markdown",
      "source": [
        "**5. What is the purpose of the \"super\" keyword in inheritance? Provide an example.**\n",
        "\n",
        "**Ans 5:**"
      ],
      "metadata": {
        "id": "yl4Y6r_cGZRr"
      }
    },
    {
      "cell_type": "markdown",
      "source": [
        "The \"super\" keyword in inheritance is used to call a method or constructor of the superclass from the subclass. It allows the subclass to access and utilize the functionalities of the superclass."
      ],
      "metadata": {
        "id": "e03E60VLGZUz"
      }
    },
    {
      "cell_type": "code",
      "source": [
        "class Vehicle:\n",
        "  def __init__(self,brand):\n",
        "    self.brand=brand\n",
        "\n",
        "  def start(self):\n",
        "    print(f\"the {self.brand} is starting\")\n",
        "\n",
        "\n",
        "class Bicycle(Vehicle):\n",
        "  def __init__(self,brand,model):\n",
        "    super().__init__(brand)\n",
        "    self.model=model\n",
        "\n",
        "  def start(self):\n",
        "    super().start()\n",
        "    print(f\"the {self.brand} {self.model} is ready to go\")\n",
        "\n",
        "bicycle=Bicycle(\"Hero\",\"Gear\")\n",
        "bicycle.start()"
      ],
      "metadata": {
        "colab": {
          "base_uri": "https://localhost:8080/"
        },
        "id": "yIpt6DdmGyx-",
        "outputId": "9eb29d57-7a1a-4b98-bb4a-041a68aad205"
      },
      "execution_count": 6,
      "outputs": [
        {
          "output_type": "stream",
          "name": "stdout",
          "text": [
            "the Hero is starting\n",
            "the Hero Gear is ready to go\n"
          ]
        }
      ]
    },
    {
      "cell_type": "markdown",
      "source": [
        "**6. Create a base class called \"Vehicle\" with attributes like \"make\", \"model\", and \"year\". Then, create a derived class called \"Car\" that inherits from \"Vehicle\" and adds an attribute called \"fuel_type\". Implement appropriate methods in both classes.**\n",
        "\n",
        "**Ans 6:**"
      ],
      "metadata": {
        "id": "UTyE8wjWGynY"
      }
    },
    {
      "cell_type": "code",
      "source": [
        "class Vehicle:\n",
        "    def __init__(self, make, model, year):\n",
        "        self.make = make\n",
        "        self.model = model\n",
        "        self.year = year\n",
        "\n",
        "    def display_info(self):\n",
        "        print(f\"Make: {self.make}, Model: {self.model}, Year: {self.year}\")\n",
        "\n",
        "class Car(Vehicle):\n",
        "    def __init__(self, make, model, year, fuel_type):\n",
        "        super().__init__(make, model, year)\n",
        "        self.fuel_type = fuel_type\n",
        "\n",
        "    def display_info(self):\n",
        "        super().display_info()\n",
        "        print(f\"Fuel Type: {self.fuel_type}\")\n",
        "\n",
        "vehicle = Vehicle(\"Ford\", \"F-150\", 2022)\n",
        "car = Car(\"Toyota\", \"Camry\", 2023, \"Gasoline\")\n",
        "\n",
        "print(\"Vehicle Information:\")\n",
        "vehicle.display_info()\n",
        "\n",
        "print(\"\\nCar Information:\")\n",
        "car.display_info()"
      ],
      "metadata": {
        "colab": {
          "base_uri": "https://localhost:8080/"
        },
        "id": "V1HMTBSoHzhz",
        "outputId": "78c04a79-46ee-4c25-9938-c1201fa1a083"
      },
      "execution_count": 7,
      "outputs": [
        {
          "output_type": "stream",
          "name": "stdout",
          "text": [
            "Vehicle Information:\n",
            "Make: Ford, Model: F-150, Year: 2022\n",
            "\n",
            "Car Information:\n",
            "Make: Toyota, Model: Camry, Year: 2023\n",
            "Fuel Type: Gasoline\n"
          ]
        }
      ]
    },
    {
      "cell_type": "markdown",
      "source": [
        "**7. Create a base class called \"Employee\" with attributes like \"name\" and \"salary.\" Derive two classes, \"Manager\" and \"Developer,\" from \"Employee.\" Add an additional attribute called \"department\" for the \"Manager\" class and \"programming_language\" for the \"Developer\" class.**\n",
        "\n",
        "**Ans 7:**"
      ],
      "metadata": {
        "id": "gE-VRwNzH4_l"
      }
    },
    {
      "cell_type": "code",
      "source": [
        "class Employee:\n",
        "    def __init__(self, name, salary):\n",
        "        self.name = name\n",
        "        self.salary = salary\n",
        "\n",
        "class Manager(Employee):\n",
        "    def __init__(self, name, salary, department):\n",
        "        super().__init__(name, salary)\n",
        "        self.department = department\n",
        "\n",
        "class Developer(Employee):\n",
        "    def __init__(self, name, salary, programming_language):\n",
        "        super().__init__(name, salary)\n",
        "        self.programming_language = programming_language\n",
        "\n",
        "manager = Manager(\"Shahid shaikh\", 75000, \"Operations\")\n",
        "developer = Developer(\"Saniya shaikh\", 60000, \"Python\")\n",
        "\n",
        "print(\"Manager Information:\")\n",
        "print(\"Name:\", manager.name)\n",
        "print(\"Salary:\", manager.salary)\n",
        "print(\"Department:\", manager.department)\n",
        "\n",
        "print(\"\\nDeveloper Information:\")\n",
        "print(\"Name:\", developer.name)\n",
        "print(\"Salary:\", developer.salary)\n",
        "print(\"Programming Language:\", developer.programming_language)\n"
      ],
      "metadata": {
        "colab": {
          "base_uri": "https://localhost:8080/"
        },
        "id": "5K0imIRfIqSW",
        "outputId": "9567d11f-b089-4ccb-a8a6-b28dcb77af0c"
      },
      "execution_count": 8,
      "outputs": [
        {
          "output_type": "stream",
          "name": "stdout",
          "text": [
            "Manager Information:\n",
            "Name: Shahid shaikh\n",
            "Salary: 75000\n",
            "Department: Operations\n",
            "\n",
            "Developer Information:\n",
            "Name: Saniya shaikh\n",
            "Salary: 60000\n",
            "Programming Language: Python\n"
          ]
        }
      ]
    },
    {
      "cell_type": "markdown",
      "source": [
        "**8. Design a base class called \"Shape\" with attributes like \"colour\" and \"border_width.\" Create derived classes, \"Rectangle\" and \"Circle,\" that inherit from \"Shape\" and add specific attributes like \"length\" and \"width\" for the \"Rectangle\" class and \"radius\" for the \"Circle\" class.**\n",
        "\n",
        "**Ans 8:**"
      ],
      "metadata": {
        "id": "gc2ZA11LHczG"
      }
    },
    {
      "cell_type": "code",
      "source": [
        "class Shape:\n",
        "    def __init__(self, colour, border_width):\n",
        "        self.colour = colour\n",
        "        self.border_width = border_width\n",
        "\n",
        "class Rectangle(Shape):\n",
        "    def __init__(self, colour, border_width, length, width):\n",
        "        super().__init__(colour, border_width)\n",
        "        self.length = length\n",
        "        self.width = width\n",
        "\n",
        "class Circle(Shape):\n",
        "    def __init__(self, colour, border_width, radius):\n",
        "        super().__init__(colour, border_width)\n",
        "        self.radius = radius\n",
        "\n",
        "rectangle = Rectangle(\"Blue\", 2, 10, 5)\n",
        "circle = Circle(\"Red\", 1, 7)\n",
        "\n",
        "print(\"Rectangle Information:\")\n",
        "print(\"Colour:\", rectangle.colour)\n",
        "print(\"Border Width:\", rectangle.border_width)\n",
        "print(\"Length:\", rectangle.length)\n",
        "print(\"Width:\", rectangle.width)\n",
        "\n",
        "print(\"\\nCircle Information:\")\n",
        "print(\"Colour:\", circle.colour)\n",
        "print(\"Border Width:\", circle.border_width)\n",
        "print(\"Radius:\", circle.radius)\n"
      ],
      "metadata": {
        "colab": {
          "base_uri": "https://localhost:8080/"
        },
        "id": "6SNCwxiNI9Pf",
        "outputId": "879bc88d-785c-457d-c219-40f1ebde09a1"
      },
      "execution_count": 9,
      "outputs": [
        {
          "output_type": "stream",
          "name": "stdout",
          "text": [
            "Rectangle Information:\n",
            "Colour: Blue\n",
            "Border Width: 2\n",
            "Length: 10\n",
            "Width: 5\n",
            "\n",
            "Circle Information:\n",
            "Colour: Red\n",
            "Border Width: 1\n",
            "Radius: 7\n"
          ]
        }
      ]
    },
    {
      "cell_type": "markdown",
      "source": [
        "**9. Create a base class called \"Device\" with attributes like \"brand\" and \"model.\" Derive two classes, \"Phone\" and \"Tablet,\" from \"Device.\" Add specific attributes like \"screen_size\" for the \"Phone\" class and \"battery_capacity\" for the \"Tablet\" class.**\n",
        "\n",
        "**Ans 9:**"
      ],
      "metadata": {
        "id": "niPGhMtQJlYY"
      }
    },
    {
      "cell_type": "code",
      "source": [
        "class Device:\n",
        "    def __init__(self, brand, model):\n",
        "        self.brand = brand\n",
        "        self.model = model\n",
        "\n",
        "class Phone(Device):\n",
        "    def __init__(self, brand, model, screen_size):\n",
        "        super().__init__(brand, model)\n",
        "        self.screen_size = screen_size\n",
        "\n",
        "class Tablet(Device):\n",
        "    def __init__(self, brand, model, battery_capacity):\n",
        "        super().__init__(brand, model)\n",
        "        self.battery_capacity = battery_capacity\n",
        "\n",
        "phone = Phone(\"Apple\", \"iPhone 12\", 6.1)\n",
        "tablet = Tablet(\"Samsung\", \"Galaxy Tab S7\", \"8000 mAh\")\n",
        "\n",
        "print(\"Phone Information:\")\n",
        "print(\"Brand:\", phone.brand)\n",
        "print(\"Model:\", phone.model)\n",
        "print(\"Screen Size:\", phone.screen_size, \"inches\")\n",
        "\n",
        "print(\"\\nTablet Information:\")\n",
        "print(\"Brand:\", tablet.brand)\n",
        "print(\"Model:\", tablet.model)\n",
        "print(\"Battery Capacity:\", tablet.battery_capacity)"
      ],
      "metadata": {
        "colab": {
          "base_uri": "https://localhost:8080/"
        },
        "id": "76q1gSr9JlkW",
        "outputId": "5a196d7d-5358-4822-b16b-6acd8cfea734"
      },
      "execution_count": 11,
      "outputs": [
        {
          "output_type": "stream",
          "name": "stdout",
          "text": [
            "Phone Information:\n",
            "Brand: Apple\n",
            "Model: iPhone 12\n",
            "Screen Size: 6.1 inches\n",
            "\n",
            "Tablet Information:\n",
            "Brand: Samsung\n",
            "Model: Galaxy Tab S7\n",
            "Battery Capacity: 8000 mAh\n"
          ]
        }
      ]
    },
    {
      "cell_type": "markdown",
      "source": [
        "**10. Create a base class called \"BankAccount\" with attributes like \"account_number\" and \"balance.\" Derive two classes, \"SavingsAccount\" and \"CheckingAccount,\" from \"BankAccount.\" Add specific methods like \"calculate_interest\" for the \"SavingsAccount\" class and \"deduct_fees\" for the \"CheckingAccount\" class.**\n",
        "\n",
        "**Ans 10:**"
      ],
      "metadata": {
        "id": "GW7wF1OnJlvP"
      }
    },
    {
      "cell_type": "code",
      "source": [
        "class BankAccount:\n",
        "    def __init__(self, account_number, balance):\n",
        "        self.account_number = account_number\n",
        "        self.balance = balance\n",
        "\n",
        "class SavingsAccount(BankAccount):\n",
        "    def __init__(self, account_number, balance):\n",
        "        super().__init__(account_number, balance)\n",
        "\n",
        "    def calculate_interest(self, interest_rate):\n",
        "        interest = self.balance * (interest_rate / 100)\n",
        "        self.balance += interest\n",
        "        return interest\n",
        "\n",
        "class CheckingAccount(BankAccount):\n",
        "    def __init__(self, account_number, balance):\n",
        "        super().__init__(account_number, balance)\n",
        "\n",
        "    def deduct_fees(self, fee_amount):\n",
        "        if self.balance >= fee_amount:\n",
        "            self.balance -= fee_amount\n",
        "            return fee_amount\n",
        "        else:\n",
        "            return 0\n",
        "\n",
        "savings = SavingsAccount(\"123456\", 1000)\n",
        "checking = CheckingAccount(\"789012\", 500)\n",
        "\n",
        "interest = savings.calculate_interest(5)\n",
        "fee = checking.deduct_fees(20)\n",
        "\n",
        "print(\"Savings Account Balance:\", savings.balance)\n",
        "print(\"Checking Account Balance:\", checking.balance)"
      ],
      "metadata": {
        "colab": {
          "base_uri": "https://localhost:8080/"
        },
        "id": "lVvVD3-2KkEh",
        "outputId": "488ea850-c24e-419a-bf5b-e748d0def718"
      },
      "execution_count": 13,
      "outputs": [
        {
          "output_type": "stream",
          "name": "stdout",
          "text": [
            "Savings Account Balance: 1050.0\n",
            "Checking Account Balance: 480\n"
          ]
        }
      ]
    }
  ]
}