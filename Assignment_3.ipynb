{
  "nbformat": 4,
  "nbformat_minor": 0,
  "metadata": {
    "colab": {
      "provenance": [],
      "authorship_tag": "ABX9TyOWLnjh1eu8+yNJo9JLVJmP",
      "include_colab_link": true
    },
    "kernelspec": {
      "name": "python3",
      "display_name": "Python 3"
    },
    "language_info": {
      "name": "python"
    }
  },
  "cells": [
    {
      "cell_type": "markdown",
      "metadata": {
        "id": "view-in-github",
        "colab_type": "text"
      },
      "source": [
        "<a href=\"https://colab.research.google.com/github/Shahidshaikh25/Assignments/blob/main/Assignment_3.ipynb\" target=\"_parent\"><img src=\"https://colab.research.google.com/assets/colab-badge.svg\" alt=\"Open In Colab\"/></a>"
      ]
    },
    {
      "cell_type": "markdown",
      "source": [
        "**1. Why are functions advantageous to have in your programs?**"
      ],
      "metadata": {
        "id": "1-Xchqqxz7Px"
      }
    },
    {
      "cell_type": "markdown",
      "source": [
        "**Ans 1:** \\\n",
        "Functions reduce the need for duplicate code. This makes programs shorter, easier to read, and easier to update.\n"
      ],
      "metadata": {
        "id": "d6RJPbij16-N"
      }
    },
    {
      "cell_type": "markdown",
      "source": [
        "**2. When does the code in a function run: when it's specified or when it's called?**"
      ],
      "metadata": {
        "id": "iDizO06k2zPe"
      }
    },
    {
      "cell_type": "markdown",
      "source": [
        "**Ans 2:** \\\n",
        "The code in a function executes when the function is called, not when the function is defined."
      ],
      "metadata": {
        "id": "3LoAKGTt27m-"
      }
    },
    {
      "cell_type": "markdown",
      "source": [
        "**3. What statement creates a function?**\n"
      ],
      "metadata": {
        "id": "C31_6Ybw3Odf"
      }
    },
    {
      "cell_type": "markdown",
      "source": [
        "**Ans 3:** \\\n",
        "**def** function defines, i.e. create a fuction"
      ],
      "metadata": {
        "id": "EQuz8HRi35WI"
      }
    },
    {
      "cell_type": "code",
      "source": [
        "#Example\n",
        "def myfirst():\n",
        "  print(\"Are you mad\")\n",
        "\n",
        "myfirst()"
      ],
      "metadata": {
        "colab": {
          "base_uri": "https://localhost:8080/"
        },
        "id": "3iKLpGE74Yco",
        "outputId": "3a33bdc7-3f25-44f9-99f7-8a0476863dae"
      },
      "execution_count": 2,
      "outputs": [
        {
          "output_type": "stream",
          "name": "stdout",
          "text": [
            "Are you mad\n"
          ]
        }
      ]
    },
    {
      "cell_type": "markdown",
      "source": [
        "**4. What is the difference between a function and a function call?**"
      ],
      "metadata": {
        "id": "0RhMOhRi4qHc"
      }
    },
    {
      "cell_type": "markdown",
      "source": [
        "**Ans 4:** \\\n",
        "**function:** A function consists of the def statement and the code in its def clause. \\\n",
        "**function call:** A function call is what moves the program execution into the function, and the function call evaluates to the function's return value."
      ],
      "metadata": {
        "id": "q__3JZ864vFz"
      }
    },
    {
      "cell_type": "code",
      "source": [
        "#Example\n",
        "\n",
        "#function\n",
        "def myfirst(a):\n",
        "  print(a, \"Are you mad\")\n",
        "\n",
        "#function call\n",
        "myfirst(\"shahid\")"
      ],
      "metadata": {
        "colab": {
          "base_uri": "https://localhost:8080/"
        },
        "id": "sPXr1xy75ZG8",
        "outputId": "18f4cfd2-9e2d-4362-f0e2-cd6bef5b6b6b"
      },
      "execution_count": 3,
      "outputs": [
        {
          "output_type": "stream",
          "name": "stdout",
          "text": [
            "shahid Are you mad\n"
          ]
        }
      ]
    },
    {
      "cell_type": "markdown",
      "source": [
        "**5. How many global scopes are there in a Python program? How many local scopes?**"
      ],
      "metadata": {
        "id": "npUJhC9j6S7Q"
      }
    },
    {
      "cell_type": "markdown",
      "source": [
        "**Ans 5:** \\\n",
        "There is one global scope, and a local scope is created whenever a function is called."
      ],
      "metadata": {
        "id": "HVQ3C06E6S-m"
      }
    },
    {
      "cell_type": "markdown",
      "source": [
        "**6. What happens to variables in a local scope when the function call returns**"
      ],
      "metadata": {
        "id": "FtdHjq-B6TH3"
      }
    },
    {
      "cell_type": "markdown",
      "source": [
        "**Ans 6:** \\\n",
        "When a function returns, the local scope is destroyed, and all the variables in it are forgotten."
      ],
      "metadata": {
        "id": "Gsho6Ok66XMW"
      }
    },
    {
      "cell_type": "markdown",
      "source": [
        "**7. What is the concept of a return value? Is it possible to have a return value in an expression?**"
      ],
      "metadata": {
        "id": "RpJZIeiU6p48"
      }
    },
    {
      "cell_type": "markdown",
      "source": [
        "**Ans 7:** \\\n",
        "A return value is the value that a function call evaluates to. Like any value, a return value can be used as part of an expression.\n"
      ],
      "metadata": {
        "id": "v-UJ83vB6va7"
      }
    },
    {
      "cell_type": "markdown",
      "source": [
        "**8. If a function does not have a return statement, what is the return value of a call to that function?**"
      ],
      "metadata": {
        "id": "U643_LFS69_Z"
      }
    },
    {
      "cell_type": "markdown",
      "source": [
        "**Ans 8:** \\\n",
        "If there is no return statement for a function, its return value is \"None\"."
      ],
      "metadata": {
        "id": "y8uphShW7HXS"
      }
    },
    {
      "cell_type": "markdown",
      "source": [
        "**9. How do you make a function variable refer to the global variable?**"
      ],
      "metadata": {
        "id": "6GHUjK5z7WpT"
      }
    },
    {
      "cell_type": "markdown",
      "source": [
        "**Ans 9:** \\\n",
        "A global statement will force a variable in a function to refer to the global variable."
      ],
      "metadata": {
        "id": "tKNyrqDN7aCf"
      }
    },
    {
      "cell_type": "markdown",
      "source": [
        "**10. What is the data type of None?**"
      ],
      "metadata": {
        "id": "SWBnQ7lf7lnj"
      }
    },
    {
      "cell_type": "markdown",
      "source": [
        "**Ans 10:** \\\n",
        "The data type of None is \"NoneType\""
      ],
      "metadata": {
        "id": "ugw6hbv-7raI"
      }
    },
    {
      "cell_type": "markdown",
      "source": [
        "**11. What does the sentence import areallyourpetsnamederic do?**"
      ],
      "metadata": {
        "id": "1XuC473e71J7"
      }
    },
    {
      "cell_type": "markdown",
      "source": [
        "**Ans 11:** \\\n",
        "That import statement imports a module named areallyourpetsnamederic."
      ],
      "metadata": {
        "id": "0KUK17MF7988"
      }
    },
    {
      "cell_type": "markdown",
      "source": [
        "**12. If you had a bacon() feature in a spam module, what would you call it after importing spam?**"
      ],
      "metadata": {
        "id": "tkRDBkzl8MQp"
      }
    },
    {
      "cell_type": "markdown",
      "source": [
        "**Ans 12:** \\\n",
        "This function can be called with \"spam.bacon()\"."
      ],
      "metadata": {
        "id": "9Lwlb8qg8caV"
      }
    },
    {
      "cell_type": "markdown",
      "source": [
        "**13. What can you do to save a programme from crashing if it encounters an error?**"
      ],
      "metadata": {
        "id": "L3oTdOei852i"
      }
    },
    {
      "cell_type": "markdown",
      "source": [
        "**Ans 13:** \\\n",
        "Place the line of code that might cause an error in a try clause."
      ],
      "metadata": {
        "id": "jURrdfBz89rq"
      }
    },
    {
      "cell_type": "markdown",
      "source": [
        "**14. What is the purpose of the try clause? What is the purpose of the except clause?**"
      ],
      "metadata": {
        "id": "hRemDx8Y9MRx"
      }
    },
    {
      "cell_type": "markdown",
      "source": [
        "**Ans 14:** \\\n",
        "The code that could potentially cause an error goes in the try clause. \\\n",
        "The code that executes if an error happens goes in the except clause.\n"
      ],
      "metadata": {
        "id": "PDPinM4d9OUO"
      }
    }
  ]
}